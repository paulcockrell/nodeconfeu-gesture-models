{
 "cells": [
  {
   "cell_type": "markdown",
   "metadata": {
    "colab_type": "text",
    "id": "Y82-GzNLIeRT"
   },
   "source": [
    "<img src=\"data:image/png;base64,iVBORw0KGgoAAAANSUhEUgAAAc4AAABtCAMAAAAfx3F2AAABaFBMVEX///8sNYEqM4AoMX8eKXwjLX4hK30AEnXp6vIlL34AFXUcJ3v09PlES44ACnObn8F1eaWoqsQSIHnMzt7T1eOgo8JnbKHd3+uTl7oyO4X4+PtPVpKAOnhKUI9yvkTtKGtbYJjdMDFjyuXe4CCDh7C2udIUInkKG3fBxNlVW5M7Q4jc3elscaOIjLTJytnm5/C8vtThKygAAGuvssxSWHVMU5np6zONkbdkcKRGPoabU4+/X5NzSIroSoH1OnS/Vo7pPHfjUod4QIXdWY2qXJODQYVYRYpjWJR/dKRvOnKnX3yWTHKMVouANHRzZpvHUmG6UWeKSICLYZRdMXKyXHfjRkVcPXvKXm18VoWTVoEyUZBFTYNwttScn4zd31aTl3K0t4WdoWp/wNt0eI/k5kGytZWOkYN6f2VfhrNvoMXa3F1+g49iZ2+Dz+ilqGA8UH1ok3Z8v1lurF1TcnlIaXU8aGZxo21Yf3Mq2ZZtAAAUdElEQVR4nO2d/Z/btn3H+Sw+niiIeiBpOkyiAyRKOslWHMVJ1nV9SNbOTestWds4TZeu29JsWZZ0a//9kQRIAiTIO/vO0Z1f/PyQ+PgkkG8C+D4AoCD06tWrV69bLC84dQl63Zh2UyAeTl2IXjcje+gDX4NT79QF6XUD2jsALmZ7HygL+9Rl6XVNefEArbJ6GQwtBCZ9F3qXpbsWivbFHwsIkn3n8b1usexJ2mnOqQo5ji0wXZ+uQL2uoX2IkDtjNgUHEanbvgu9e/Ji01xhYzY4f8cPj7hWBnMLwckpC9br+aUvDOSc43/Pwsfvvvfe+yKBuFsAGC1PV7Rez6vgkABxTtpUO3z/b1577bUf/K1URBLGEYSb3clK1+v5FGyQuSktnuHjH76W6z217DRHioV6nndEQQzOq7/89zDN137oVFsDx+xx3hEFMRpXf539HcH5gx+Nqq3xoMd5R1TD+eMe590UcTJZnMlPisY2oezZEqfee6G3U7MpinJHk8V5/pi0tu/61MEEZzCHfersNkqfi0CC6mJXxylsHv/4B2nd/IlIb8Q49xFQFRj3qbPbpkOWBlvPNeRP6jgD1//Ruz/9wGdCBxnO2QaAcLxMgOX2Le5tkhebKMzq2G6DkLNncQrCeii5ezY3lh5yHKAkb2iHWp86u0Xabag02Dg2FQmwOIXAr7ensSoDeUgY5qmzc6HXLVA9DRaMHEOrZU1sv8b3wpcNOs7nxVY/+uQ26DxqpMF2kQQTxl6t4dy5UIa1RPbBR/3ok1Or7DRpBbHqAORQBBmc9tFEYjPIFwwVBEd9F3o67RYKcpp9XmbZjlfIqsLwFM7g4ANpbk85UaFd2oVG/eiTE8ke+VUajFbuqAT03grneAWs6awtyDcOobWZcXb0etmyYzDYcAf+EL9zt0DA0fGxBc6JCXCory1mezAA6G3cE0h3EOk0l27s7qlaWoYRZrKMoZU4t2CL/8Hi9I7xOxOywQXDl1jqXi3SnbP8/7NV8uHff+hElUFURYV8qY7TJBYvjTNw/Z/9/B9+5uNdI7PHeQIRnHr00ZOnv7j35KOk5PO8ODePf/n6gwev/0rO9/U4TyKCc+ukMO/d+8XTD6fFnufEOZZ/+eD1VA9+5Wc9bY/zJCI41X/MaKY8n5hF9xnEgIzaa8WpRxVO9+nrRP+U5bd7nCcRxun5P71H5BQpk8AFKrZ5W3DakwSqJc7w4weY5oOnR6HHeSIVOAua96rBBkHqbhhZ2JaPcxxi35Mo/HmB80mP82Qija32BDe2955AylexjwiJBx7O/Wxjmsyw6cUT0tZ+8s830dgG30fgd+ctx57+PfzQ9yaC0/3gKcb5IaiF2RFwfBHjLBNkWyuSkc+E53XX/zU2hT5OGqaQR1QL5c7w1noQY3aYJqJsyH60WDagzjxGsxemnv6KpGqKphoJ52dqsrHqoeiWzZfL5ivbtb7IRZcIb7nSJK/CUXE+fJoZth8lrsoGiZYhlOUUo70+zEV3MtbTwruqJh7ptzo4JOE70a8/efDgk4/9hqNiR6qRyarNanGtbKsyZTaONz5UJUkSJUnWLGdi884pJCWhe15nsZ3yFDPDKGaL8lfE9Gei+s+wmkUhFhsDC6b59ojc1tpdcORyBlHZccjTKru8OwCpLJrBw2zLwO0qYaEijOBFjz94/4PH/lLwYkRP/xOCkSaJ80WCTBMic2DFk1gzYga5F8JJICz83/z2t79R8LhNFqchZpINNmvjqtlWlcaZ2V+SWEmuT4TB55SSZBU4I+YIYcoQL4SooGMwNzT6V9Kfcbrm26w1Q85Ue/OCSM22wjn+cww0tSmwaF5PT/D1WBl+hnOhZbfl0893kBVR41yHc2WCUxD2i6l7yDkufci8Ur4kWQhFi9FoNNmIA2CIFh2QnW0e4qq6nrvuhFRaFqeMn5ohMr+N0RjUM1r6iliTbG70xjnsEdBnEjjT5iGpqMysHkGpvts465gQNzPI8QU5rADfl1Lg1BpXbcGgO7wjpRvFSWsiO1S0T5TTRq94poHnyqpS3bs9587d5eIUFaZMjdo5UWTObVrRrH5OAyh93ctwzpLiACmrFGT3oqMHLHGK2gW1+Ro4eff58nBmSUuXdBS2q0hsAs2bWuWAvvPE5zZTfJwSpKt1vXYeAO95pMAjvXZO40lYm4rGJThnkVqcJDph5MhWhsTtsmcqnEZCHXclnEo7TkNhZMnZa/tScKbMHDMvZrABzNDaXFvTyCF6q7Mh/znwcYpSQlkTNZxjwIWZ3UpcO6epIscjFDglCBg9LF6kEF9BgsloracO0XgIFMNnrIV61q/CydDh45QAonXGMWFwY2tMh3NGw6zSvCScaWfqZ13kBvkcz2wCU9tr5z5sHRfUglNUw+oYtrHVE14LhAWP7DkcodIgynFKiaezIsAWVn64QQ3bD46g6lqWLhqggeLSrSqFU0TUeTycctT2PCthnBZ34sBLwykIcymeWwnX4TnCaGh0DHxvw1nevFCvnW7DCqKkeMw5HElScUiOU0744QEPYZoOM1qivEVvpeSWtaQp06qO0jilanRqC87L3VDc2MLvG2c2wh3yRxUEsdI5LaUVp1jFKZja6RkdNEV1w5zDPSQmh3TixOfLSb09xbqQSjdJ0pKyoDROqn25Gzjp4kzApr6byENOV7l5OLEVaThFA83Uzk0rJ/wQPfocrhB5BF04Z9hF0fhepmfR750hFpcocOL/WkXLfw2cL6+xrY2ttI9woVd7B63tqWtW3sq5H7HmUrBFDZzyBht0ClvTcO20B500y7vpwFkc0oUzf1iixo+w2A7bQhgJ2UFwSiGmbZJ+9RbitEMozqs7D7K194A/IhVoiZzWM5egMEm9KYRQWVCvxXJlgaqwBKcy2cP8qZDAEYPzALtxygl9Dv8QYp524AxWGTAJ8uOfE6t2RUCcG4LT2m/yt0F2SAz7RXHaeTGskRAwyvddD2fqYVqgHOy+ngKwWm4gWuHWaIs6YiUQd0D20UgvMFSBXxy7c9NLUpZhgXNIzB1JxXYI3dhutW6cokyfwxdpbYlluxOaz2rm5x5CzL+hhmldGN0EJ1zufHwnuHY/F077fFI1dMPsxZFDNqqML3NNnGQpqKyt1BcDnCe5cJCZD5SNrYbLWSnOzfuRgsA2wLPO8lypPQfIYMKodnnbgZT/i1gTFM4gbvdSsJQldQ5fpPUificyKQ20vLKOlbyV47+jY7UeBpAAbqVKnMLezHfgJbK4OCU/plS26p4KrEEZ6/ByF1tmgsoQH3ttnGnbGCG4mU1UJBVBgUMClONsIYsdaZmt5VwsHQCK8NE4NkHsHXwAa6OwK5yp/Yqbrdzppxpb278MJ2HVhVPDNgovKiThtvcif4wtxvq+6SkRK7zCWbitIHsuLWEEQzZkGf/HKnDacta8VrFI1CyiemM4hWCYaKIiulX3Z299TdRkvyNxNLQMWTVWVf0NDpEmWnJjFDaFEzczxLSkaqct8uN7lchD68Kp4jvuwIl7R8hvcjjdN8RNAoUzwOaSEdpXCfIphRG8zN8jqTTqObd7gziFXaxaqk+/tV6iWpLUjVPSNJn+FXtqpF54oymjcQb4YRvZ46Vx+pfixFG8ztqJH8iL4jyvW0JpJWzgFMbk38er4LQK8x6/KpV9hvtwjdbNNbb2EQH/MEVmGeaZuWcoPE9Uv2OhmblizY8QyIUdZQ8R0CYuAknNq6NxCjruobQp29h2RPgIzuetnRakBMTLG9ul0sBBnDgaZ+qK5+9HepGWxpb6YbNgsM773CoCkbXrRswmurG9cW2cwchH+bSifYS0vL21jzKeIR9qHabQFKW3t94gGOZW7MEB1lbPutC0I2a8VQansMSefGpN0KbQqjMoJF6p7yQ/gHH6o3NGuVHQaQrZUsMUIpESBqdAvBV/xzeFEvpXqwgYkGVVKf7Ukdjmd26V6+Ecr8r5Xvny/RM79T0lHFt3UcfEIV/Mz9pHwFrsMt+T1O1ssqBIT9xmcQpu/jhSb2VB+Z1dmPLDtcstW5ID6/A7152OSqOV1kiahsWpi9g8j4Pw6iH4YBg5cQn3PGt7+UG+kXUdnMECIWpgxcw1kQ/MYkb8wWyL8aXdLVjhd9ceQmAYSKzI6wtEO54Ep0VumwRfjBg7Jxhnw4Wv4ySjCTv9TkywKyqEwwiAP1txXL92ETBjcQp70r4M+Thbwgj02MT8Lq6M07w6Tj0B7FW9eFDh3fmo1RaaozJrZS+Awo7DnE1RlTmp1U7Bw52MgbtLHEbAnUu7DPLSd+A04kujQrgpK4zI5l4m4yqVhkwNp7DFNjCJ5N5skO+Q46RHPcwQ8/QuuXIjBE8PU1ygYX03kS0a9CIXdZOJE4KvCjSiHxsJvVxiCxWvcgfO4pArhOBlfgg+2NCDiCovsY7TjulS3GxGZZm/cBYVh8lbZrG+CkXblbsSZMIQ+i3TqI/Q6VpesROnEFOGD8moHLrSnaJMZgx34JQ08hyvkCAzWhJkgasUJTOsajxjHWcRDXlxnO21c6bWe+C8yJJ1pRVhOnF6sRnBKXfXEspR12rw3Th1o6qLBGfgdNm2xeynDpxlabrT12f5wSrLs3pll5FpKZpimXSKqIFTGFFhnZvFSSIM1eR17AmU7/NlV27FiceOONyMp6elftfBt1pHp3bjpH28Is69bI6WLKWGxTNqxamVrx3B2dLpb8ngErVaXsXe0mnA2WS+mB9Y2g2cxFt5YZzZA9GO47qynUcSRjzm79hsiPvplpxe88otOO25GGbm1TqBzVFuSx9u82PUtvEll+AsnqpIDf06tubIJKusPm04qeaT+BvhilFIDLegGPqlhaOdbtu6N080ozMVz8OpJ2Vj8qI4Rbk2wlrLFyOd4fC1pPnhdLMiA48lqyN4zlyZj3Pp+HgMteAlgB3zLgQTFRKPbD1F/A+qXIbTDstOqsAZTNuSZErVLLXglKl4B8HJ5iuqaPjaITwNy3Li0IHZ4N4rDcykcRKT5UVxktENrEhOl9THtICGWo7X3l5yyfLKPJxe/HBYUtrJKnApoOcRUKqrj31Qm1SQ6zKcwmxASloNm7Ydrjkk0atm8HGqKlU+/jjbyjmhhk1LRjFsGnTx5OGsGpMXx1l/J0mKflHPt0gtBgzvygVOfXxxgRssfTFw6b7Dl0QLOvMLb7b29q4EVHZSw8iXsJdkjw+HMbkZzhwVi/WcRpZUwynYG07/aWi0ycDDKYMpbSdchlPQQ6s5qaErUc/FKazUGk4lq2LG1RvbNpzC3NKoAyS1Gpd6+ZUJzpHz6aefJkc7bUprA3/WsqSsImgiNREVE4mxbyjMpCT9mC8Ntn/07K23nj3CnSlnBhmsOcIbPDWInscTzI1aDlm2IqZ3buCUZJiwi8ZNVYkjxaV/RmTb9cbMJlZraGU6Y12/nYU3m+Rhj/0kU3gFnD4+syZYTuFZuwlUcCehQX9z9VUrC5zH5LOv3/j6szBeRirzdOyjKhmjQL+YTx3Dj9zDWvBC2YoZ4tmssxH43edvv/3573EvxpvfWfP1bI8zv9OLFSqxoVp+baoePSFQ1TTL0qJJzYTn42QjQWtXsYoXR9LSX+l0A+xJrmHNBV+SzeRRBLtZqt0VPnYQjCZcUb3WbjnfZNMNp9vl86yfRnDu/a/fyBWfHZm3a6SCtI/AN1tO13VVFaApU+6lc/Yvb7+Z6u0vpOwCLz77OrU0Uf7yQmRNz+uv+pEeubE4jvYv+qkI/bCRTAQQMpPtq7OCIMHpfIZpvvEHxjJaRgC6s6Q+md4Fh0OC1CNdcYb/+sc3sd7KOtZrTabX98Ph8LB86V9Ot71xIzp5t4Vx2lKB8w1qkdPdRgNZn9JYG8FFh9ReUoFDGSnh7wjNN3+fxTr7pS5OIoxTTwqab1STzicW0PLF3bk48zw1issK+ujfCpxfxEKP80Qija1V1k6zsEyClUWGw7fgzIJDZ2U/Pf33twnO/8gs2B7nSURwbr4kNP+kFXs6FnErcNKLuJ1HX2Ganz/LjupxnkQE59r/U07zM6MMEDwnTsH5z88zmn/8rzxk3+M8iQq/c4++/OzrP3xpVvGH58Wp+8+++Oqr/36Gu9Me50mkOwMy4mfrWLJLxR9KnIFYX554U6Qf2eWJJ48QCEntPrYOY+j1EqU7lkN89cBmAjAFzmWo1XG6iKwSVVs8PChWwJq5htl/6fwU8lYQcD9lg3HuNhAUH98ocepbBS/OxF8LPjiKQOpeR6vXS9PBR4NFM2aZ4QyOkJoNRn14Yz3NZ51xce59hDjX6/U9KRiqQG18eyOIrYUPALWd+SzOMkRwump++3ocAdR/uOq02m1UENW+/hesDEVhZoOxH60KJgmUQQ3cbqGAqP/kxsl1EQHILMamu6JcmztU/6TcbqHKdNg2reY+UoZ9p3kbdBDBYFuuvDc0oYRqHaDd/OCjbKGwZJx1mm7fad4S2XMZiDh1nU2+XkQmiyZYiqNaVxnDYdqF4k8LjmPYd5q3SrOpBsKl4E0BjL0gHjA4zx89++abhF21LbVsAzzrzF6oIGkkm3udVssEgVjNF7yo4ZxY//Pt/fvfvfWI5pk7KjMXoSgB8Ni3s7dPBwPhIXcszrHx3f1cf6bHCBK/0wsR2rxaaf1XRvqQLILE4Iz/imne/5aeeliGEQ5dA+F63QKxOB+Synn//v9SrknbBx973TrVcH5b4Pw/Krbe47wzCmKTGuF5xq2dYTPI1+t2KlhB51B6Hu6fCc3v5LLOzjbGWf9N5Lui9RSCcr7fWvwLqZzFaPLg6AOxZSX4XrdR5wkyi1TXufnXtPv8yzdkPQnh3Ad9RO+uaSKmXihZNnIjnVmPSMfZp8HupnauChySOtN13SYb+zTYXdU4BOzok2AoAq1Pg91ZnUtVF9qnwe6+gqEExAlepHDVp8HuvshkMn1h9GmwV0LLCIFpnwZ7dXQQ006zD+q9MtLnfRqsV69eva6q/wfWDUSHHWIuCQAAAABJRU5ErkJggg==\" alt=\"NodeConfEU 2019 logo\">"
   ]
  },
  {
   "cell_type": "markdown",
   "metadata": {
    "colab_type": "text",
    "id": "ztLVE0dgsrVE"
   },
   "source": [
    "# Creating machine learning model for gesture detection"
   ]
  },
  {
   "cell_type": "markdown",
   "metadata": {
    "colab_type": "text",
    "id": "B_ptMsFanrrE"
   },
   "source": [
    "Hi, this is the Google Colab for the NodeConfEU 2019 Bangle.js workshop. This document will help you understand how the built-in machine learning model for detecting gestures works and also allow you to extend the model with your own gestures. No understanding of machine learning is required and if you get stuck we are here to help."
   ]
  },
  {
   "cell_type": "markdown",
   "metadata": {
    "colab_type": "text",
    "id": "mUq9BRUonjgA"
   },
   "source": [
    "## Introduction"
   ]
  },
  {
   "cell_type": "markdown",
   "metadata": {
    "colab_type": "text",
    "id": "a8Pz30nsj5ML"
   },
   "source": [
    "The gesture recognition works by measure acceleration via the accelerometer that is built into the watch. This acceleration is relative to the watch and does therefore not provide an exact way to measure position, for example, relative to your head. However, it is still possible to recognize a few simple gestures.\n",
    "\n",
    "The watch comes with a set of pre-trained gesture:\n",
    "* swipeleft: an arc on the left side.\n",
    "* swiperight: an arc on the right side.\n",
    "* upup: hand moving up in two steps.\n",
    "* waggle: rotating the arm side to side.\n",
    "* clap2: two claps with the hands.\n",
    "\n",
    "The firmware also attempts to filter out steady motion, to save power. Additionally, there is a `random` gesture which is for undefined hand moments, such as scratching your head.\n",
    "\n",
    "All of these pre-trained gestures may not suit you, as they make assumptions about speed, movement, if the watch is on the right or left hand, etc.. However, using this document you will be able to understand how the model is created and create your own model that fits your movements and needs.\n",
    "\n",
    "_Note, if you are a bit familiar with machine learning we encourage you to develop your own model. But note that the memory and compute capabilities of the watch are very limited. The model's total size should not exceed 20kb. There are also many limitations to what \"TensorFlow 2.0 TFLite for Microprocessors\" can do. But more on that later._"
   ]
  },
  {
   "cell_type": "markdown",
   "metadata": {
    "colab_type": "text",
    "id": "yWi7JUq6nvkn"
   },
   "source": [
    "### How to run the code"
   ]
  },
  {
   "cell_type": "markdown",
   "metadata": {
    "colab_type": "text",
    "id": "ghPH5LdKno8n"
   },
   "source": [
    "Everything is ready, all you need to do is **press Runtime -> Run all**. You can also take it step-by-step, by clicking the ( ▶) button on the left of each code section. Note that set variables remain set, even if you execute previous code, which can sometimes cause issues. To reset the session press _Runtime -> Restart Runtime_."
   ]
  },
  {
   "cell_type": "markdown",
   "metadata": {
    "colab_type": "text",
    "id": "9bae4TEcz_wq"
   },
   "source": [
    "## Setup - that you should not spend time on"
   ]
  },
  {
   "cell_type": "markdown",
   "metadata": {
    "colab_type": "text",
    "id": "--u8D0o9L2Bp"
   },
   "source": [
    "You shouldn't spend much time on this part. This is just to setup your Colab. What is does is:\n",
    "\n",
    "* Set the TensorFlow version to be 2.x, otherwise it will be 1.x.\n",
    "* Clone our GitHub repository, that you can also find at https://github.com/nearform/nodeconfeu-gesture-models.git\n",
    "* Install all dependencies, including the special `nodeconfeu_watch` module, which you will help you load the data, evaluate the model, and export the model."
   ]
  },
  {
   "cell_type": "code",
   "execution_count": 1,
   "metadata": {
    "colab": {},
    "colab_type": "code",
    "id": "sLRTYL8i1tpe"
   },
   "outputs": [
    {
     "name": "stderr",
     "output_type": "stream",
     "text": [
      "UsageError: Line magic function `%tensorflow_version` not found.\n"
     ]
    }
   ],
   "source": [
    "%tensorflow_version 2.x"
   ]
  },
  {
   "cell_type": "code",
   "execution_count": 1,
   "metadata": {
    "colab": {},
    "colab_type": "code",
    "id": "mW5p4fBltLgZ"
   },
   "outputs": [
    {
     "name": "stdout",
     "output_type": "stream",
     "text": [
      "Cloning into 'nodeconfeu-gesture-models'...\n",
      "remote: Enumerating objects: 808, done.\u001b[K\n",
      "remote: Counting objects: 100% (808/808), done.\u001b[K\n",
      "remote: Compressing objects: 100% (425/425), done.\u001b[K\n",
      "remote: Total 808 (delta 445), reused 720 (delta 358), pack-reused 0\u001b[K\n",
      "Receiving objects: 100% (808/808), 1.25 MiB | 1.97 MiB/s, done.\n",
      "Resolving deltas: 100% (445/445), done.\n"
     ]
    }
   ],
   "source": [
    "!rm -rf sample_data nodeconfeu-gesture-models\n",
    "!git clone https://github.com/paulcockrell/nodeconfeu-gesture-models.git\n",
    "!mkdir -p exports"
   ]
  },
  {
   "cell_type": "code",
   "execution_count": 2,
   "metadata": {
    "colab": {},
    "colab_type": "code",
    "id": "edmOuI25usYh"
   },
   "outputs": [
    {
     "name": "stdout",
     "output_type": "stream",
     "text": [
      "Defaulting to user installation because normal site-packages is not writeable\n",
      "Processing /home/erlich/Development/TensorFlow/BangleJS/nodeconfeu-gesture-models/nodeconfeu-gesture-models/nodeconfeu-gesture-models\n",
      "Requirement already satisfied: altair in /usr/local/lib/python3.7/dist-packages/altair-4.1.0-py3.7.egg (from nodeconfeu-watch==0.1.0) (4.1.0)\n",
      "Requirement already satisfied: flatbuffers in /usr/local/lib/python3.7/dist-packages/flatbuffers-1.12-py3.7.egg (from nodeconfeu-watch==0.1.0) (1.12)\n",
      "Requirement already satisfied: matplotlib in /usr/local/lib/python3.7/dist-packages/matplotlib-3.2.1-py3.7-linux-x86_64.egg (from nodeconfeu-watch==0.1.0) (3.2.1)\n",
      "Requirement already satisfied: numpy in /usr/local/lib/python3.7/dist-packages/numpy-1.18.4-py3.7-linux-x86_64.egg (from nodeconfeu-watch==0.1.0) (1.18.4)\n",
      "Requirement already satisfied: pandas in /usr/local/lib/python3.7/dist-packages/pandas-1.0.3-py3.7-linux-x86_64.egg (from nodeconfeu-watch==0.1.0) (1.0.3)\n",
      "Requirement already satisfied: seaborn in /usr/local/lib/python3.7/dist-packages/seaborn-0.10.1-py3.7.egg (from nodeconfeu-watch==0.1.0) (0.10.1)\n",
      "Requirement already satisfied: tensorflow in /home/erlich/.local/lib/python3.7/site-packages (from nodeconfeu-watch==0.1.0) (2.2.0)\n",
      "Requirement already satisfied: entrypoints in /usr/lib/python3/dist-packages (from altair->nodeconfeu-watch==0.1.0) (0.3)\n",
      "Requirement already satisfied: jinja2 in /home/erlich/.local/lib/python3.7/site-packages (from altair->nodeconfeu-watch==0.1.0) (2.11.2)\n",
      "Requirement already satisfied: jsonschema in /usr/lib/python3/dist-packages (from altair->nodeconfeu-watch==0.1.0) (2.6.0)\n",
      "Requirement already satisfied: toolz in /usr/local/lib/python3.7/dist-packages/toolz-0.10.0-py3.7.egg (from altair->nodeconfeu-watch==0.1.0) (0.10.0)\n",
      "Requirement already satisfied: cycler>=0.10 in /usr/local/lib/python3.7/dist-packages/cycler-0.10.0-py3.7.egg (from matplotlib->nodeconfeu-watch==0.1.0) (0.10.0)\n",
      "Requirement already satisfied: kiwisolver>=1.0.1 in /usr/local/lib/python3.7/dist-packages/kiwisolver-1.2.0-py3.7-linux-x86_64.egg (from matplotlib->nodeconfeu-watch==0.1.0) (1.2.0)\n",
      "Requirement already satisfied: pyparsing!=2.0.4,!=2.1.2,!=2.1.6,>=2.0.1 in /usr/local/lib/python3.7/dist-packages/pyparsing-3.0.0a1-py3.7.egg (from matplotlib->nodeconfeu-watch==0.1.0) (3.0.0a1)\n",
      "Requirement already satisfied: python-dateutil>=2.1 in /usr/lib/python3/dist-packages (from matplotlib->nodeconfeu-watch==0.1.0) (2.7.3)\n",
      "Requirement already satisfied: pytz>=2017.2 in /usr/lib/python3/dist-packages (from pandas->nodeconfeu-watch==0.1.0) (2019.2)\n",
      "Requirement already satisfied: scipy>=1.0.1 in /usr/local/lib/python3.7/dist-packages/scipy-1.4.1-py3.7-linux-x86_64.egg (from seaborn->nodeconfeu-watch==0.1.0) (1.4.1)\n",
      "Requirement already satisfied: keras-preprocessing>=1.1.0 in /usr/local/lib/python3.7/dist-packages/Keras_Preprocessing-1.1.2-py3.7.egg (from tensorflow->nodeconfeu-watch==0.1.0) (1.1.2)\n",
      "Requirement already satisfied: wheel>=0.26; python_version >= \"3\" in /usr/lib/python3/dist-packages (from tensorflow->nodeconfeu-watch==0.1.0) (0.32.3)\n",
      "Requirement already satisfied: protobuf>=3.8.0 in /home/erlich/.local/lib/python3.7/site-packages (from tensorflow->nodeconfeu-watch==0.1.0) (3.11.3)\n",
      "Requirement already satisfied: termcolor>=1.1.0 in /usr/local/lib/python3.7/dist-packages/termcolor-1.1.0-py3.7.egg (from tensorflow->nodeconfeu-watch==0.1.0) (1.1.0)\n",
      "Requirement already satisfied: six>=1.12.0 in /usr/lib/python3/dist-packages (from tensorflow->nodeconfeu-watch==0.1.0) (1.12.0)\n",
      "Requirement already satisfied: gast==0.3.3 in /usr/local/lib/python3.7/dist-packages/gast-0.3.3-py3.7.egg (from tensorflow->nodeconfeu-watch==0.1.0) (0.3.3)\n",
      "Requirement already satisfied: tensorboard<2.3.0,>=2.2.0 in /home/erlich/.local/lib/python3.7/site-packages (from tensorflow->nodeconfeu-watch==0.1.0) (2.2.1)\n",
      "Requirement already satisfied: wrapt>=1.11.1 in /usr/local/lib/python3.7/dist-packages/wrapt-1.12.1-py3.7-linux-x86_64.egg (from tensorflow->nodeconfeu-watch==0.1.0) (1.12.1)\n",
      "Requirement already satisfied: google-pasta>=0.1.8 in /usr/local/lib/python3.7/dist-packages/google_pasta-0.2.0-py3.7.egg (from tensorflow->nodeconfeu-watch==0.1.0) (0.2.0)\n",
      "Requirement already satisfied: tensorflow-estimator<2.3.0,>=2.2.0 in /home/erlich/.local/lib/python3.7/site-packages (from tensorflow->nodeconfeu-watch==0.1.0) (2.2.0)\n",
      "Requirement already satisfied: grpcio>=1.8.6 in /usr/local/lib/python3.7/dist-packages/grpcio-1.29.0-py3.7-linux-x86_64.egg (from tensorflow->nodeconfeu-watch==0.1.0) (1.29.0)\n",
      "Requirement already satisfied: opt-einsum>=2.3.2 in /home/erlich/.local/lib/python3.7/site-packages (from tensorflow->nodeconfeu-watch==0.1.0) (3.2.1)\n",
      "Requirement already satisfied: absl-py>=0.7.0 in /usr/local/lib/python3.7/dist-packages/absl_py-0.9.0-py3.7.egg (from tensorflow->nodeconfeu-watch==0.1.0) (0.9.0)\n",
      "Requirement already satisfied: astunparse==1.6.3 in /home/erlich/.local/lib/python3.7/site-packages (from tensorflow->nodeconfeu-watch==0.1.0) (1.6.3)\n",
      "Requirement already satisfied: h5py<2.11.0,>=2.10.0 in /usr/local/lib/python3.7/dist-packages/h5py-2.10.0-py3.7-linux-x86_64.egg (from tensorflow->nodeconfeu-watch==0.1.0) (2.10.0)\n",
      "Requirement already satisfied: MarkupSafe>=0.23 in /home/erlich/.local/lib/python3.7/site-packages (from jinja2->altair->nodeconfeu-watch==0.1.0) (1.1.1)\n",
      "Requirement already satisfied: setuptools in /usr/lib/python3/dist-packages (from protobuf>=3.8.0->tensorflow->nodeconfeu-watch==0.1.0) (41.1.0)\n",
      "Requirement already satisfied: google-auth-oauthlib<0.5,>=0.4.1 in /home/erlich/.local/lib/python3.7/site-packages (from tensorboard<2.3.0,>=2.2.0->tensorflow->nodeconfeu-watch==0.1.0) (0.4.1)\n",
      "Requirement already satisfied: tensorboard-plugin-wit>=1.6.0 in /home/erlich/.local/lib/python3.7/site-packages (from tensorboard<2.3.0,>=2.2.0->tensorflow->nodeconfeu-watch==0.1.0) (1.6.0.post3)\n",
      "Requirement already satisfied: werkzeug>=0.11.15 in /usr/local/lib/python3.7/dist-packages/Werkzeug-1.0.1-py3.7.egg (from tensorboard<2.3.0,>=2.2.0->tensorflow->nodeconfeu-watch==0.1.0) (1.0.1)\n",
      "Requirement already satisfied: requests<3,>=2.21.0 in /usr/lib/python3/dist-packages (from tensorboard<2.3.0,>=2.2.0->tensorflow->nodeconfeu-watch==0.1.0) (2.21.0)\n",
      "Requirement already satisfied: markdown>=2.6.8 in /usr/local/lib/python3.7/dist-packages/Markdown-3.2.2-py3.7.egg (from tensorboard<2.3.0,>=2.2.0->tensorflow->nodeconfeu-watch==0.1.0) (3.2.2)\n",
      "Requirement already satisfied: google-auth<2,>=1.6.3 in /home/erlich/.local/lib/python3.7/site-packages (from tensorboard<2.3.0,>=2.2.0->tensorflow->nodeconfeu-watch==0.1.0) (1.14.3)\n",
      "Requirement already satisfied: requests-oauthlib>=0.7.0 in /home/erlich/.local/lib/python3.7/site-packages (from google-auth-oauthlib<0.5,>=0.4.1->tensorboard<2.3.0,>=2.2.0->tensorflow->nodeconfeu-watch==0.1.0) (1.3.0)\n",
      "Requirement already satisfied: importlib-metadata in /usr/local/lib/python3.7/dist-packages/importlib_metadata-1.6.0-py3.7.egg (from markdown>=2.6.8->tensorboard<2.3.0,>=2.2.0->tensorflow->nodeconfeu-watch==0.1.0) (1.6.0)\n",
      "Requirement already satisfied: rsa<4.1,>=3.1.4 in /home/erlich/.local/lib/python3.7/site-packages (from google-auth<2,>=1.6.3->tensorboard<2.3.0,>=2.2.0->tensorflow->nodeconfeu-watch==0.1.0) (4.0)\n",
      "Requirement already satisfied: cachetools<5.0,>=2.0.0 in /home/erlich/.local/lib/python3.7/site-packages (from google-auth<2,>=1.6.3->tensorboard<2.3.0,>=2.2.0->tensorflow->nodeconfeu-watch==0.1.0) (4.1.0)\n",
      "Requirement already satisfied: pyasn1-modules>=0.2.1 in /home/erlich/.local/lib/python3.7/site-packages (from google-auth<2,>=1.6.3->tensorboard<2.3.0,>=2.2.0->tensorflow->nodeconfeu-watch==0.1.0) (0.2.8)\n",
      "Requirement already satisfied: oauthlib>=3.0.0 in /home/erlich/.local/lib/python3.7/site-packages (from requests-oauthlib>=0.7.0->google-auth-oauthlib<0.5,>=0.4.1->tensorboard<2.3.0,>=2.2.0->tensorflow->nodeconfeu-watch==0.1.0) (3.1.0)\n",
      "Requirement already satisfied: zipp>=0.5 in /usr/local/lib/python3.7/dist-packages/zipp-3.1.0-py3.7.egg (from importlib-metadata->markdown>=2.6.8->tensorboard<2.3.0,>=2.2.0->tensorflow->nodeconfeu-watch==0.1.0) (3.1.0)\n",
      "Requirement already satisfied: pyasn1>=0.1.3 in /home/erlich/.local/lib/python3.7/site-packages (from rsa<4.1,>=3.1.4->google-auth<2,>=1.6.3->tensorboard<2.3.0,>=2.2.0->tensorflow->nodeconfeu-watch==0.1.0) (0.4.8)\n",
      "Building wheels for collected packages: nodeconfeu-watch\n"
     ]
    },
    {
     "name": "stdout",
     "output_type": "stream",
     "text": [
      "  Building wheel for nodeconfeu-watch (setup.py) ... \u001b[?25ldone\n",
      "\u001b[?25h  Created wheel for nodeconfeu-watch: filename=nodeconfeu_watch-0.1.0-py3-none-any.whl size=2013 sha256=23242a57eafd2e497741895149d8a33a0880f257fc0da19a0181196753934c0a\n",
      "  Stored in directory: /home/erlich/.cache/pip/wheels/1d/c5/5d/39185364b9307b4ea6810b05a69041f98093e3bd8bda9af660\n",
      "Successfully built nodeconfeu-watch\n",
      "Installing collected packages: nodeconfeu-watch\n",
      "  Attempting uninstall: nodeconfeu-watch\n",
      "    Found existing installation: nodeconfeu-watch 0.1.0\n",
      "    Uninstalling nodeconfeu-watch-0.1.0:\n",
      "      Successfully uninstalled nodeconfeu-watch-0.1.0\n",
      "Successfully installed nodeconfeu-watch-0.1.0\n"
     ]
    }
   ],
   "source": [
    "!cd nodeconfeu-gesture-models && pip install ."
   ]
  },
  {
   "cell_type": "markdown",
   "metadata": {
    "colab_type": "text",
    "id": "eVm64DlNj3Ag"
   },
   "source": [
    "# Introduction"
   ]
  },
  {
   "cell_type": "markdown",
   "metadata": {
    "colab_type": "text",
    "id": "5kw4yjf9Q58j"
   },
   "source": [
    "## Dataset"
   ]
  },
  {
   "cell_type": "markdown",
   "metadata": {
    "colab_type": "text",
    "id": "yrI1nI36TK7J"
   },
   "source": [
    "The goal is to be able to recognize hand gestures by measuring the acceleration from the builtin watch accelerometer. This can be quite challenging as there a correlation between the acceleration and the gesture is not very obvious. To understand this challenge better, we start by looking at the acceleration for different gestures.\n",
    "\n",
    "The `AccelerationReader` loads the dataset, this will be discussed in more detail later."
   ]
  },
  {
   "cell_type": "code",
   "execution_count": 3,
   "metadata": {
    "colab": {},
    "colab_type": "code",
    "id": "OOFJ9_-L0ecc"
   },
   "outputs": [],
   "source": [
    "from nodeconfeu_watch.reader import AccelerationReader\n",
    "\n",
    "dataset = AccelerationReader({\n",
    "        \"paul\": ['./data/extra-v2'],\n",
    "    },\n",
    "    test_ratio=0.2, validation_ratio=0.2,\n",
    "    classnames=['jump'])\n",
    "\n",
    "dataset_df = dataset.dataframe() # This variable is just for plotting"
   ]
  },
  {
   "cell_type": "code",
   "execution_count": 4,
   "metadata": {
    "cellView": "form",
    "colab": {},
    "colab_type": "code",
    "id": "moyh79Id8ZIk"
   },
   "outputs": [
    {
     "data": {
      "text/html": [
       "\n",
       "<div id=\"altair-viz-32f4783aeb99461aa5ad516dc10a16a2\"></div>\n",
       "<script type=\"text/javascript\">\n",
       "  (function(spec, embedOpt){\n",
       "    let outputDiv = document.currentScript.previousElementSibling;\n",
       "    if (outputDiv.id !== \"altair-viz-32f4783aeb99461aa5ad516dc10a16a2\") {\n",
       "      outputDiv = document.getElementById(\"altair-viz-32f4783aeb99461aa5ad516dc10a16a2\");\n",
       "    }\n",
       "    const paths = {\n",
       "      \"vega\": \"https://cdn.jsdelivr.net/npm//vega@5?noext\",\n",
       "      \"vega-lib\": \"https://cdn.jsdelivr.net/npm//vega-lib?noext\",\n",
       "      \"vega-lite\": \"https://cdn.jsdelivr.net/npm//vega-lite@4.8.1?noext\",\n",
       "      \"vega-embed\": \"https://cdn.jsdelivr.net/npm//vega-embed@6?noext\",\n",
       "    };\n",
       "\n",
       "    function loadScript(lib) {\n",
       "      return new Promise(function(resolve, reject) {\n",
       "        var s = document.createElement('script');\n",
       "        s.src = paths[lib];\n",
       "        s.async = true;\n",
       "        s.onload = () => resolve(paths[lib]);\n",
       "        s.onerror = () => reject(`Error loading script: ${paths[lib]}`);\n",
       "        document.getElementsByTagName(\"head\")[0].appendChild(s);\n",
       "      });\n",
       "    }\n",
       "\n",
       "    function showError(err) {\n",
       "      outputDiv.innerHTML = `<div class=\"error\" style=\"color:red;\">${err}</div>`;\n",
       "      throw err;\n",
       "    }\n",
       "\n",
       "    function displayChart(vegaEmbed) {\n",
       "      vegaEmbed(outputDiv, spec, embedOpt)\n",
       "        .catch(err => showError(`Javascript Error: ${err.message}<br>This usually means there's a typo in your chart specification. See the javascript console for the full traceback.`));\n",
       "    }\n",
       "\n",
       "    if(typeof define === \"function\" && define.amd) {\n",
       "      requirejs.config({paths});\n",
       "      require([\"vega-embed\"], displayChart, err => showError(`Error loading script: ${err.message}`));\n",
       "    } else if (typeof vegaEmbed === \"function\") {\n",
       "      displayChart(vegaEmbed);\n",
       "    } else {\n",
       "      loadScript(\"vega\")\n",
       "        .then(() => loadScript(\"vega-lite\"))\n",
       "        .then(() => loadScript(\"vega-embed\"))\n",
       "        .catch(showError)\n",
       "        .then(() => displayChart(vegaEmbed));\n",
       "    }\n",
       "  })({\"config\": {\"view\": {\"continuousWidth\": 400, \"continuousHeight\": 300}}, \"data\": {\"name\": \"data-495bbc5f09227e8bf2fa524c1e916260\"}, \"mark\": {\"type\": \"line\", \"opacity\": 0.4}, \"encoding\": {\"color\": {\"type\": \"nominal\", \"field\": \"label\"}, \"column\": {\"type\": \"nominal\", \"field\": \"dimension\"}, \"detail\": {\"type\": \"nominal\", \"field\": \"id\"}, \"x\": {\"type\": \"quantitative\", \"field\": \"time\"}, \"y\": {\"type\": \"quantitative\", \"field\": \"acceleration\"}}, \"selection\": {\"selector001\": {\"type\": \"interval\", \"bind\": \"scales\", \"encodings\": [\"x\"]}}, \"width\": 200, \"$schema\": \"https://vega.github.io/schema/vega-lite/v4.8.1.json\", \"datasets\": {\"data-495bbc5f09227e8bf2fa524c1e916260\": [{\"subset\": \"validation\", \"label\": \"fly\", \"person\": \"paul\", \"id\": 36, \"acceleration\": 58.0, \"time\": 0.0, \"dimension\": \"x\"}, {\"subset\": \"validation\", \"label\": \"fly\", \"person\": \"paul\", \"id\": 36, \"acceleration\": 26.0, \"time\": 0.0, \"dimension\": \"y\"}, {\"subset\": \"validation\", \"label\": \"fly\", \"person\": \"paul\", \"id\": 36, \"acceleration\": -15.0, \"time\": 0.0, \"dimension\": \"z\"}, {\"subset\": \"validation\", \"label\": \"fly\", \"person\": \"paul\", \"id\": 36, \"acceleration\": 59.0, \"time\": 0.1, \"dimension\": \"x\"}, {\"subset\": \"validation\", \"label\": \"fly\", \"person\": \"paul\", \"id\": 36, \"acceleration\": 27.0, \"time\": 0.1, \"dimension\": \"y\"}, {\"subset\": \"validation\", \"label\": \"fly\", \"person\": \"paul\", \"id\": 36, \"acceleration\": -24.0, \"time\": 0.1, \"dimension\": \"z\"}, {\"subset\": \"validation\", \"label\": \"fly\", \"person\": \"paul\", \"id\": 36, \"acceleration\": 63.0, \"time\": 0.2, \"dimension\": \"x\"}, {\"subset\": \"validation\", \"label\": \"fly\", \"person\": \"paul\", \"id\": 36, \"acceleration\": 31.0, \"time\": 0.2, \"dimension\": \"y\"}, {\"subset\": \"validation\", \"label\": \"fly\", \"person\": \"paul\", \"id\": 36, \"acceleration\": -48.0, \"time\": 0.2, \"dimension\": \"z\"}, {\"subset\": \"validation\", \"label\": \"fly\", \"person\": \"paul\", \"id\": 36, \"acceleration\": 76.0, \"time\": 0.3, \"dimension\": \"x\"}, {\"subset\": \"validation\", \"label\": \"fly\", \"person\": \"paul\", \"id\": 36, \"acceleration\": 37.0, \"time\": 0.3, \"dimension\": \"y\"}, {\"subset\": \"validation\", \"label\": \"fly\", \"person\": \"paul\", \"id\": 36, \"acceleration\": -79.0, \"time\": 0.3, \"dimension\": \"z\"}, {\"subset\": \"validation\", \"label\": \"fly\", \"person\": \"paul\", \"id\": 36, \"acceleration\": 97.0, \"time\": 0.4, \"dimension\": \"x\"}, {\"subset\": \"validation\", \"label\": \"fly\", \"person\": \"paul\", \"id\": 36, \"acceleration\": 42.0, \"time\": 0.4, \"dimension\": \"y\"}, {\"subset\": \"validation\", \"label\": \"fly\", \"person\": \"paul\", \"id\": 36, \"acceleration\": -94.0, \"time\": 0.4, \"dimension\": \"z\"}, {\"subset\": \"validation\", \"label\": \"fly\", \"person\": \"paul\", \"id\": 36, \"acceleration\": 108.0, \"time\": 0.5, \"dimension\": \"x\"}, {\"subset\": \"validation\", \"label\": \"fly\", \"person\": \"paul\", \"id\": 36, \"acceleration\": 44.0, \"time\": 0.5, \"dimension\": \"y\"}, {\"subset\": \"validation\", \"label\": \"fly\", \"person\": \"paul\", \"id\": 36, \"acceleration\": -78.0, \"time\": 0.5, \"dimension\": \"z\"}, {\"subset\": \"validation\", \"label\": \"fly\", \"person\": \"paul\", \"id\": 36, \"acceleration\": 92.0, \"time\": 0.6, \"dimension\": \"x\"}, {\"subset\": \"validation\", \"label\": \"fly\", \"person\": \"paul\", \"id\": 36, \"acceleration\": 37.0, \"time\": 0.6, \"dimension\": \"y\"}, {\"subset\": \"validation\", \"label\": \"fly\", \"person\": \"paul\", \"id\": 36, \"acceleration\": -45.0, \"time\": 0.6, \"dimension\": \"z\"}, {\"subset\": \"validation\", \"label\": \"fly\", \"person\": \"paul\", \"id\": 36, \"acceleration\": 54.0, \"time\": 0.7, \"dimension\": \"x\"}, {\"subset\": \"validation\", \"label\": \"fly\", \"person\": \"paul\", \"id\": 36, \"acceleration\": 27.0, \"time\": 0.7, \"dimension\": \"y\"}, {\"subset\": \"validation\", \"label\": \"fly\", \"person\": \"paul\", \"id\": 36, \"acceleration\": -14.0, \"time\": 0.7, \"dimension\": \"z\"}, {\"subset\": \"validation\", \"label\": \"fly\", \"person\": \"paul\", \"id\": 36, \"acceleration\": 15.0, \"time\": 0.8, \"dimension\": \"x\"}, {\"subset\": \"validation\", \"label\": \"fly\", \"person\": \"paul\", \"id\": 36, \"acceleration\": 17.0, \"time\": 0.8, \"dimension\": \"y\"}, {\"subset\": \"validation\", \"label\": \"fly\", \"person\": \"paul\", \"id\": 36, \"acceleration\": -2.0, \"time\": 0.8, \"dimension\": \"z\"}, {\"subset\": \"validation\", \"label\": \"fly\", \"person\": \"paul\", \"id\": 36, \"acceleration\": -12.0, \"time\": 0.9, \"dimension\": \"x\"}, {\"subset\": \"validation\", \"label\": \"fly\", \"person\": \"paul\", \"id\": 36, \"acceleration\": 6.0, \"time\": 0.9, \"dimension\": \"y\"}, {\"subset\": \"validation\", \"label\": \"fly\", \"person\": \"paul\", \"id\": 36, \"acceleration\": -9.0, \"time\": 0.9, \"dimension\": \"z\"}, {\"subset\": \"validation\", \"label\": \"fly\", \"person\": \"paul\", \"id\": 36, \"acceleration\": -27.0, \"time\": 1.0, \"dimension\": \"x\"}, {\"subset\": \"validation\", \"label\": \"fly\", \"person\": \"paul\", \"id\": 36, \"acceleration\": -1.0, \"time\": 1.0, \"dimension\": \"y\"}, {\"subset\": \"validation\", \"label\": \"fly\", \"person\": \"paul\", \"id\": 36, \"acceleration\": -23.0, \"time\": 1.0, \"dimension\": \"z\"}, {\"subset\": \"validation\", \"label\": \"fly\", \"person\": \"paul\", \"id\": 36, \"acceleration\": -34.0, \"time\": 1.1, \"dimension\": \"x\"}, {\"subset\": \"validation\", \"label\": \"fly\", \"person\": \"paul\", \"id\": 36, \"acceleration\": -4.0, \"time\": 1.1, \"dimension\": \"y\"}, {\"subset\": \"validation\", \"label\": \"fly\", \"person\": \"paul\", \"id\": 36, \"acceleration\": -35.0, \"time\": 1.1, \"dimension\": \"z\"}, {\"subset\": \"validation\", \"label\": \"fly\", \"person\": \"paul\", \"id\": 36, \"acceleration\": -37.0, \"time\": 1.2, \"dimension\": \"x\"}, {\"subset\": \"validation\", \"label\": \"fly\", \"person\": \"paul\", \"id\": 36, \"acceleration\": -4.0, \"time\": 1.2, \"dimension\": \"y\"}, {\"subset\": \"validation\", \"label\": \"fly\", \"person\": \"paul\", \"id\": 36, \"acceleration\": -43.0, \"time\": 1.2, \"dimension\": \"z\"}, {\"subset\": \"validation\", \"label\": \"fly\", \"person\": \"paul\", \"id\": 36, \"acceleration\": -38.0, \"time\": 1.3, \"dimension\": \"x\"}, {\"subset\": \"validation\", \"label\": \"fly\", \"person\": \"paul\", \"id\": 36, \"acceleration\": -6.0, \"time\": 1.3, \"dimension\": \"y\"}, {\"subset\": \"validation\", \"label\": \"fly\", \"person\": \"paul\", \"id\": 36, \"acceleration\": -46.0, \"time\": 1.3, \"dimension\": \"z\"}, {\"subset\": \"validation\", \"label\": \"fly\", \"person\": \"paul\", \"id\": 37, \"acceleration\": 57.0, \"time\": 0.0, \"dimension\": \"x\"}, {\"subset\": \"validation\", \"label\": \"fly\", \"person\": \"paul\", \"id\": 37, \"acceleration\": 29.0, \"time\": 0.0, \"dimension\": \"y\"}, {\"subset\": \"validation\", \"label\": \"fly\", \"person\": \"paul\", \"id\": 37, \"acceleration\": -13.0, \"time\": 0.0, \"dimension\": \"z\"}, {\"subset\": \"validation\", \"label\": \"fly\", \"person\": \"paul\", \"id\": 37, \"acceleration\": 60.0, \"time\": 0.1, \"dimension\": \"x\"}, {\"subset\": \"validation\", \"label\": \"fly\", \"person\": \"paul\", \"id\": 37, \"acceleration\": 31.0, \"time\": 0.1, \"dimension\": \"y\"}, {\"subset\": \"validation\", \"label\": \"fly\", \"person\": \"paul\", \"id\": 37, \"acceleration\": -34.0, \"time\": 0.1, \"dimension\": \"z\"}, {\"subset\": \"validation\", \"label\": \"fly\", \"person\": \"paul\", \"id\": 37, \"acceleration\": 76.0, \"time\": 0.2, \"dimension\": \"x\"}, {\"subset\": \"validation\", \"label\": \"fly\", \"person\": \"paul\", \"id\": 37, \"acceleration\": 33.0, \"time\": 0.2, \"dimension\": \"y\"}, {\"subset\": \"validation\", \"label\": \"fly\", \"person\": \"paul\", \"id\": 37, \"acceleration\": -84.0, \"time\": 0.2, \"dimension\": \"z\"}, {\"subset\": \"validation\", \"label\": \"fly\", \"person\": \"paul\", \"id\": 37, \"acceleration\": 111.0, \"time\": 0.3, \"dimension\": \"x\"}, {\"subset\": \"validation\", \"label\": \"fly\", \"person\": \"paul\", \"id\": 37, \"acceleration\": 34.0, \"time\": 0.3, \"dimension\": \"y\"}, {\"subset\": \"validation\", \"label\": \"fly\", \"person\": \"paul\", \"id\": 37, \"acceleration\": -116.0, \"time\": 0.3, \"dimension\": \"z\"}, {\"subset\": \"validation\", \"label\": \"fly\", \"person\": \"paul\", \"id\": 37, \"acceleration\": 127.0, \"time\": 0.4, \"dimension\": \"x\"}, {\"subset\": \"validation\", \"label\": \"fly\", \"person\": \"paul\", \"id\": 37, \"acceleration\": 36.0, \"time\": 0.4, \"dimension\": \"y\"}, {\"subset\": \"validation\", \"label\": \"fly\", \"person\": \"paul\", \"id\": 37, \"acceleration\": -92.0, \"time\": 0.4, \"dimension\": \"z\"}, {\"subset\": \"validation\", \"label\": \"fly\", \"person\": \"paul\", \"id\": 37, \"acceleration\": 118.0, \"time\": 0.5, \"dimension\": \"x\"}, {\"subset\": \"validation\", \"label\": \"fly\", \"person\": \"paul\", \"id\": 37, \"acceleration\": 34.0, \"time\": 0.5, \"dimension\": \"y\"}, {\"subset\": \"validation\", \"label\": \"fly\", \"person\": \"paul\", \"id\": 37, \"acceleration\": -44.0, \"time\": 0.5, \"dimension\": \"z\"}, {\"subset\": \"validation\", \"label\": \"fly\", \"person\": \"paul\", \"id\": 37, \"acceleration\": 70.0, \"time\": 0.6, \"dimension\": \"x\"}, {\"subset\": \"validation\", \"label\": \"fly\", \"person\": \"paul\", \"id\": 37, \"acceleration\": 27.0, \"time\": 0.6, \"dimension\": \"y\"}, {\"subset\": \"validation\", \"label\": \"fly\", \"person\": \"paul\", \"id\": 37, \"acceleration\": -5.0, \"time\": 0.6, \"dimension\": \"z\"}, {\"subset\": \"validation\", \"label\": \"fly\", \"person\": \"paul\", \"id\": 37, \"acceleration\": 23.0, \"time\": 0.7, \"dimension\": \"x\"}, {\"subset\": \"validation\", \"label\": \"fly\", \"person\": \"paul\", \"id\": 37, \"acceleration\": 22.0, \"time\": 0.7, \"dimension\": \"y\"}, {\"subset\": \"validation\", \"label\": \"fly\", \"person\": \"paul\", \"id\": 37, \"acceleration\": 12.0, \"time\": 0.7, \"dimension\": \"z\"}, {\"subset\": \"validation\", \"label\": \"fly\", \"person\": \"paul\", \"id\": 37, \"acceleration\": -9.0, \"time\": 0.8, \"dimension\": \"x\"}, {\"subset\": \"validation\", \"label\": \"fly\", \"person\": \"paul\", \"id\": 37, \"acceleration\": 13.0, \"time\": 0.8, \"dimension\": \"y\"}, {\"subset\": \"validation\", \"label\": \"fly\", \"person\": \"paul\", \"id\": 37, \"acceleration\": 6.0, \"time\": 0.8, \"dimension\": \"z\"}, {\"subset\": \"validation\", \"label\": \"fly\", \"person\": \"paul\", \"id\": 37, \"acceleration\": -27.0, \"time\": 0.9, \"dimension\": \"x\"}, {\"subset\": \"validation\", \"label\": \"fly\", \"person\": \"paul\", \"id\": 37, \"acceleration\": 3.0, \"time\": 0.9, \"dimension\": \"y\"}, {\"subset\": \"validation\", \"label\": \"fly\", \"person\": \"paul\", \"id\": 37, \"acceleration\": -13.0, \"time\": 0.9, \"dimension\": \"z\"}, {\"subset\": \"validation\", \"label\": \"fly\", \"person\": \"paul\", \"id\": 37, \"acceleration\": -35.0, \"time\": 1.0, \"dimension\": \"x\"}, {\"subset\": \"validation\", \"label\": \"fly\", \"person\": \"paul\", \"id\": 37, \"acceleration\": -1.0, \"time\": 1.0, \"dimension\": \"y\"}, {\"subset\": \"validation\", \"label\": \"fly\", \"person\": \"paul\", \"id\": 37, \"acceleration\": -32.0, \"time\": 1.0, \"dimension\": \"z\"}, {\"subset\": \"validation\", \"label\": \"fly\", \"person\": \"paul\", \"id\": 37, \"acceleration\": -38.0, \"time\": 1.1, \"dimension\": \"x\"}, {\"subset\": \"validation\", \"label\": \"fly\", \"person\": \"paul\", \"id\": 37, \"acceleration\": -2.0, \"time\": 1.1, \"dimension\": \"y\"}, {\"subset\": \"validation\", \"label\": \"fly\", \"person\": \"paul\", \"id\": 37, \"acceleration\": -43.0, \"time\": 1.1, \"dimension\": \"z\"}, {\"subset\": \"validation\", \"label\": \"fly\", \"person\": \"paul\", \"id\": 37, \"acceleration\": -40.0, \"time\": 1.2, \"dimension\": \"x\"}, {\"subset\": \"validation\", \"label\": \"fly\", \"person\": \"paul\", \"id\": 37, \"acceleration\": -2.0, \"time\": 1.2, \"dimension\": \"y\"}, {\"subset\": \"validation\", \"label\": \"fly\", \"person\": \"paul\", \"id\": 37, \"acceleration\": -49.0, \"time\": 1.2, \"dimension\": \"z\"}, {\"subset\": \"validation\", \"label\": \"fly\", \"person\": \"paul\", \"id\": 37, \"acceleration\": -40.0, \"time\": 1.3, \"dimension\": \"x\"}, {\"subset\": \"validation\", \"label\": \"fly\", \"person\": \"paul\", \"id\": 37, \"acceleration\": -1.0, \"time\": 1.3, \"dimension\": \"y\"}, {\"subset\": \"validation\", \"label\": \"fly\", \"person\": \"paul\", \"id\": 37, \"acceleration\": -51.0, \"time\": 1.3, \"dimension\": \"z\"}, {\"subset\": \"validation\", \"label\": \"fly\", \"person\": \"paul\", \"id\": 38, \"acceleration\": -40.0, \"time\": 0.0, \"dimension\": \"x\"}, {\"subset\": \"validation\", \"label\": \"fly\", \"person\": \"paul\", \"id\": 38, \"acceleration\": -1.0, \"time\": 0.0, \"dimension\": \"y\"}, {\"subset\": \"validation\", \"label\": \"fly\", \"person\": \"paul\", \"id\": 38, \"acceleration\": -50.0, \"time\": 0.0, \"dimension\": \"z\"}, {\"subset\": \"validation\", \"label\": \"fly\", \"person\": \"paul\", \"id\": 38, \"acceleration\": -38.0, \"time\": 0.1, \"dimension\": \"x\"}, {\"subset\": \"validation\", \"label\": \"fly\", \"person\": \"paul\", \"id\": 38, \"acceleration\": -4.0, \"time\": 0.1, \"dimension\": \"y\"}, {\"subset\": \"validation\", \"label\": \"fly\", \"person\": \"paul\", \"id\": 38, \"acceleration\": -41.0, \"time\": 0.1, \"dimension\": \"z\"}, {\"subset\": \"validation\", \"label\": \"fly\", \"person\": \"paul\", \"id\": 38, \"acceleration\": -32.0, \"time\": 0.2, \"dimension\": \"x\"}, {\"subset\": \"validation\", \"label\": \"fly\", \"person\": \"paul\", \"id\": 38, \"acceleration\": -7.0, \"time\": 0.2, \"dimension\": \"y\"}, {\"subset\": \"validation\", \"label\": \"fly\", \"person\": \"paul\", \"id\": 38, \"acceleration\": -13.0, \"time\": 0.2, \"dimension\": \"z\"}, {\"subset\": \"validation\", \"label\": \"fly\", \"person\": \"paul\", \"id\": 38, \"acceleration\": -11.0, \"time\": 0.3, \"dimension\": \"x\"}, {\"subset\": \"validation\", \"label\": \"fly\", \"person\": \"paul\", \"id\": 38, \"acceleration\": -1.0, \"time\": 0.3, \"dimension\": \"y\"}, {\"subset\": \"validation\", \"label\": \"fly\", \"person\": \"paul\", \"id\": 38, \"acceleration\": 13.0, \"time\": 0.3, \"dimension\": \"z\"}, {\"subset\": \"validation\", \"label\": \"fly\", \"person\": \"paul\", \"id\": 38, \"acceleration\": 29.0, \"time\": 0.4, \"dimension\": \"x\"}, {\"subset\": \"validation\", \"label\": \"fly\", \"person\": \"paul\", \"id\": 38, \"acceleration\": 12.0, \"time\": 0.4, \"dimension\": \"y\"}, {\"subset\": \"validation\", \"label\": \"fly\", \"person\": \"paul\", \"id\": 38, \"acceleration\": 18.0, \"time\": 0.4, \"dimension\": \"z\"}, {\"subset\": \"validation\", \"label\": \"fly\", \"person\": \"paul\", \"id\": 38, \"acceleration\": 82.0, \"time\": 0.5, \"dimension\": \"x\"}, {\"subset\": \"validation\", \"label\": \"fly\", \"person\": \"paul\", \"id\": 38, \"acceleration\": 34.0, \"time\": 0.5, \"dimension\": \"y\"}, {\"subset\": \"validation\", \"label\": \"fly\", \"person\": \"paul\", \"id\": 38, \"acceleration\": -3.0, \"time\": 0.5, \"dimension\": \"z\"}, {\"subset\": \"validation\", \"label\": \"fly\", \"person\": \"paul\", \"id\": 38, \"acceleration\": 121.0, \"time\": 0.6, \"dimension\": \"x\"}, {\"subset\": \"validation\", \"label\": \"fly\", \"person\": \"paul\", \"id\": 38, \"acceleration\": 57.0, \"time\": 0.6, \"dimension\": \"y\"}, {\"subset\": \"validation\", \"label\": \"fly\", \"person\": \"paul\", \"id\": 38, \"acceleration\": -42.0, \"time\": 0.6, \"dimension\": \"z\"}, {\"subset\": \"validation\", \"label\": \"fly\", \"person\": \"paul\", \"id\": 38, \"acceleration\": 98.0, \"time\": 0.7, \"dimension\": \"x\"}, {\"subset\": \"validation\", \"label\": \"fly\", \"person\": \"paul\", \"id\": 38, \"acceleration\": 61.0, \"time\": 0.7, \"dimension\": \"y\"}, {\"subset\": \"validation\", \"label\": \"fly\", \"person\": \"paul\", \"id\": 38, \"acceleration\": -75.0, \"time\": 0.7, \"dimension\": \"z\"}, {\"subset\": \"validation\", \"label\": \"fly\", \"person\": \"paul\", \"id\": 38, \"acceleration\": 80.0, \"time\": 0.8, \"dimension\": \"x\"}, {\"subset\": \"validation\", \"label\": \"fly\", \"person\": \"paul\", \"id\": 38, \"acceleration\": 48.0, \"time\": 0.8, \"dimension\": \"y\"}, {\"subset\": \"validation\", \"label\": \"fly\", \"person\": \"paul\", \"id\": 38, \"acceleration\": -54.0, \"time\": 0.8, \"dimension\": \"z\"}, {\"subset\": \"validation\", \"label\": \"fly\", \"person\": \"paul\", \"id\": 38, \"acceleration\": 69.0, \"time\": 0.9, \"dimension\": \"x\"}, {\"subset\": \"validation\", \"label\": \"fly\", \"person\": \"paul\", \"id\": 38, \"acceleration\": 35.0, \"time\": 0.9, \"dimension\": \"y\"}, {\"subset\": \"validation\", \"label\": \"fly\", \"person\": \"paul\", \"id\": 38, \"acceleration\": -30.0, \"time\": 0.9, \"dimension\": \"z\"}, {\"subset\": \"validation\", \"label\": \"fly\", \"person\": \"paul\", \"id\": 38, \"acceleration\": 64.0, \"time\": 1.0, \"dimension\": \"x\"}, {\"subset\": \"validation\", \"label\": \"fly\", \"person\": \"paul\", \"id\": 38, \"acceleration\": 28.0, \"time\": 1.0, \"dimension\": \"y\"}, {\"subset\": \"validation\", \"label\": \"fly\", \"person\": \"paul\", \"id\": 38, \"acceleration\": -15.0, \"time\": 1.0, \"dimension\": \"z\"}, {\"subset\": \"validation\", \"label\": \"fly\", \"person\": \"paul\", \"id\": 38, \"acceleration\": 62.0, \"time\": 1.1, \"dimension\": \"x\"}, {\"subset\": \"validation\", \"label\": \"fly\", \"person\": \"paul\", \"id\": 38, \"acceleration\": 25.0, \"time\": 1.1, \"dimension\": \"y\"}, {\"subset\": \"validation\", \"label\": \"fly\", \"person\": \"paul\", \"id\": 38, \"acceleration\": -8.0, \"time\": 1.1, \"dimension\": \"z\"}, {\"subset\": \"validation\", \"label\": \"fly\", \"person\": \"paul\", \"id\": 38, \"acceleration\": 60.0, \"time\": 1.2, \"dimension\": \"x\"}, {\"subset\": \"validation\", \"label\": \"fly\", \"person\": \"paul\", \"id\": 38, \"acceleration\": 24.0, \"time\": 1.2, \"dimension\": \"y\"}, {\"subset\": \"validation\", \"label\": \"fly\", \"person\": \"paul\", \"id\": 38, \"acceleration\": -5.0, \"time\": 1.2, \"dimension\": \"z\"}, {\"subset\": \"validation\", \"label\": \"fly\", \"person\": \"paul\", \"id\": 38, \"acceleration\": 60.0, \"time\": 1.3, \"dimension\": \"x\"}, {\"subset\": \"validation\", \"label\": \"fly\", \"person\": \"paul\", \"id\": 38, \"acceleration\": 24.0, \"time\": 1.3, \"dimension\": \"y\"}, {\"subset\": \"validation\", \"label\": \"fly\", \"person\": \"paul\", \"id\": 38, \"acceleration\": -5.0, \"time\": 1.3, \"dimension\": \"z\"}, {\"subset\": \"validation\", \"label\": \"fly\", \"person\": \"paul\", \"id\": 39, \"acceleration\": 56.0, \"time\": 0.0, \"dimension\": \"x\"}, {\"subset\": \"validation\", \"label\": \"fly\", \"person\": \"paul\", \"id\": 39, \"acceleration\": 19.0, \"time\": 0.0, \"dimension\": \"y\"}, {\"subset\": \"validation\", \"label\": \"fly\", \"person\": \"paul\", \"id\": 39, \"acceleration\": -39.0, \"time\": 0.0, \"dimension\": \"z\"}, {\"subset\": \"validation\", \"label\": \"fly\", \"person\": \"paul\", \"id\": 39, \"acceleration\": 57.0, \"time\": 0.1, \"dimension\": \"x\"}, {\"subset\": \"validation\", \"label\": \"fly\", \"person\": \"paul\", \"id\": 39, \"acceleration\": 20.0, \"time\": 0.1, \"dimension\": \"y\"}, {\"subset\": \"validation\", \"label\": \"fly\", \"person\": \"paul\", \"id\": 39, \"acceleration\": -47.0, \"time\": 0.1, \"dimension\": \"z\"}, {\"subset\": \"validation\", \"label\": \"fly\", \"person\": \"paul\", \"id\": 39, \"acceleration\": 57.0, \"time\": 0.2, \"dimension\": \"x\"}, {\"subset\": \"validation\", \"label\": \"fly\", \"person\": \"paul\", \"id\": 39, \"acceleration\": 22.0, \"time\": 0.2, \"dimension\": \"y\"}, {\"subset\": \"validation\", \"label\": \"fly\", \"person\": \"paul\", \"id\": 39, \"acceleration\": -60.0, \"time\": 0.2, \"dimension\": \"z\"}, {\"subset\": \"validation\", \"label\": \"fly\", \"person\": \"paul\", \"id\": 39, \"acceleration\": 65.0, \"time\": 0.3, \"dimension\": \"x\"}, {\"subset\": \"validation\", \"label\": \"fly\", \"person\": \"paul\", \"id\": 39, \"acceleration\": 23.0, \"time\": 0.3, \"dimension\": \"y\"}, {\"subset\": \"validation\", \"label\": \"fly\", \"person\": \"paul\", \"id\": 39, \"acceleration\": -85.0, \"time\": 0.3, \"dimension\": \"z\"}, {\"subset\": \"validation\", \"label\": \"fly\", \"person\": \"paul\", \"id\": 39, \"acceleration\": 80.0, \"time\": 0.4, \"dimension\": \"x\"}, {\"subset\": \"validation\", \"label\": \"fly\", \"person\": \"paul\", \"id\": 39, \"acceleration\": 25.0, \"time\": 0.4, \"dimension\": \"y\"}, {\"subset\": \"validation\", \"label\": \"fly\", \"person\": \"paul\", \"id\": 39, \"acceleration\": -99.0, \"time\": 0.4, \"dimension\": \"z\"}, {\"subset\": \"validation\", \"label\": \"fly\", \"person\": \"paul\", \"id\": 39, \"acceleration\": 82.0, \"time\": 0.5, \"dimension\": \"x\"}, {\"subset\": \"validation\", \"label\": \"fly\", \"person\": \"paul\", \"id\": 39, \"acceleration\": 25.0, \"time\": 0.5, \"dimension\": \"y\"}, {\"subset\": \"validation\", \"label\": \"fly\", \"person\": \"paul\", \"id\": 39, \"acceleration\": -74.0, \"time\": 0.5, \"dimension\": \"z\"}, {\"subset\": \"validation\", \"label\": \"fly\", \"person\": \"paul\", \"id\": 39, \"acceleration\": 60.0, \"time\": 0.6, \"dimension\": \"x\"}, {\"subset\": \"validation\", \"label\": \"fly\", \"person\": \"paul\", \"id\": 39, \"acceleration\": 20.0, \"time\": 0.6, \"dimension\": \"y\"}, {\"subset\": \"validation\", \"label\": \"fly\", \"person\": \"paul\", \"id\": 39, \"acceleration\": -31.0, \"time\": 0.6, \"dimension\": \"z\"}, {\"subset\": \"validation\", \"label\": \"fly\", \"person\": \"paul\", \"id\": 39, \"acceleration\": 25.0, \"time\": 0.7, \"dimension\": \"x\"}, {\"subset\": \"validation\", \"label\": \"fly\", \"person\": \"paul\", \"id\": 39, \"acceleration\": 16.0, \"time\": 0.7, \"dimension\": \"y\"}, {\"subset\": \"validation\", \"label\": \"fly\", \"person\": \"paul\", \"id\": 39, \"acceleration\": -7.0, \"time\": 0.7, \"dimension\": \"z\"}, {\"subset\": \"validation\", \"label\": \"fly\", \"person\": \"paul\", \"id\": 39, \"acceleration\": -15.0, \"time\": 0.8, \"dimension\": \"x\"}, {\"subset\": \"validation\", \"label\": \"fly\", \"person\": \"paul\", \"id\": 39, \"acceleration\": 6.0, \"time\": 0.8, \"dimension\": \"y\"}, {\"subset\": \"validation\", \"label\": \"fly\", \"person\": \"paul\", \"id\": 39, \"acceleration\": -32.0, \"time\": 0.8, \"dimension\": \"z\"}, {\"subset\": \"validation\", \"label\": \"fly\", \"person\": \"paul\", \"id\": 39, \"acceleration\": -22.0, \"time\": 0.9, \"dimension\": \"x\"}, {\"subset\": \"validation\", \"label\": \"fly\", \"person\": \"paul\", \"id\": 39, \"acceleration\": 5.0, \"time\": 0.9, \"dimension\": \"y\"}, {\"subset\": \"validation\", \"label\": \"fly\", \"person\": \"paul\", \"id\": 39, \"acceleration\": -45.0, \"time\": 0.9, \"dimension\": \"z\"}, {\"subset\": \"validation\", \"label\": \"fly\", \"person\": \"paul\", \"id\": 39, \"acceleration\": -25.0, \"time\": 1.0, \"dimension\": \"x\"}, {\"subset\": \"validation\", \"label\": \"fly\", \"person\": \"paul\", \"id\": 39, \"acceleration\": 5.0, \"time\": 1.0, \"dimension\": \"y\"}, {\"subset\": \"validation\", \"label\": \"fly\", \"person\": \"paul\", \"id\": 39, \"acceleration\": -52.0, \"time\": 1.0, \"dimension\": \"z\"}, {\"subset\": \"validation\", \"label\": \"fly\", \"person\": \"paul\", \"id\": 39, \"acceleration\": -26.0, \"time\": 1.1, \"dimension\": \"x\"}, {\"subset\": \"validation\", \"label\": \"fly\", \"person\": \"paul\", \"id\": 39, \"acceleration\": 4.0, \"time\": 1.1, \"dimension\": \"y\"}, {\"subset\": \"validation\", \"label\": \"fly\", \"person\": \"paul\", \"id\": 39, \"acceleration\": -55.0, \"time\": 1.1, \"dimension\": \"z\"}, {\"subset\": \"validation\", \"label\": \"fly\", \"person\": \"paul\", \"id\": 40, \"acceleration\": -26.0, \"time\": 0.0, \"dimension\": \"x\"}, {\"subset\": \"validation\", \"label\": \"fly\", \"person\": \"paul\", \"id\": 40, \"acceleration\": 2.0, \"time\": 0.0, \"dimension\": \"y\"}, {\"subset\": \"validation\", \"label\": \"fly\", \"person\": \"paul\", \"id\": 40, \"acceleration\": -57.0, \"time\": 0.0, \"dimension\": \"z\"}, {\"subset\": \"validation\", \"label\": \"fly\", \"person\": \"paul\", \"id\": 40, \"acceleration\": -26.0, \"time\": 0.1, \"dimension\": \"x\"}, {\"subset\": \"validation\", \"label\": \"fly\", \"person\": \"paul\", \"id\": 40, \"acceleration\": 1.0, \"time\": 0.1, \"dimension\": \"y\"}, {\"subset\": \"validation\", \"label\": \"fly\", \"person\": \"paul\", \"id\": 40, \"acceleration\": -49.0, \"time\": 0.1, \"dimension\": \"z\"}, {\"subset\": \"validation\", \"label\": \"fly\", \"person\": \"paul\", \"id\": 40, \"acceleration\": -22.0, \"time\": 0.2, \"dimension\": \"x\"}, {\"subset\": \"validation\", \"label\": \"fly\", \"person\": \"paul\", \"id\": 40, \"acceleration\": 2.0, \"time\": 0.2, \"dimension\": \"y\"}, {\"subset\": \"validation\", \"label\": \"fly\", \"person\": \"paul\", \"id\": 40, \"acceleration\": -32.0, \"time\": 0.2, \"dimension\": \"z\"}, {\"subset\": \"validation\", \"label\": \"fly\", \"person\": \"paul\", \"id\": 40, \"acceleration\": -11.0, \"time\": 0.3, \"dimension\": \"x\"}, {\"subset\": \"validation\", \"label\": \"fly\", \"person\": \"paul\", \"id\": 40, \"acceleration\": 6.0, \"time\": 0.3, \"dimension\": \"y\"}, {\"subset\": \"validation\", \"label\": \"fly\", \"person\": \"paul\", \"id\": 40, \"acceleration\": -15.0, \"time\": 0.3, \"dimension\": \"z\"}, {\"subset\": \"validation\", \"label\": \"fly\", \"person\": \"paul\", \"id\": 40, \"acceleration\": 12.0, \"time\": 0.4, \"dimension\": \"x\"}, {\"subset\": \"validation\", \"label\": \"fly\", \"person\": \"paul\", \"id\": 40, \"acceleration\": 13.0, \"time\": 0.4, \"dimension\": \"y\"}, {\"subset\": \"validation\", \"label\": \"fly\", \"person\": \"paul\", \"id\": 40, \"acceleration\": -8.0, \"time\": 0.4, \"dimension\": \"z\"}, {\"subset\": \"validation\", \"label\": \"fly\", \"person\": \"paul\", \"id\": 40, \"acceleration\": 47.0, \"time\": 0.5, \"dimension\": \"x\"}, {\"subset\": \"validation\", \"label\": \"fly\", \"person\": \"paul\", \"id\": 40, \"acceleration\": 24.0, \"time\": 0.5, \"dimension\": \"y\"}, {\"subset\": \"validation\", \"label\": \"fly\", \"person\": \"paul\", \"id\": 40, \"acceleration\": -20.0, \"time\": 0.5, \"dimension\": \"z\"}, {\"subset\": \"validation\", \"label\": \"fly\", \"person\": \"paul\", \"id\": 40, \"acceleration\": 77.0, \"time\": 0.6, \"dimension\": \"x\"}, {\"subset\": \"validation\", \"label\": \"fly\", \"person\": \"paul\", \"id\": 40, \"acceleration\": 36.0, \"time\": 0.6, \"dimension\": \"y\"}, {\"subset\": \"validation\", \"label\": \"fly\", \"person\": \"paul\", \"id\": 40, \"acceleration\": -52.0, \"time\": 0.6, \"dimension\": \"z\"}, {\"subset\": \"validation\", \"label\": \"fly\", \"person\": \"paul\", \"id\": 40, \"acceleration\": 85.0, \"time\": 0.7, \"dimension\": \"x\"}, {\"subset\": \"validation\", \"label\": \"fly\", \"person\": \"paul\", \"id\": 40, \"acceleration\": 43.0, \"time\": 0.7, \"dimension\": \"y\"}, {\"subset\": \"validation\", \"label\": \"fly\", \"person\": \"paul\", \"id\": 40, \"acceleration\": -77.0, \"time\": 0.7, \"dimension\": \"z\"}, {\"subset\": \"validation\", \"label\": \"fly\", \"person\": \"paul\", \"id\": 40, \"acceleration\": 76.0, \"time\": 0.8, \"dimension\": \"x\"}, {\"subset\": \"validation\", \"label\": \"fly\", \"person\": \"paul\", \"id\": 40, \"acceleration\": 41.0, \"time\": 0.8, \"dimension\": \"y\"}, {\"subset\": \"validation\", \"label\": \"fly\", \"person\": \"paul\", \"id\": 40, \"acceleration\": -79.0, \"time\": 0.8, \"dimension\": \"z\"}, {\"subset\": \"validation\", \"label\": \"fly\", \"person\": \"paul\", \"id\": 40, \"acceleration\": 67.0, \"time\": 0.9, \"dimension\": \"x\"}, {\"subset\": \"validation\", \"label\": \"fly\", \"person\": \"paul\", \"id\": 40, \"acceleration\": 34.0, \"time\": 0.9, \"dimension\": \"y\"}, {\"subset\": \"validation\", \"label\": \"fly\", \"person\": \"paul\", \"id\": 40, \"acceleration\": -66.0, \"time\": 0.9, \"dimension\": \"z\"}, {\"subset\": \"validation\", \"label\": \"fly\", \"person\": \"paul\", \"id\": 40, \"acceleration\": 62.0, \"time\": 1.0, \"dimension\": \"x\"}, {\"subset\": \"validation\", \"label\": \"fly\", \"person\": \"paul\", \"id\": 40, \"acceleration\": 29.0, \"time\": 1.0, \"dimension\": \"y\"}, {\"subset\": \"validation\", \"label\": \"fly\", \"person\": \"paul\", \"id\": 40, \"acceleration\": -48.0, \"time\": 1.0, \"dimension\": \"z\"}, {\"subset\": \"validation\", \"label\": \"fly\", \"person\": \"paul\", \"id\": 40, \"acceleration\": 59.0, \"time\": 1.1, \"dimension\": \"x\"}, {\"subset\": \"validation\", \"label\": \"fly\", \"person\": \"paul\", \"id\": 40, \"acceleration\": 25.0, \"time\": 1.1, \"dimension\": \"y\"}, {\"subset\": \"validation\", \"label\": \"fly\", \"person\": \"paul\", \"id\": 40, \"acceleration\": -33.0, \"time\": 1.1, \"dimension\": \"z\"}, {\"subset\": \"validation\", \"label\": \"fly\", \"person\": \"paul\", \"id\": 40, \"acceleration\": 58.0, \"time\": 1.2, \"dimension\": \"x\"}, {\"subset\": \"validation\", \"label\": \"fly\", \"person\": \"paul\", \"id\": 40, \"acceleration\": 23.0, \"time\": 1.2, \"dimension\": \"y\"}, {\"subset\": \"validation\", \"label\": \"fly\", \"person\": \"paul\", \"id\": 40, \"acceleration\": -25.0, \"time\": 1.2, \"dimension\": \"z\"}, {\"subset\": \"validation\", \"label\": \"fly\", \"person\": \"paul\", \"id\": 40, \"acceleration\": 57.0, \"time\": 1.3, \"dimension\": \"x\"}, {\"subset\": \"validation\", \"label\": \"fly\", \"person\": \"paul\", \"id\": 40, \"acceleration\": 24.0, \"time\": 1.3, \"dimension\": \"y\"}, {\"subset\": \"validation\", \"label\": \"fly\", \"person\": \"paul\", \"id\": 40, \"acceleration\": -21.0, \"time\": 1.3, \"dimension\": \"z\"}, {\"subset\": \"validation\", \"label\": \"fly\", \"person\": \"paul\", \"id\": 41, \"acceleration\": -38.0, \"time\": 0.0, \"dimension\": \"x\"}, {\"subset\": \"validation\", \"label\": \"fly\", \"person\": \"paul\", \"id\": 41, \"acceleration\": 2.0, \"time\": 0.0, \"dimension\": \"y\"}, {\"subset\": \"validation\", \"label\": \"fly\", \"person\": \"paul\", \"id\": 41, \"acceleration\": -46.0, \"time\": 0.0, \"dimension\": \"z\"}, {\"subset\": \"validation\", \"label\": \"fly\", \"person\": \"paul\", \"id\": 41, \"acceleration\": -35.0, \"time\": 0.1, \"dimension\": \"x\"}, {\"subset\": \"validation\", \"label\": \"fly\", \"person\": \"paul\", \"id\": 41, \"acceleration\": -1.0, \"time\": 0.1, \"dimension\": \"y\"}, {\"subset\": \"validation\", \"label\": \"fly\", \"person\": \"paul\", \"id\": 41, \"acceleration\": -24.0, \"time\": 0.1, \"dimension\": \"z\"}, {\"subset\": \"validation\", \"label\": \"fly\", \"person\": \"paul\", \"id\": 41, \"acceleration\": -21.0, \"time\": 0.2, \"dimension\": \"x\"}, {\"subset\": \"validation\", \"label\": \"fly\", \"person\": \"paul\", \"id\": 41, \"acceleration\": -2.0, \"time\": 0.2, \"dimension\": \"y\"}, {\"subset\": \"validation\", \"label\": \"fly\", \"person\": \"paul\", \"id\": 41, \"acceleration\": 6.0, \"time\": 0.2, \"dimension\": \"z\"}, {\"subset\": \"validation\", \"label\": \"fly\", \"person\": \"paul\", \"id\": 41, \"acceleration\": 65.0, \"time\": 0.3, \"dimension\": \"x\"}, {\"subset\": \"validation\", \"label\": \"fly\", \"person\": \"paul\", \"id\": 41, \"acceleration\": 28.0, \"time\": 0.3, \"dimension\": \"y\"}, {\"subset\": \"validation\", \"label\": \"fly\", \"person\": \"paul\", \"id\": 41, \"acceleration\": 2.0, \"time\": 0.3, \"dimension\": \"z\"}, {\"subset\": \"validation\", \"label\": \"fly\", \"person\": \"paul\", \"id\": 41, \"acceleration\": 108.0, \"time\": 0.4, \"dimension\": \"x\"}, {\"subset\": \"validation\", \"label\": \"fly\", \"person\": \"paul\", \"id\": 41, \"acceleration\": 45.0, \"time\": 0.4, \"dimension\": \"y\"}, {\"subset\": \"validation\", \"label\": \"fly\", \"person\": \"paul\", \"id\": 41, \"acceleration\": -45.0, \"time\": 0.4, \"dimension\": \"z\"}, {\"subset\": \"validation\", \"label\": \"fly\", \"person\": \"paul\", \"id\": 41, \"acceleration\": 113.0, \"time\": 0.5, \"dimension\": \"x\"}, {\"subset\": \"validation\", \"label\": \"fly\", \"person\": \"paul\", \"id\": 41, \"acceleration\": 47.0, \"time\": 0.5, \"dimension\": \"y\"}, {\"subset\": \"validation\", \"label\": \"fly\", \"person\": \"paul\", \"id\": 41, \"acceleration\": -81.0, \"time\": 0.5, \"dimension\": \"z\"}, {\"subset\": \"validation\", \"label\": \"fly\", \"person\": \"paul\", \"id\": 41, \"acceleration\": 94.0, \"time\": 0.6, \"dimension\": \"x\"}, {\"subset\": \"validation\", \"label\": \"fly\", \"person\": \"paul\", \"id\": 41, \"acceleration\": 41.0, \"time\": 0.6, \"dimension\": \"y\"}, {\"subset\": \"validation\", \"label\": \"fly\", \"person\": \"paul\", \"id\": 41, \"acceleration\": -85.0, \"time\": 0.6, \"dimension\": \"z\"}, {\"subset\": \"validation\", \"label\": \"fly\", \"person\": \"paul\", \"id\": 41, \"acceleration\": 79.0, \"time\": 0.7, \"dimension\": \"x\"}, {\"subset\": \"validation\", \"label\": \"fly\", \"person\": \"paul\", \"id\": 41, \"acceleration\": 34.0, \"time\": 0.7, \"dimension\": \"y\"}, {\"subset\": \"validation\", \"label\": \"fly\", \"person\": \"paul\", \"id\": 41, \"acceleration\": -68.0, \"time\": 0.7, \"dimension\": \"z\"}, {\"subset\": \"validation\", \"label\": \"fly\", \"person\": \"paul\", \"id\": 41, \"acceleration\": 70.0, \"time\": 0.8, \"dimension\": \"x\"}, {\"subset\": \"validation\", \"label\": \"fly\", \"person\": \"paul\", \"id\": 41, \"acceleration\": 27.0, \"time\": 0.8, \"dimension\": \"y\"}, {\"subset\": \"validation\", \"label\": \"fly\", \"person\": \"paul\", \"id\": 41, \"acceleration\": -44.0, \"time\": 0.8, \"dimension\": \"z\"}, {\"subset\": \"validation\", \"label\": \"fly\", \"person\": \"paul\", \"id\": 41, \"acceleration\": 64.0, \"time\": 0.9, \"dimension\": \"x\"}, {\"subset\": \"validation\", \"label\": \"fly\", \"person\": \"paul\", \"id\": 41, \"acceleration\": 24.0, \"time\": 0.9, \"dimension\": \"y\"}, {\"subset\": \"validation\", \"label\": \"fly\", \"person\": \"paul\", \"id\": 41, \"acceleration\": -27.0, \"time\": 0.9, \"dimension\": \"z\"}, {\"subset\": \"validation\", \"label\": \"fly\", \"person\": \"paul\", \"id\": 41, \"acceleration\": 61.0, \"time\": 1.0, \"dimension\": \"x\"}, {\"subset\": \"validation\", \"label\": \"fly\", \"person\": \"paul\", \"id\": 41, \"acceleration\": 24.0, \"time\": 1.0, \"dimension\": \"y\"}, {\"subset\": \"validation\", \"label\": \"fly\", \"person\": \"paul\", \"id\": 41, \"acceleration\": -18.0, \"time\": 1.0, \"dimension\": \"z\"}, {\"subset\": \"validation\", \"label\": \"fly\", \"person\": \"paul\", \"id\": 41, \"acceleration\": 60.0, \"time\": 1.1, \"dimension\": \"x\"}, {\"subset\": \"validation\", \"label\": \"fly\", \"person\": \"paul\", \"id\": 41, \"acceleration\": 24.0, \"time\": 1.1, \"dimension\": \"y\"}, {\"subset\": \"validation\", \"label\": \"fly\", \"person\": \"paul\", \"id\": 41, \"acceleration\": -13.0, \"time\": 1.1, \"dimension\": \"z\"}, {\"subset\": \"validation\", \"label\": \"fly\", \"person\": \"paul\", \"id\": 41, \"acceleration\": 60.0, \"time\": 1.2, \"dimension\": \"x\"}, {\"subset\": \"validation\", \"label\": \"fly\", \"person\": \"paul\", \"id\": 41, \"acceleration\": 23.0, \"time\": 1.2, \"dimension\": \"y\"}, {\"subset\": \"validation\", \"label\": \"fly\", \"person\": \"paul\", \"id\": 41, \"acceleration\": -12.0, \"time\": 1.2, \"dimension\": \"z\"}, {\"subset\": \"validation\", \"label\": \"fly\", \"person\": \"paul\", \"id\": 42, \"acceleration\": -19.0, \"time\": 0.0, \"dimension\": \"x\"}, {\"subset\": \"validation\", \"label\": \"fly\", \"person\": \"paul\", \"id\": 42, \"acceleration\": 9.0, \"time\": 0.0, \"dimension\": \"y\"}, {\"subset\": \"validation\", \"label\": \"fly\", \"person\": \"paul\", \"id\": 42, \"acceleration\": -58.0, \"time\": 0.0, \"dimension\": \"z\"}, {\"subset\": \"validation\", \"label\": \"fly\", \"person\": \"paul\", \"id\": 42, \"acceleration\": -17.0, \"time\": 0.1, \"dimension\": \"x\"}, {\"subset\": \"validation\", \"label\": \"fly\", \"person\": \"paul\", \"id\": 42, \"acceleration\": 5.0, \"time\": 0.1, \"dimension\": \"y\"}, {\"subset\": \"validation\", \"label\": \"fly\", \"person\": \"paul\", \"id\": 42, \"acceleration\": -39.0, \"time\": 0.1, \"dimension\": \"z\"}, {\"subset\": \"validation\", \"label\": \"fly\", \"person\": \"paul\", \"id\": 42, \"acceleration\": -7.0, \"time\": 0.2, \"dimension\": \"x\"}, {\"subset\": \"validation\", \"label\": \"fly\", \"person\": \"paul\", \"id\": 42, \"acceleration\": 7.0, \"time\": 0.2, \"dimension\": \"y\"}, {\"subset\": \"validation\", \"label\": \"fly\", \"person\": \"paul\", \"id\": 42, \"acceleration\": -11.0, \"time\": 0.2, \"dimension\": \"z\"}, {\"subset\": \"validation\", \"label\": \"fly\", \"person\": \"paul\", \"id\": 42, \"acceleration\": 16.0, \"time\": 0.3, \"dimension\": \"x\"}, {\"subset\": \"validation\", \"label\": \"fly\", \"person\": \"paul\", \"id\": 42, \"acceleration\": 18.0, \"time\": 0.3, \"dimension\": \"y\"}, {\"subset\": \"validation\", \"label\": \"fly\", \"person\": \"paul\", \"id\": 42, \"acceleration\": 1.0, \"time\": 0.3, \"dimension\": \"z\"}, {\"subset\": \"validation\", \"label\": \"fly\", \"person\": \"paul\", \"id\": 42, \"acceleration\": 48.0, \"time\": 0.4, \"dimension\": \"x\"}, {\"subset\": \"validation\", \"label\": \"fly\", \"person\": \"paul\", \"id\": 42, \"acceleration\": 31.0, \"time\": 0.4, \"dimension\": \"y\"}, {\"subset\": \"validation\", \"label\": \"fly\", \"person\": \"paul\", \"id\": 42, \"acceleration\": -14.0, \"time\": 0.4, \"dimension\": \"z\"}, {\"subset\": \"validation\", \"label\": \"fly\", \"person\": \"paul\", \"id\": 42, \"acceleration\": 78.0, \"time\": 0.5, \"dimension\": \"x\"}, {\"subset\": \"validation\", \"label\": \"fly\", \"person\": \"paul\", \"id\": 42, \"acceleration\": 37.0, \"time\": 0.5, \"dimension\": \"y\"}, {\"subset\": \"validation\", \"label\": \"fly\", \"person\": \"paul\", \"id\": 42, \"acceleration\": -47.0, \"time\": 0.5, \"dimension\": \"z\"}, {\"subset\": \"validation\", \"label\": \"fly\", \"person\": \"paul\", \"id\": 42, \"acceleration\": 89.0, \"time\": 0.6, \"dimension\": \"x\"}, {\"subset\": \"validation\", \"label\": \"fly\", \"person\": \"paul\", \"id\": 42, \"acceleration\": 36.0, \"time\": 0.6, \"dimension\": \"y\"}, {\"subset\": \"validation\", \"label\": \"fly\", \"person\": \"paul\", \"id\": 42, \"acceleration\": -76.0, \"time\": 0.6, \"dimension\": \"z\"}, {\"subset\": \"validation\", \"label\": \"fly\", \"person\": \"paul\", \"id\": 42, \"acceleration\": 78.0, \"time\": 0.7, \"dimension\": \"x\"}, {\"subset\": \"validation\", \"label\": \"fly\", \"person\": \"paul\", \"id\": 42, \"acceleration\": 38.0, \"time\": 0.7, \"dimension\": \"y\"}, {\"subset\": \"validation\", \"label\": \"fly\", \"person\": \"paul\", \"id\": 42, \"acceleration\": -79.0, \"time\": 0.7, \"dimension\": \"z\"}, {\"subset\": \"validation\", \"label\": \"fly\", \"person\": \"paul\", \"id\": 42, \"acceleration\": 66.0, \"time\": 0.8, \"dimension\": \"x\"}, {\"subset\": \"validation\", \"label\": \"fly\", \"person\": \"paul\", \"id\": 42, \"acceleration\": 39.0, \"time\": 0.8, \"dimension\": \"y\"}, {\"subset\": \"validation\", \"label\": \"fly\", \"person\": \"paul\", \"id\": 42, \"acceleration\": -63.0, \"time\": 0.8, \"dimension\": \"z\"}, {\"subset\": \"validation\", \"label\": \"fly\", \"person\": \"paul\", \"id\": 42, \"acceleration\": 61.0, \"time\": 0.9, \"dimension\": \"x\"}, {\"subset\": \"validation\", \"label\": \"fly\", \"person\": \"paul\", \"id\": 42, \"acceleration\": 35.0, \"time\": 0.9, \"dimension\": \"y\"}, {\"subset\": \"validation\", \"label\": \"fly\", \"person\": \"paul\", \"id\": 42, \"acceleration\": -42.0, \"time\": 0.9, \"dimension\": \"z\"}, {\"subset\": \"validation\", \"label\": \"fly\", \"person\": \"paul\", \"id\": 42, \"acceleration\": 58.0, \"time\": 1.0, \"dimension\": \"x\"}, {\"subset\": \"validation\", \"label\": \"fly\", \"person\": \"paul\", \"id\": 42, \"acceleration\": 32.0, \"time\": 1.0, \"dimension\": \"y\"}, {\"subset\": \"validation\", \"label\": \"fly\", \"person\": \"paul\", \"id\": 42, \"acceleration\": -27.0, \"time\": 1.0, \"dimension\": \"z\"}, {\"subset\": \"validation\", \"label\": \"fly\", \"person\": \"paul\", \"id\": 42, \"acceleration\": 57.0, \"time\": 1.1, \"dimension\": \"x\"}, {\"subset\": \"validation\", \"label\": \"fly\", \"person\": \"paul\", \"id\": 42, \"acceleration\": 31.0, \"time\": 1.1, \"dimension\": \"y\"}, {\"subset\": \"validation\", \"label\": \"fly\", \"person\": \"paul\", \"id\": 42, \"acceleration\": -19.0, \"time\": 1.1, \"dimension\": \"z\"}, {\"subset\": \"validation\", \"label\": \"fly\", \"person\": \"paul\", \"id\": 42, \"acceleration\": 56.0, \"time\": 1.2, \"dimension\": \"x\"}, {\"subset\": \"validation\", \"label\": \"fly\", \"person\": \"paul\", \"id\": 42, \"acceleration\": 30.0, \"time\": 1.2, \"dimension\": \"y\"}, {\"subset\": \"validation\", \"label\": \"fly\", \"person\": \"paul\", \"id\": 42, \"acceleration\": -16.0, \"time\": 1.2, \"dimension\": \"z\"}, {\"subset\": \"validation\", \"label\": \"fly\", \"person\": \"paul\", \"id\": 43, \"acceleration\": -21.0, \"time\": 0.0, \"dimension\": \"x\"}, {\"subset\": \"validation\", \"label\": \"fly\", \"person\": \"paul\", \"id\": 43, \"acceleration\": 4.0, \"time\": 0.0, \"dimension\": \"y\"}, {\"subset\": \"validation\", \"label\": \"fly\", \"person\": \"paul\", \"id\": 43, \"acceleration\": -58.0, \"time\": 0.0, \"dimension\": \"z\"}, {\"subset\": \"validation\", \"label\": \"fly\", \"person\": \"paul\", \"id\": 43, \"acceleration\": -21.0, \"time\": 0.1, \"dimension\": \"x\"}, {\"subset\": \"validation\", \"label\": \"fly\", \"person\": \"paul\", \"id\": 43, \"acceleration\": 1.0, \"time\": 0.1, \"dimension\": \"y\"}, {\"subset\": \"validation\", \"label\": \"fly\", \"person\": \"paul\", \"id\": 43, \"acceleration\": -45.0, \"time\": 0.1, \"dimension\": \"z\"}, {\"subset\": \"validation\", \"label\": \"fly\", \"person\": \"paul\", \"id\": 43, \"acceleration\": -14.0, \"time\": 0.2, \"dimension\": \"x\"}, {\"subset\": \"validation\", \"label\": \"fly\", \"person\": \"paul\", \"id\": 43, \"acceleration\": 3.0, \"time\": 0.2, \"dimension\": \"y\"}, {\"subset\": \"validation\", \"label\": \"fly\", \"person\": \"paul\", \"id\": 43, \"acceleration\": -16.0, \"time\": 0.2, \"dimension\": \"z\"}, {\"subset\": \"validation\", \"label\": \"fly\", \"person\": \"paul\", \"id\": 43, \"acceleration\": 10.0, \"time\": 0.3, \"dimension\": \"x\"}, {\"subset\": \"validation\", \"label\": \"fly\", \"person\": \"paul\", \"id\": 43, \"acceleration\": 12.0, \"time\": 0.3, \"dimension\": \"y\"}, {\"subset\": \"validation\", \"label\": \"fly\", \"person\": \"paul\", \"id\": 43, \"acceleration\": 5.0, \"time\": 0.3, \"dimension\": \"z\"}, {\"subset\": \"validation\", \"label\": \"fly\", \"person\": \"paul\", \"id\": 43, \"acceleration\": 47.0, \"time\": 0.4, \"dimension\": \"x\"}, {\"subset\": \"validation\", \"label\": \"fly\", \"person\": \"paul\", \"id\": 43, \"acceleration\": 25.0, \"time\": 0.4, \"dimension\": \"y\"}, {\"subset\": \"validation\", \"label\": \"fly\", \"person\": \"paul\", \"id\": 43, \"acceleration\": -11.0, \"time\": 0.4, \"dimension\": \"z\"}, {\"subset\": \"validation\", \"label\": \"fly\", \"person\": \"paul\", \"id\": 43, \"acceleration\": 79.0, \"time\": 0.5, \"dimension\": \"x\"}, {\"subset\": \"validation\", \"label\": \"fly\", \"person\": \"paul\", \"id\": 43, \"acceleration\": 31.0, \"time\": 0.5, \"dimension\": \"y\"}, {\"subset\": \"validation\", \"label\": \"fly\", \"person\": \"paul\", \"id\": 43, \"acceleration\": -53.0, \"time\": 0.5, \"dimension\": \"z\"}, {\"subset\": \"validation\", \"label\": \"fly\", \"person\": \"paul\", \"id\": 43, \"acceleration\": 86.0, \"time\": 0.6, \"dimension\": \"x\"}, {\"subset\": \"validation\", \"label\": \"fly\", \"person\": \"paul\", \"id\": 43, \"acceleration\": 30.0, \"time\": 0.6, \"dimension\": \"y\"}, {\"subset\": \"validation\", \"label\": \"fly\", \"person\": \"paul\", \"id\": 43, \"acceleration\": -85.0, \"time\": 0.6, \"dimension\": \"z\"}, {\"subset\": \"validation\", \"label\": \"fly\", \"person\": \"paul\", \"id\": 43, \"acceleration\": 74.0, \"time\": 0.7, \"dimension\": \"x\"}, {\"subset\": \"validation\", \"label\": \"fly\", \"person\": \"paul\", \"id\": 43, \"acceleration\": 28.0, \"time\": 0.7, \"dimension\": \"y\"}, {\"subset\": \"validation\", \"label\": \"fly\", \"person\": \"paul\", \"id\": 43, \"acceleration\": -87.0, \"time\": 0.7, \"dimension\": \"z\"}, {\"subset\": \"validation\", \"label\": \"fly\", \"person\": \"paul\", \"id\": 43, \"acceleration\": 65.0, \"time\": 0.8, \"dimension\": \"x\"}, {\"subset\": \"validation\", \"label\": \"fly\", \"person\": \"paul\", \"id\": 43, \"acceleration\": 25.0, \"time\": 0.8, \"dimension\": \"y\"}, {\"subset\": \"validation\", \"label\": \"fly\", \"person\": \"paul\", \"id\": 43, \"acceleration\": -69.0, \"time\": 0.8, \"dimension\": \"z\"}, {\"subset\": \"validation\", \"label\": \"fly\", \"person\": \"paul\", \"id\": 43, \"acceleration\": 60.0, \"time\": 0.9, \"dimension\": \"x\"}, {\"subset\": \"validation\", \"label\": \"fly\", \"person\": \"paul\", \"id\": 43, \"acceleration\": 23.0, \"time\": 0.9, \"dimension\": \"y\"}, {\"subset\": \"validation\", \"label\": \"fly\", \"person\": \"paul\", \"id\": 43, \"acceleration\": -51.0, \"time\": 0.9, \"dimension\": \"z\"}, {\"subset\": \"validation\", \"label\": \"fly\", \"person\": \"paul\", \"id\": 43, \"acceleration\": 58.0, \"time\": 1.0, \"dimension\": \"x\"}, {\"subset\": \"validation\", \"label\": \"fly\", \"person\": \"paul\", \"id\": 43, \"acceleration\": 22.0, \"time\": 1.0, \"dimension\": \"y\"}, {\"subset\": \"validation\", \"label\": \"fly\", \"person\": \"paul\", \"id\": 43, \"acceleration\": -38.0, \"time\": 1.0, \"dimension\": \"z\"}, {\"subset\": \"validation\", \"label\": \"fly\", \"person\": \"paul\", \"id\": 43, \"acceleration\": 57.0, \"time\": 1.1, \"dimension\": \"x\"}, {\"subset\": \"validation\", \"label\": \"fly\", \"person\": \"paul\", \"id\": 43, \"acceleration\": 21.0, \"time\": 1.1, \"dimension\": \"y\"}, {\"subset\": \"validation\", \"label\": \"fly\", \"person\": \"paul\", \"id\": 43, \"acceleration\": -32.0, \"time\": 1.1, \"dimension\": \"z\"}, {\"subset\": \"validation\", \"label\": \"fly\", \"person\": \"paul\", \"id\": 43, \"acceleration\": 56.0, \"time\": 1.2, \"dimension\": \"x\"}, {\"subset\": \"validation\", \"label\": \"fly\", \"person\": \"paul\", \"id\": 43, \"acceleration\": 21.0, \"time\": 1.2, \"dimension\": \"y\"}, {\"subset\": \"validation\", \"label\": \"fly\", \"person\": \"paul\", \"id\": 43, \"acceleration\": -29.0, \"time\": 1.2, \"dimension\": \"z\"}, {\"subset\": \"validation\", \"label\": \"fly\", \"person\": \"paul\", \"id\": 44, \"acceleration\": 58.0, \"time\": 0.0, \"dimension\": \"x\"}, {\"subset\": \"validation\", \"label\": \"fly\", \"person\": \"paul\", \"id\": 44, \"acceleration\": 30.0, \"time\": 0.0, \"dimension\": \"y\"}, {\"subset\": \"validation\", \"label\": \"fly\", \"person\": \"paul\", \"id\": 44, \"acceleration\": -11.0, \"time\": 0.0, \"dimension\": \"z\"}, {\"subset\": \"validation\", \"label\": \"fly\", \"person\": \"paul\", \"id\": 44, \"acceleration\": 63.0, \"time\": 0.1, \"dimension\": \"x\"}, {\"subset\": \"validation\", \"label\": \"fly\", \"person\": \"paul\", \"id\": 44, \"acceleration\": 35.0, \"time\": 0.1, \"dimension\": \"y\"}, {\"subset\": \"validation\", \"label\": \"fly\", \"person\": \"paul\", \"id\": 44, \"acceleration\": -31.0, \"time\": 0.1, \"dimension\": \"z\"}, {\"subset\": \"validation\", \"label\": \"fly\", \"person\": \"paul\", \"id\": 44, \"acceleration\": 75.0, \"time\": 0.2, \"dimension\": \"x\"}, {\"subset\": \"validation\", \"label\": \"fly\", \"person\": \"paul\", \"id\": 44, \"acceleration\": 47.0, \"time\": 0.2, \"dimension\": \"y\"}, {\"subset\": \"validation\", \"label\": \"fly\", \"person\": \"paul\", \"id\": 44, \"acceleration\": -73.0, \"time\": 0.2, \"dimension\": \"z\"}, {\"subset\": \"validation\", \"label\": \"fly\", \"person\": \"paul\", \"id\": 44, \"acceleration\": 102.0, \"time\": 0.3, \"dimension\": \"x\"}, {\"subset\": \"validation\", \"label\": \"fly\", \"person\": \"paul\", \"id\": 44, \"acceleration\": 62.0, \"time\": 0.3, \"dimension\": \"y\"}, {\"subset\": \"validation\", \"label\": \"fly\", \"person\": \"paul\", \"id\": 44, \"acceleration\": -99.0, \"time\": 0.3, \"dimension\": \"z\"}, {\"subset\": \"validation\", \"label\": \"fly\", \"person\": \"paul\", \"id\": 44, \"acceleration\": 127.0, \"time\": 0.4, \"dimension\": \"x\"}, {\"subset\": \"validation\", \"label\": \"fly\", \"person\": \"paul\", \"id\": 44, \"acceleration\": 68.0, \"time\": 0.4, \"dimension\": \"y\"}, {\"subset\": \"validation\", \"label\": \"fly\", \"person\": \"paul\", \"id\": 44, \"acceleration\": -83.0, \"time\": 0.4, \"dimension\": \"z\"}, {\"subset\": \"validation\", \"label\": \"fly\", \"person\": \"paul\", \"id\": 44, \"acceleration\": 118.0, \"time\": 0.5, \"dimension\": \"x\"}, {\"subset\": \"validation\", \"label\": \"fly\", \"person\": \"paul\", \"id\": 44, \"acceleration\": 54.0, \"time\": 0.5, \"dimension\": \"y\"}, {\"subset\": \"validation\", \"label\": \"fly\", \"person\": \"paul\", \"id\": 44, \"acceleration\": -38.0, \"time\": 0.5, \"dimension\": \"z\"}, {\"subset\": \"validation\", \"label\": \"fly\", \"person\": \"paul\", \"id\": 44, \"acceleration\": 73.0, \"time\": 0.6, \"dimension\": \"x\"}, {\"subset\": \"validation\", \"label\": \"fly\", \"person\": \"paul\", \"id\": 44, \"acceleration\": 35.0, \"time\": 0.6, \"dimension\": \"y\"}, {\"subset\": \"validation\", \"label\": \"fly\", \"person\": \"paul\", \"id\": 44, \"acceleration\": -2.0, \"time\": 0.6, \"dimension\": \"z\"}, {\"subset\": \"validation\", \"label\": \"fly\", \"person\": \"paul\", \"id\": 44, \"acceleration\": 25.0, \"time\": 0.7, \"dimension\": \"x\"}, {\"subset\": \"validation\", \"label\": \"fly\", \"person\": \"paul\", \"id\": 44, \"acceleration\": 19.0, \"time\": 0.7, \"dimension\": \"y\"}, {\"subset\": \"validation\", \"label\": \"fly\", \"person\": \"paul\", \"id\": 44, \"acceleration\": 10.0, \"time\": 0.7, \"dimension\": \"z\"}, {\"subset\": \"validation\", \"label\": \"fly\", \"person\": \"paul\", \"id\": 44, \"acceleration\": -7.0, \"time\": 0.8, \"dimension\": \"x\"}, {\"subset\": \"validation\", \"label\": \"fly\", \"person\": \"paul\", \"id\": 44, \"acceleration\": 6.0, \"time\": 0.8, \"dimension\": \"y\"}, {\"subset\": \"validation\", \"label\": \"fly\", \"person\": \"paul\", \"id\": 44, \"acceleration\": 3.0, \"time\": 0.8, \"dimension\": \"z\"}, {\"subset\": \"validation\", \"label\": \"fly\", \"person\": \"paul\", \"id\": 44, \"acceleration\": -27.0, \"time\": 0.9, \"dimension\": \"x\"}, {\"subset\": \"validation\", \"label\": \"fly\", \"person\": \"paul\", \"id\": 44, \"acceleration\": 0.0, \"time\": 0.9, \"dimension\": \"y\"}, {\"subset\": \"validation\", \"label\": \"fly\", \"person\": \"paul\", \"id\": 44, \"acceleration\": -11.0, \"time\": 0.9, \"dimension\": \"z\"}, {\"subset\": \"validation\", \"label\": \"fly\", \"person\": \"paul\", \"id\": 44, \"acceleration\": -37.0, \"time\": 1.0, \"dimension\": \"x\"}, {\"subset\": \"validation\", \"label\": \"fly\", \"person\": \"paul\", \"id\": 44, \"acceleration\": -1.0, \"time\": 1.0, \"dimension\": \"y\"}, {\"subset\": \"validation\", \"label\": \"fly\", \"person\": \"paul\", \"id\": 44, \"acceleration\": -24.0, \"time\": 1.0, \"dimension\": \"z\"}, {\"subset\": \"validation\", \"label\": \"fly\", \"person\": \"paul\", \"id\": 44, \"acceleration\": -42.0, \"time\": 1.1, \"dimension\": \"x\"}, {\"subset\": \"validation\", \"label\": \"fly\", \"person\": \"paul\", \"id\": 44, \"acceleration\": 0.0, \"time\": 1.1, \"dimension\": \"y\"}, {\"subset\": \"validation\", \"label\": \"fly\", \"person\": \"paul\", \"id\": 44, \"acceleration\": -33.0, \"time\": 1.1, \"dimension\": \"z\"}, {\"subset\": \"validation\", \"label\": \"fly\", \"person\": \"paul\", \"id\": 44, \"acceleration\": -44.0, \"time\": 1.2, \"dimension\": \"x\"}, {\"subset\": \"validation\", \"label\": \"fly\", \"person\": \"paul\", \"id\": 44, \"acceleration\": 1.0, \"time\": 1.2, \"dimension\": \"y\"}, {\"subset\": \"validation\", \"label\": \"fly\", \"person\": \"paul\", \"id\": 44, \"acceleration\": -38.0, \"time\": 1.2, \"dimension\": \"z\"}, {\"subset\": \"validation\", \"label\": \"fly\", \"person\": \"paul\", \"id\": 44, \"acceleration\": -45.0, \"time\": 1.3, \"dimension\": \"x\"}, {\"subset\": \"validation\", \"label\": \"fly\", \"person\": \"paul\", \"id\": 44, \"acceleration\": 1.0, \"time\": 1.3, \"dimension\": \"y\"}, {\"subset\": \"validation\", \"label\": \"fly\", \"person\": \"paul\", \"id\": 44, \"acceleration\": -43.0, \"time\": 1.3, \"dimension\": \"z\"}, {\"subset\": \"validation\", \"label\": \"fly\", \"person\": \"paul\", \"id\": 45, \"acceleration\": -23.0, \"time\": 0.0, \"dimension\": \"x\"}, {\"subset\": \"validation\", \"label\": \"fly\", \"person\": \"paul\", \"id\": 45, \"acceleration\": 1.0, \"time\": 0.0, \"dimension\": \"y\"}, {\"subset\": \"validation\", \"label\": \"fly\", \"person\": \"paul\", \"id\": 45, \"acceleration\": -60.0, \"time\": 0.0, \"dimension\": \"z\"}, {\"subset\": \"validation\", \"label\": \"fly\", \"person\": \"paul\", \"id\": 45, \"acceleration\": -22.0, \"time\": 0.1, \"dimension\": \"x\"}, {\"subset\": \"validation\", \"label\": \"fly\", \"person\": \"paul\", \"id\": 45, \"acceleration\": -2.0, \"time\": 0.1, \"dimension\": \"y\"}, {\"subset\": \"validation\", \"label\": \"fly\", \"person\": \"paul\", \"id\": 45, \"acceleration\": -50.0, \"time\": 0.1, \"dimension\": \"z\"}, {\"subset\": \"validation\", \"label\": \"fly\", \"person\": \"paul\", \"id\": 45, \"acceleration\": -18.0, \"time\": 0.2, \"dimension\": \"x\"}, {\"subset\": \"validation\", \"label\": \"fly\", \"person\": \"paul\", \"id\": 45, \"acceleration\": -1.0, \"time\": 0.2, \"dimension\": \"y\"}, {\"subset\": \"validation\", \"label\": \"fly\", \"person\": \"paul\", \"id\": 45, \"acceleration\": -24.0, \"time\": 0.2, \"dimension\": \"z\"}, {\"subset\": \"validation\", \"label\": \"fly\", \"person\": \"paul\", \"id\": 45, \"acceleration\": -1.0, \"time\": 0.3, \"dimension\": \"x\"}, {\"subset\": \"validation\", \"label\": \"fly\", \"person\": \"paul\", \"id\": 45, \"acceleration\": 10.0, \"time\": 0.3, \"dimension\": \"y\"}, {\"subset\": \"validation\", \"label\": \"fly\", \"person\": \"paul\", \"id\": 45, \"acceleration\": -5.0, \"time\": 0.3, \"dimension\": \"z\"}, {\"subset\": \"validation\", \"label\": \"fly\", \"person\": \"paul\", \"id\": 45, \"acceleration\": 26.0, \"time\": 0.4, \"dimension\": \"x\"}, {\"subset\": \"validation\", \"label\": \"fly\", \"person\": \"paul\", \"id\": 45, \"acceleration\": 22.0, \"time\": 0.4, \"dimension\": \"y\"}, {\"subset\": \"validation\", \"label\": \"fly\", \"person\": \"paul\", \"id\": 45, \"acceleration\": -15.0, \"time\": 0.4, \"dimension\": \"z\"}, {\"subset\": \"validation\", \"label\": \"fly\", \"person\": \"paul\", \"id\": 45, \"acceleration\": 56.0, \"time\": 0.5, \"dimension\": \"x\"}, {\"subset\": \"validation\", \"label\": \"fly\", \"person\": \"paul\", \"id\": 45, \"acceleration\": 27.0, \"time\": 0.5, \"dimension\": \"y\"}, {\"subset\": \"validation\", \"label\": \"fly\", \"person\": \"paul\", \"id\": 45, \"acceleration\": -45.0, \"time\": 0.5, \"dimension\": \"z\"}, {\"subset\": \"validation\", \"label\": \"fly\", \"person\": \"paul\", \"id\": 45, \"acceleration\": 72.0, \"time\": 0.6, \"dimension\": \"x\"}, {\"subset\": \"validation\", \"label\": \"fly\", \"person\": \"paul\", \"id\": 45, \"acceleration\": 29.0, \"time\": 0.6, \"dimension\": \"y\"}, {\"subset\": \"validation\", \"label\": \"fly\", \"person\": \"paul\", \"id\": 45, \"acceleration\": -74.0, \"time\": 0.6, \"dimension\": \"z\"}, {\"subset\": \"validation\", \"label\": \"fly\", \"person\": \"paul\", \"id\": 45, \"acceleration\": 69.0, \"time\": 0.7, \"dimension\": \"x\"}, {\"subset\": \"validation\", \"label\": \"fly\", \"person\": \"paul\", \"id\": 45, \"acceleration\": 31.0, \"time\": 0.7, \"dimension\": \"y\"}, {\"subset\": \"validation\", \"label\": \"fly\", \"person\": \"paul\", \"id\": 45, \"acceleration\": -83.0, \"time\": 0.7, \"dimension\": \"z\"}, {\"subset\": \"validation\", \"label\": \"fly\", \"person\": \"paul\", \"id\": 45, \"acceleration\": 62.0, \"time\": 0.8, \"dimension\": \"x\"}, {\"subset\": \"validation\", \"label\": \"fly\", \"person\": \"paul\", \"id\": 45, \"acceleration\": 30.0, \"time\": 0.8, \"dimension\": \"y\"}, {\"subset\": \"validation\", \"label\": \"fly\", \"person\": \"paul\", \"id\": 45, \"acceleration\": -74.0, \"time\": 0.8, \"dimension\": \"z\"}, {\"subset\": \"validation\", \"label\": \"fly\", \"person\": \"paul\", \"id\": 45, \"acceleration\": 58.0, \"time\": 0.9, \"dimension\": \"x\"}, {\"subset\": \"validation\", \"label\": \"fly\", \"person\": \"paul\", \"id\": 45, \"acceleration\": 26.0, \"time\": 0.9, \"dimension\": \"y\"}, {\"subset\": \"validation\", \"label\": \"fly\", \"person\": \"paul\", \"id\": 45, \"acceleration\": -60.0, \"time\": 0.9, \"dimension\": \"z\"}, {\"subset\": \"validation\", \"label\": \"fly\", \"person\": \"paul\", \"id\": 46, \"acceleration\": 55.0, \"time\": 0.0, \"dimension\": \"x\"}, {\"subset\": \"validation\", \"label\": \"fly\", \"person\": \"paul\", \"id\": 46, \"acceleration\": 31.0, \"time\": 0.0, \"dimension\": \"y\"}, {\"subset\": \"validation\", \"label\": \"fly\", \"person\": \"paul\", \"id\": 46, \"acceleration\": -21.0, \"time\": 0.0, \"dimension\": \"z\"}, {\"subset\": \"validation\", \"label\": \"fly\", \"person\": \"paul\", \"id\": 46, \"acceleration\": 56.0, \"time\": 0.1, \"dimension\": \"x\"}, {\"subset\": \"validation\", \"label\": \"fly\", \"person\": \"paul\", \"id\": 46, \"acceleration\": 34.0, \"time\": 0.1, \"dimension\": \"y\"}, {\"subset\": \"validation\", \"label\": \"fly\", \"person\": \"paul\", \"id\": 46, \"acceleration\": -36.0, \"time\": 0.1, \"dimension\": \"z\"}, {\"subset\": \"validation\", \"label\": \"fly\", \"person\": \"paul\", \"id\": 46, \"acceleration\": 65.0, \"time\": 0.2, \"dimension\": \"x\"}, {\"subset\": \"validation\", \"label\": \"fly\", \"person\": \"paul\", \"id\": 46, \"acceleration\": 39.0, \"time\": 0.2, \"dimension\": \"y\"}, {\"subset\": \"validation\", \"label\": \"fly\", \"person\": \"paul\", \"id\": 46, \"acceleration\": -74.0, \"time\": 0.2, \"dimension\": \"z\"}, {\"subset\": \"validation\", \"label\": \"fly\", \"person\": \"paul\", \"id\": 46, \"acceleration\": 88.0, \"time\": 0.3, \"dimension\": \"x\"}, {\"subset\": \"validation\", \"label\": \"fly\", \"person\": \"paul\", \"id\": 46, \"acceleration\": 43.0, \"time\": 0.3, \"dimension\": \"y\"}, {\"subset\": \"validation\", \"label\": \"fly\", \"person\": \"paul\", \"id\": 46, \"acceleration\": -102.0, \"time\": 0.3, \"dimension\": \"z\"}, {\"subset\": \"validation\", \"label\": \"fly\", \"person\": \"paul\", \"id\": 46, \"acceleration\": 105.0, \"time\": 0.4, \"dimension\": \"x\"}, {\"subset\": \"validation\", \"label\": \"fly\", \"person\": \"paul\", \"id\": 46, \"acceleration\": 43.0, \"time\": 0.4, \"dimension\": \"y\"}, {\"subset\": \"validation\", \"label\": \"fly\", \"person\": \"paul\", \"id\": 46, \"acceleration\": -81.0, \"time\": 0.4, \"dimension\": \"z\"}, {\"subset\": \"validation\", \"label\": \"fly\", \"person\": \"paul\", \"id\": 46, \"acceleration\": 90.0, \"time\": 0.5, \"dimension\": \"x\"}, {\"subset\": \"validation\", \"label\": \"fly\", \"person\": \"paul\", \"id\": 46, \"acceleration\": 36.0, \"time\": 0.5, \"dimension\": \"y\"}, {\"subset\": \"validation\", \"label\": \"fly\", \"person\": \"paul\", \"id\": 46, \"acceleration\": -37.0, \"time\": 0.5, \"dimension\": \"z\"}, {\"subset\": \"validation\", \"label\": \"fly\", \"person\": \"paul\", \"id\": 46, \"acceleration\": 52.0, \"time\": 0.6, \"dimension\": \"x\"}, {\"subset\": \"validation\", \"label\": \"fly\", \"person\": \"paul\", \"id\": 46, \"acceleration\": 26.0, \"time\": 0.6, \"dimension\": \"y\"}, {\"subset\": \"validation\", \"label\": \"fly\", \"person\": \"paul\", \"id\": 46, \"acceleration\": -11.0, \"time\": 0.6, \"dimension\": \"z\"}, {\"subset\": \"validation\", \"label\": \"fly\", \"person\": \"paul\", \"id\": 46, \"acceleration\": -16.0, \"time\": 0.7, \"dimension\": \"x\"}, {\"subset\": \"validation\", \"label\": \"fly\", \"person\": \"paul\", \"id\": 46, \"acceleration\": 9.0, \"time\": 0.7, \"dimension\": \"y\"}, {\"subset\": \"validation\", \"label\": \"fly\", \"person\": \"paul\", \"id\": 46, \"acceleration\": -36.0, \"time\": 0.7, \"dimension\": \"z\"}, {\"subset\": \"validation\", \"label\": \"fly\", \"person\": \"paul\", \"id\": 46, \"acceleration\": -22.0, \"time\": 0.8, \"dimension\": \"x\"}, {\"subset\": \"validation\", \"label\": \"fly\", \"person\": \"paul\", \"id\": 46, \"acceleration\": 9.0, \"time\": 0.8, \"dimension\": \"y\"}, {\"subset\": \"validation\", \"label\": \"fly\", \"person\": \"paul\", \"id\": 46, \"acceleration\": -46.0, \"time\": 0.8, \"dimension\": \"z\"}, {\"subset\": \"validation\", \"label\": \"fly\", \"person\": \"paul\", \"id\": 46, \"acceleration\": -24.0, \"time\": 0.9, \"dimension\": \"x\"}, {\"subset\": \"validation\", \"label\": \"fly\", \"person\": \"paul\", \"id\": 46, \"acceleration\": 7.0, \"time\": 0.9, \"dimension\": \"y\"}, {\"subset\": \"validation\", \"label\": \"fly\", \"person\": \"paul\", \"id\": 46, \"acceleration\": -52.0, \"time\": 0.9, \"dimension\": \"z\"}, {\"subset\": \"validation\", \"label\": \"fly\", \"person\": \"paul\", \"id\": 46, \"acceleration\": -25.0, \"time\": 1.0, \"dimension\": \"x\"}, {\"subset\": \"validation\", \"label\": \"fly\", \"person\": \"paul\", \"id\": 46, \"acceleration\": 5.0, \"time\": 1.0, \"dimension\": \"y\"}, {\"subset\": \"validation\", \"label\": \"fly\", \"person\": \"paul\", \"id\": 46, \"acceleration\": -55.0, \"time\": 1.0, \"dimension\": \"z\"}, {\"subset\": \"validation\", \"label\": \"fly\", \"person\": \"paul\", \"id\": 47, \"acceleration\": 57.0, \"time\": 0.0, \"dimension\": \"x\"}, {\"subset\": \"validation\", \"label\": \"fly\", \"person\": \"paul\", \"id\": 47, \"acceleration\": 30.0, \"time\": 0.0, \"dimension\": \"y\"}, {\"subset\": \"validation\", \"label\": \"fly\", \"person\": \"paul\", \"id\": 47, \"acceleration\": -12.0, \"time\": 0.0, \"dimension\": \"z\"}, {\"subset\": \"validation\", \"label\": \"fly\", \"person\": \"paul\", \"id\": 47, \"acceleration\": 60.0, \"time\": 0.1, \"dimension\": \"x\"}, {\"subset\": \"validation\", \"label\": \"fly\", \"person\": \"paul\", \"id\": 47, \"acceleration\": 36.0, \"time\": 0.1, \"dimension\": \"y\"}, {\"subset\": \"validation\", \"label\": \"fly\", \"person\": \"paul\", \"id\": 47, \"acceleration\": -27.0, \"time\": 0.1, \"dimension\": \"z\"}, {\"subset\": \"validation\", \"label\": \"fly\", \"person\": \"paul\", \"id\": 47, \"acceleration\": 68.0, \"time\": 0.2, \"dimension\": \"x\"}, {\"subset\": \"validation\", \"label\": \"fly\", \"person\": \"paul\", \"id\": 47, \"acceleration\": 43.0, \"time\": 0.2, \"dimension\": \"y\"}, {\"subset\": \"validation\", \"label\": \"fly\", \"person\": \"paul\", \"id\": 47, \"acceleration\": -62.0, \"time\": 0.2, \"dimension\": \"z\"}, {\"subset\": \"validation\", \"label\": \"fly\", \"person\": \"paul\", \"id\": 47, \"acceleration\": 88.0, \"time\": 0.3, \"dimension\": \"x\"}, {\"subset\": \"validation\", \"label\": \"fly\", \"person\": \"paul\", \"id\": 47, \"acceleration\": 49.0, \"time\": 0.3, \"dimension\": \"y\"}, {\"subset\": \"validation\", \"label\": \"fly\", \"person\": \"paul\", \"id\": 47, \"acceleration\": -88.0, \"time\": 0.3, \"dimension\": \"z\"}, {\"subset\": \"validation\", \"label\": \"fly\", \"person\": \"paul\", \"id\": 47, \"acceleration\": 108.0, \"time\": 0.4, \"dimension\": \"x\"}, {\"subset\": \"validation\", \"label\": \"fly\", \"person\": \"paul\", \"id\": 47, \"acceleration\": 54.0, \"time\": 0.4, \"dimension\": \"y\"}, {\"subset\": \"validation\", \"label\": \"fly\", \"person\": \"paul\", \"id\": 47, \"acceleration\": -81.0, \"time\": 0.4, \"dimension\": \"z\"}, {\"subset\": \"validation\", \"label\": \"fly\", \"person\": \"paul\", \"id\": 47, \"acceleration\": 104.0, \"time\": 0.5, \"dimension\": \"x\"}, {\"subset\": \"validation\", \"label\": \"fly\", \"person\": \"paul\", \"id\": 47, \"acceleration\": 31.0, \"time\": 0.5, \"dimension\": \"y\"}, {\"subset\": \"validation\", \"label\": \"fly\", \"person\": \"paul\", \"id\": 47, \"acceleration\": -18.0, \"time\": 0.5, \"dimension\": \"z\"}, {\"subset\": \"validation\", \"label\": \"fly\", \"person\": \"paul\", \"id\": 47, \"acceleration\": 30.0, \"time\": 0.6, \"dimension\": \"x\"}, {\"subset\": \"validation\", \"label\": \"fly\", \"person\": \"paul\", \"id\": 47, \"acceleration\": 20.0, \"time\": 0.6, \"dimension\": \"y\"}, {\"subset\": \"validation\", \"label\": \"fly\", \"person\": \"paul\", \"id\": 47, \"acceleration\": -4.0, \"time\": 0.6, \"dimension\": \"z\"}, {\"subset\": \"validation\", \"label\": \"fly\", \"person\": \"paul\", \"id\": 47, \"acceleration\": -1.0, \"time\": 0.7, \"dimension\": \"x\"}, {\"subset\": \"validation\", \"label\": \"fly\", \"person\": \"paul\", \"id\": 47, \"acceleration\": 11.0, \"time\": 0.7, \"dimension\": \"y\"}, {\"subset\": \"validation\", \"label\": \"fly\", \"person\": \"paul\", \"id\": 47, \"acceleration\": -6.0, \"time\": 0.7, \"dimension\": \"z\"}, {\"subset\": \"validation\", \"label\": \"fly\", \"person\": \"paul\", \"id\": 47, \"acceleration\": -20.0, \"time\": 0.8, \"dimension\": \"x\"}, {\"subset\": \"validation\", \"label\": \"fly\", \"person\": \"paul\", \"id\": 47, \"acceleration\": 6.0, \"time\": 0.8, \"dimension\": \"y\"}, {\"subset\": \"validation\", \"label\": \"fly\", \"person\": \"paul\", \"id\": 47, \"acceleration\": -18.0, \"time\": 0.8, \"dimension\": \"z\"}, {\"subset\": \"validation\", \"label\": \"fly\", \"person\": \"paul\", \"id\": 47, \"acceleration\": -30.0, \"time\": 0.9, \"dimension\": \"x\"}, {\"subset\": \"validation\", \"label\": \"fly\", \"person\": \"paul\", \"id\": 47, \"acceleration\": 4.0, \"time\": 0.9, \"dimension\": \"y\"}, {\"subset\": \"validation\", \"label\": \"fly\", \"person\": \"paul\", \"id\": 47, \"acceleration\": -31.0, \"time\": 0.9, \"dimension\": \"z\"}, {\"subset\": \"validation\", \"label\": \"fly\", \"person\": \"paul\", \"id\": 47, \"acceleration\": -34.0, \"time\": 1.0, \"dimension\": \"x\"}, {\"subset\": \"validation\", \"label\": \"fly\", \"person\": \"paul\", \"id\": 47, \"acceleration\": 4.0, \"time\": 1.0, \"dimension\": \"y\"}, {\"subset\": \"validation\", \"label\": \"fly\", \"person\": \"paul\", \"id\": 47, \"acceleration\": -41.0, \"time\": 1.0, \"dimension\": \"z\"}, {\"subset\": \"validation\", \"label\": \"fly\", \"person\": \"paul\", \"id\": 47, \"acceleration\": -35.0, \"time\": 1.1, \"dimension\": \"x\"}, {\"subset\": \"validation\", \"label\": \"fly\", \"person\": \"paul\", \"id\": 47, \"acceleration\": 4.0, \"time\": 1.1, \"dimension\": \"y\"}, {\"subset\": \"validation\", \"label\": \"fly\", \"person\": \"paul\", \"id\": 47, \"acceleration\": -48.0, \"time\": 1.1, \"dimension\": \"z\"}, {\"subset\": \"validation\", \"label\": \"fly\", \"person\": \"paul\", \"id\": 47, \"acceleration\": -36.0, \"time\": 1.2, \"dimension\": \"x\"}, {\"subset\": \"validation\", \"label\": \"fly\", \"person\": \"paul\", \"id\": 47, \"acceleration\": 3.0, \"time\": 1.2, \"dimension\": \"y\"}, {\"subset\": \"validation\", \"label\": \"fly\", \"person\": \"paul\", \"id\": 47, \"acceleration\": -51.0, \"time\": 1.2, \"dimension\": \"z\"}, {\"subset\": \"validation\", \"label\": \"fly\", \"person\": \"paul\", \"id\": 48, \"acceleration\": 56.0, \"time\": 0.0, \"dimension\": \"x\"}, {\"subset\": \"validation\", \"label\": \"fly\", \"person\": \"paul\", \"id\": 48, \"acceleration\": 31.0, \"time\": 0.0, \"dimension\": \"y\"}, {\"subset\": \"validation\", \"label\": \"fly\", \"person\": \"paul\", \"id\": 48, \"acceleration\": -16.0, \"time\": 0.0, \"dimension\": \"z\"}, {\"subset\": \"validation\", \"label\": \"fly\", \"person\": \"paul\", \"id\": 48, \"acceleration\": 59.0, \"time\": 0.1, \"dimension\": \"x\"}, {\"subset\": \"validation\", \"label\": \"fly\", \"person\": \"paul\", \"id\": 48, \"acceleration\": 33.0, \"time\": 0.1, \"dimension\": \"y\"}, {\"subset\": \"validation\", \"label\": \"fly\", \"person\": \"paul\", \"id\": 48, \"acceleration\": -32.0, \"time\": 0.1, \"dimension\": \"z\"}, {\"subset\": \"validation\", \"label\": \"fly\", \"person\": \"paul\", \"id\": 48, \"acceleration\": 67.0, \"time\": 0.2, \"dimension\": \"x\"}, {\"subset\": \"validation\", \"label\": \"fly\", \"person\": \"paul\", \"id\": 48, \"acceleration\": 35.0, \"time\": 0.2, \"dimension\": \"y\"}, {\"subset\": \"validation\", \"label\": \"fly\", \"person\": \"paul\", \"id\": 48, \"acceleration\": -62.0, \"time\": 0.2, \"dimension\": \"z\"}, {\"subset\": \"validation\", \"label\": \"fly\", \"person\": \"paul\", \"id\": 48, \"acceleration\": 81.0, \"time\": 0.3, \"dimension\": \"x\"}, {\"subset\": \"validation\", \"label\": \"fly\", \"person\": \"paul\", \"id\": 48, \"acceleration\": 40.0, \"time\": 0.3, \"dimension\": \"y\"}, {\"subset\": \"validation\", \"label\": \"fly\", \"person\": \"paul\", \"id\": 48, \"acceleration\": -82.0, \"time\": 0.3, \"dimension\": \"z\"}, {\"subset\": \"validation\", \"label\": \"fly\", \"person\": \"paul\", \"id\": 48, \"acceleration\": 94.0, \"time\": 0.4, \"dimension\": \"x\"}, {\"subset\": \"validation\", \"label\": \"fly\", \"person\": \"paul\", \"id\": 48, \"acceleration\": 44.0, \"time\": 0.4, \"dimension\": \"y\"}, {\"subset\": \"validation\", \"label\": \"fly\", \"person\": \"paul\", \"id\": 48, \"acceleration\": -73.0, \"time\": 0.4, \"dimension\": \"z\"}, {\"subset\": \"validation\", \"label\": \"fly\", \"person\": \"paul\", \"id\": 48, \"acceleration\": 86.0, \"time\": 0.5, \"dimension\": \"x\"}, {\"subset\": \"validation\", \"label\": \"fly\", \"person\": \"paul\", \"id\": 48, \"acceleration\": 39.0, \"time\": 0.5, \"dimension\": \"y\"}, {\"subset\": \"validation\", \"label\": \"fly\", \"person\": \"paul\", \"id\": 48, \"acceleration\": -47.0, \"time\": 0.5, \"dimension\": \"z\"}, {\"subset\": \"validation\", \"label\": \"fly\", \"person\": \"paul\", \"id\": 48, \"acceleration\": 58.0, \"time\": 0.6, \"dimension\": \"x\"}, {\"subset\": \"validation\", \"label\": \"fly\", \"person\": \"paul\", \"id\": 48, \"acceleration\": 29.0, \"time\": 0.6, \"dimension\": \"y\"}, {\"subset\": \"validation\", \"label\": \"fly\", \"person\": \"paul\", \"id\": 48, \"acceleration\": -21.0, \"time\": 0.6, \"dimension\": \"z\"}, {\"subset\": \"validation\", \"label\": \"fly\", \"person\": \"paul\", \"id\": 48, \"acceleration\": 25.0, \"time\": 0.7, \"dimension\": \"x\"}, {\"subset\": \"validation\", \"label\": \"fly\", \"person\": \"paul\", \"id\": 48, \"acceleration\": 19.0, \"time\": 0.7, \"dimension\": \"y\"}, {\"subset\": \"validation\", \"label\": \"fly\", \"person\": \"paul\", \"id\": 48, \"acceleration\": -9.0, \"time\": 0.7, \"dimension\": \"z\"}, {\"subset\": \"validation\", \"label\": \"fly\", \"person\": \"paul\", \"id\": 48, \"acceleration\": 1.0, \"time\": 0.8, \"dimension\": \"x\"}, {\"subset\": \"validation\", \"label\": \"fly\", \"person\": \"paul\", \"id\": 48, \"acceleration\": 13.0, \"time\": 0.8, \"dimension\": \"y\"}, {\"subset\": \"validation\", \"label\": \"fly\", \"person\": \"paul\", \"id\": 48, \"acceleration\": -18.0, \"time\": 0.8, \"dimension\": \"z\"}, {\"subset\": \"validation\", \"label\": \"fly\", \"person\": \"paul\", \"id\": 48, \"acceleration\": -11.0, \"time\": 0.9, \"dimension\": \"x\"}, {\"subset\": \"validation\", \"label\": \"fly\", \"person\": \"paul\", \"id\": 48, \"acceleration\": 11.0, \"time\": 0.9, \"dimension\": \"y\"}, {\"subset\": \"validation\", \"label\": \"fly\", \"person\": \"paul\", \"id\": 48, \"acceleration\": -35.0, \"time\": 0.9, \"dimension\": \"z\"}, {\"subset\": \"validation\", \"label\": \"fly\", \"person\": \"paul\", \"id\": 48, \"acceleration\": -16.0, \"time\": 1.0, \"dimension\": \"x\"}, {\"subset\": \"validation\", \"label\": \"fly\", \"person\": \"paul\", \"id\": 48, \"acceleration\": 12.0, \"time\": 1.0, \"dimension\": \"y\"}, {\"subset\": \"validation\", \"label\": \"fly\", \"person\": \"paul\", \"id\": 48, \"acceleration\": -47.0, \"time\": 1.0, \"dimension\": \"z\"}, {\"subset\": \"validation\", \"label\": \"fly\", \"person\": \"paul\", \"id\": 48, \"acceleration\": -18.0, \"time\": 1.1, \"dimension\": \"x\"}, {\"subset\": \"validation\", \"label\": \"fly\", \"person\": \"paul\", \"id\": 48, \"acceleration\": 11.0, \"time\": 1.1, \"dimension\": \"y\"}, {\"subset\": \"validation\", \"label\": \"fly\", \"person\": \"paul\", \"id\": 48, \"acceleration\": -54.0, \"time\": 1.1, \"dimension\": \"z\"}, {\"subset\": \"validation\", \"label\": \"fly\", \"person\": \"paul\", \"id\": 48, \"acceleration\": -19.0, \"time\": 1.2, \"dimension\": \"x\"}, {\"subset\": \"validation\", \"label\": \"fly\", \"person\": \"paul\", \"id\": 48, \"acceleration\": 11.0, \"time\": 1.2, \"dimension\": \"y\"}, {\"subset\": \"validation\", \"label\": \"fly\", \"person\": \"paul\", \"id\": 48, \"acceleration\": -58.0, \"time\": 1.2, \"dimension\": \"z\"}]}}, {\"mode\": \"vega-lite\"});\n",
       "</script>"
      ],
      "text/plain": [
       "alt.Chart(...)"
      ]
     },
     "execution_count": 4,
     "metadata": {},
     "output_type": "execute_result"
    }
   ],
   "source": [
    "#@title\n",
    "import altair as alt\n",
    "import numpy as np\n",
    "\n",
    "alt.Chart(\n",
    "    dataset_df[\n",
    "      np.logical_and(\n",
    "          dataset_df['subset'] == 'validation',\n",
    "          dataset_df['person'] == 'paul'\n",
    "      )\n",
    "    ],\n",
    "    width=200\n",
    ").mark_line(\n",
    "    opacity=0.4\n",
    ").encode(\n",
    "    x='time:Q',\n",
    "    y='acceleration:Q',\n",
    "    detail='id:N',\n",
    "    color='label:N',\n",
    "    column='dimension:N'\n",
    ").interactive(bind_y=False)"
   ]
  },
  {
   "cell_type": "markdown",
   "metadata": {
    "colab_type": "text",
    "id": "qmQJfG71-0XQ"
   },
   "source": [
    "The above plot, clearly shows that there is some difference  between each gesture. However, it is not clear how to accurately quantify this difference into something meaningful. To solve this problem machine learning is used."
   ]
  },
  {
   "cell_type": "markdown",
   "metadata": {
    "colab_type": "text",
    "id": "A0bpv7G8_kJm"
   },
   "source": [
    "### Understanding the data format"
   ]
  },
  {
   "cell_type": "markdown",
   "metadata": {
    "colab_type": "text",
    "id": "UOSidSIg8Zol"
   },
   "source": [
    "Each observation is a row in CSV file, for example:\n",
    "\n",
    "```\n",
    "swiperight(14), 2,-20,-22,0,-34,-25,0,-24,-27,2,-25,-26,0,-23,-23,0,-23,-23,-3,-23,-23,-11,-41,-14,-9,-40,8,3,-56,21,45,-29,1,14,15,-27,4,-15,-29,0,-26,-29\n",
    "```\n",
    "\n",
    "The observations are accelerometer data in `(x,y,z)` coordinates measured with 0.1 seconds interval. A typical gesture is between 1 and 2 seconds long. Meaning 10 to 15 samples.\n",
    "\n",
    "The `AccelerationReader` will read this format and change it into a 2d-array, with (x, y, z) as columns and samples as rows. This format is useful for the convolutional neural network which will be used later. An example of this is displayed below.\n",
    "\n",
    "_All observations are extended to have 50 samples, where missing samples are set to have acceleration `0`. You can set `max_sequence_length` in `AccelerationReader` to change this behavior._"
   ]
  },
  {
   "cell_type": "code",
   "execution_count": 5,
   "metadata": {
    "cellView": "form",
    "colab": {},
    "colab_type": "code",
    "id": "7mhE17QMLcbw"
   },
   "outputs": [
    {
     "data": {
      "text/html": [
       "<div>\n",
       "<style scoped>\n",
       "    .dataframe tbody tr th:only-of-type {\n",
       "        vertical-align: middle;\n",
       "    }\n",
       "\n",
       "    .dataframe tbody tr th {\n",
       "        vertical-align: top;\n",
       "    }\n",
       "\n",
       "    .dataframe thead th {\n",
       "        text-align: right;\n",
       "    }\n",
       "</style>\n",
       "<table border=\"1\" class=\"dataframe\">\n",
       "  <thead>\n",
       "    <tr style=\"text-align: right;\">\n",
       "      <th></th>\n",
       "      <th>x</th>\n",
       "      <th>y</th>\n",
       "      <th>z</th>\n",
       "    </tr>\n",
       "  </thead>\n",
       "  <tbody>\n",
       "    <tr>\n",
       "      <th>0</th>\n",
       "      <td>56.0</td>\n",
       "      <td>29.0</td>\n",
       "      <td>-13.0</td>\n",
       "    </tr>\n",
       "    <tr>\n",
       "      <th>1</th>\n",
       "      <td>57.0</td>\n",
       "      <td>30.0</td>\n",
       "      <td>-19.0</td>\n",
       "    </tr>\n",
       "    <tr>\n",
       "      <th>2</th>\n",
       "      <td>74.0</td>\n",
       "      <td>34.0</td>\n",
       "      <td>-80.0</td>\n",
       "    </tr>\n",
       "    <tr>\n",
       "      <th>3</th>\n",
       "      <td>96.0</td>\n",
       "      <td>35.0</td>\n",
       "      <td>-97.0</td>\n",
       "    </tr>\n",
       "    <tr>\n",
       "      <th>4</th>\n",
       "      <td>108.0</td>\n",
       "      <td>35.0</td>\n",
       "      <td>-76.0</td>\n",
       "    </tr>\n",
       "    <tr>\n",
       "      <th>5</th>\n",
       "      <td>91.0</td>\n",
       "      <td>29.0</td>\n",
       "      <td>-41.0</td>\n",
       "    </tr>\n",
       "    <tr>\n",
       "      <th>6</th>\n",
       "      <td>53.0</td>\n",
       "      <td>21.0</td>\n",
       "      <td>-15.0</td>\n",
       "    </tr>\n",
       "    <tr>\n",
       "      <th>7</th>\n",
       "      <td>14.0</td>\n",
       "      <td>18.0</td>\n",
       "      <td>-4.0</td>\n",
       "    </tr>\n",
       "    <tr>\n",
       "      <th>8</th>\n",
       "      <td>-10.0</td>\n",
       "      <td>17.0</td>\n",
       "      <td>-9.0</td>\n",
       "    </tr>\n",
       "    <tr>\n",
       "      <th>9</th>\n",
       "      <td>-21.0</td>\n",
       "      <td>12.0</td>\n",
       "      <td>-27.0</td>\n",
       "    </tr>\n",
       "    <tr>\n",
       "      <th>10</th>\n",
       "      <td>-25.0</td>\n",
       "      <td>6.0</td>\n",
       "      <td>-45.0</td>\n",
       "    </tr>\n",
       "    <tr>\n",
       "      <th>11</th>\n",
       "      <td>-26.0</td>\n",
       "      <td>4.0</td>\n",
       "      <td>-55.0</td>\n",
       "    </tr>\n",
       "    <tr>\n",
       "      <th>12</th>\n",
       "      <td>-27.0</td>\n",
       "      <td>3.0</td>\n",
       "      <td>-57.0</td>\n",
       "    </tr>\n",
       "    <tr>\n",
       "      <th>13</th>\n",
       "      <td>-27.0</td>\n",
       "      <td>3.0</td>\n",
       "      <td>-58.0</td>\n",
       "    </tr>\n",
       "    <tr>\n",
       "      <th>14</th>\n",
       "      <td>0.0</td>\n",
       "      <td>0.0</td>\n",
       "      <td>0.0</td>\n",
       "    </tr>\n",
       "    <tr>\n",
       "      <th>15</th>\n",
       "      <td>0.0</td>\n",
       "      <td>0.0</td>\n",
       "      <td>0.0</td>\n",
       "    </tr>\n",
       "    <tr>\n",
       "      <th>16</th>\n",
       "      <td>0.0</td>\n",
       "      <td>0.0</td>\n",
       "      <td>0.0</td>\n",
       "    </tr>\n",
       "    <tr>\n",
       "      <th>17</th>\n",
       "      <td>0.0</td>\n",
       "      <td>0.0</td>\n",
       "      <td>0.0</td>\n",
       "    </tr>\n",
       "    <tr>\n",
       "      <th>18</th>\n",
       "      <td>0.0</td>\n",
       "      <td>0.0</td>\n",
       "      <td>0.0</td>\n",
       "    </tr>\n",
       "    <tr>\n",
       "      <th>19</th>\n",
       "      <td>0.0</td>\n",
       "      <td>0.0</td>\n",
       "      <td>0.0</td>\n",
       "    </tr>\n",
       "  </tbody>\n",
       "</table>\n",
       "</div>"
      ],
      "text/plain": [
       "        x     y     z\n",
       "0    56.0  29.0 -13.0\n",
       "1    57.0  30.0 -19.0\n",
       "2    74.0  34.0 -80.0\n",
       "3    96.0  35.0 -97.0\n",
       "4   108.0  35.0 -76.0\n",
       "5    91.0  29.0 -41.0\n",
       "6    53.0  21.0 -15.0\n",
       "7    14.0  18.0  -4.0\n",
       "8   -10.0  17.0  -9.0\n",
       "9   -21.0  12.0 -27.0\n",
       "10  -25.0   6.0 -45.0\n",
       "11  -26.0   4.0 -55.0\n",
       "12  -27.0   3.0 -57.0\n",
       "13  -27.0   3.0 -58.0\n",
       "14    0.0   0.0   0.0\n",
       "15    0.0   0.0   0.0\n",
       "16    0.0   0.0   0.0\n",
       "17    0.0   0.0   0.0\n",
       "18    0.0   0.0   0.0\n",
       "19    0.0   0.0   0.0"
      ]
     },
     "metadata": {},
     "output_type": "display_data"
    }
   ],
   "source": [
    "#@title\n",
    "import pandas as pd\n",
    "display(pd.DataFrame(dataset.train.x[0, 0:20, 0, :], columns=['x', 'y', 'z']))"
   ]
  },
  {
   "cell_type": "markdown",
   "metadata": {
    "colab_type": "text",
    "id": "-7bPW0_lNV9y"
   },
   "source": [
    "Plotting this data looks like the following:"
   ]
  },
  {
   "cell_type": "code",
   "execution_count": 6,
   "metadata": {
    "cellView": "form",
    "colab": {},
    "colab_type": "code",
    "id": "N6sdEhTYoKgY"
   },
   "outputs": [
    {
     "data": {
      "text/html": [
       "\n",
       "<div id=\"altair-viz-73b806e697b2441aad969dc64778af5b\"></div>\n",
       "<script type=\"text/javascript\">\n",
       "  (function(spec, embedOpt){\n",
       "    let outputDiv = document.currentScript.previousElementSibling;\n",
       "    if (outputDiv.id !== \"altair-viz-73b806e697b2441aad969dc64778af5b\") {\n",
       "      outputDiv = document.getElementById(\"altair-viz-73b806e697b2441aad969dc64778af5b\");\n",
       "    }\n",
       "    const paths = {\n",
       "      \"vega\": \"https://cdn.jsdelivr.net/npm//vega@5?noext\",\n",
       "      \"vega-lib\": \"https://cdn.jsdelivr.net/npm//vega-lib?noext\",\n",
       "      \"vega-lite\": \"https://cdn.jsdelivr.net/npm//vega-lite@4.8.1?noext\",\n",
       "      \"vega-embed\": \"https://cdn.jsdelivr.net/npm//vega-embed@6?noext\",\n",
       "    };\n",
       "\n",
       "    function loadScript(lib) {\n",
       "      return new Promise(function(resolve, reject) {\n",
       "        var s = document.createElement('script');\n",
       "        s.src = paths[lib];\n",
       "        s.async = true;\n",
       "        s.onload = () => resolve(paths[lib]);\n",
       "        s.onerror = () => reject(`Error loading script: ${paths[lib]}`);\n",
       "        document.getElementsByTagName(\"head\")[0].appendChild(s);\n",
       "      });\n",
       "    }\n",
       "\n",
       "    function showError(err) {\n",
       "      outputDiv.innerHTML = `<div class=\"error\" style=\"color:red;\">${err}</div>`;\n",
       "      throw err;\n",
       "    }\n",
       "\n",
       "    function displayChart(vegaEmbed) {\n",
       "      vegaEmbed(outputDiv, spec, embedOpt)\n",
       "        .catch(err => showError(`Javascript Error: ${err.message}<br>This usually means there's a typo in your chart specification. See the javascript console for the full traceback.`));\n",
       "    }\n",
       "\n",
       "    if(typeof define === \"function\" && define.amd) {\n",
       "      requirejs.config({paths});\n",
       "      require([\"vega-embed\"], displayChart, err => showError(`Error loading script: ${err.message}`));\n",
       "    } else if (typeof vegaEmbed === \"function\") {\n",
       "      displayChart(vegaEmbed);\n",
       "    } else {\n",
       "      loadScript(\"vega\")\n",
       "        .then(() => loadScript(\"vega-lite\"))\n",
       "        .then(() => loadScript(\"vega-embed\"))\n",
       "        .catch(showError)\n",
       "        .then(() => displayChart(vegaEmbed));\n",
       "    }\n",
       "  })({\"config\": {\"view\": {\"continuousWidth\": 400, \"continuousHeight\": 300}}, \"data\": {\"name\": \"data-ea693a6a37b8ff26813edcbbbc2c21e8\"}, \"mark\": \"line\", \"encoding\": {\"color\": {\"type\": \"nominal\", \"field\": \"dimension\"}, \"x\": {\"type\": \"quantitative\", \"field\": \"time\"}, \"y\": {\"type\": \"quantitative\", \"field\": \"acceleration\"}}, \"selection\": {\"selector002\": {\"type\": \"interval\", \"bind\": \"scales\", \"encodings\": [\"x\"]}}, \"transform\": [{\"fold\": [\"x\", \"y\", \"z\"], \"as\": [\"dimension\", \"acceleration\"]}], \"width\": 600, \"$schema\": \"https://vega.github.io/schema/vega-lite/v4.8.1.json\", \"datasets\": {\"data-ea693a6a37b8ff26813edcbbbc2c21e8\": [{\"x\": 56.0, \"y\": 29.0, \"z\": -13.0, \"time\": 0.0}, {\"x\": 57.0, \"y\": 30.0, \"z\": -19.0, \"time\": 0.1}, {\"x\": 74.0, \"y\": 34.0, \"z\": -80.0, \"time\": 0.2}, {\"x\": 96.0, \"y\": 35.0, \"z\": -97.0, \"time\": 0.30000000000000004}, {\"x\": 108.0, \"y\": 35.0, \"z\": -76.0, \"time\": 0.4}, {\"x\": 91.0, \"y\": 29.0, \"z\": -41.0, \"time\": 0.5}, {\"x\": 53.0, \"y\": 21.0, \"z\": -15.0, \"time\": 0.6000000000000001}, {\"x\": 14.0, \"y\": 18.0, \"z\": -4.0, \"time\": 0.7000000000000001}, {\"x\": -10.0, \"y\": 17.0, \"z\": -9.0, \"time\": 0.8}, {\"x\": -21.0, \"y\": 12.0, \"z\": -27.0, \"time\": 0.9}, {\"x\": -25.0, \"y\": 6.0, \"z\": -45.0, \"time\": 1.0}, {\"x\": -26.0, \"y\": 4.0, \"z\": -55.0, \"time\": 1.1}, {\"x\": -27.0, \"y\": 3.0, \"z\": -57.0, \"time\": 1.2000000000000002}, {\"x\": -27.0, \"y\": 3.0, \"z\": -58.0, \"time\": 1.3}, {\"x\": 0.0, \"y\": 0.0, \"z\": 0.0, \"time\": 1.4000000000000001}, {\"x\": 0.0, \"y\": 0.0, \"z\": 0.0, \"time\": 1.5}, {\"x\": 0.0, \"y\": 0.0, \"z\": 0.0, \"time\": 1.6}, {\"x\": 0.0, \"y\": 0.0, \"z\": 0.0, \"time\": 1.7000000000000002}, {\"x\": 0.0, \"y\": 0.0, \"z\": 0.0, \"time\": 1.8}, {\"x\": 0.0, \"y\": 0.0, \"z\": 0.0, \"time\": 1.9000000000000001}, {\"x\": 0.0, \"y\": 0.0, \"z\": 0.0, \"time\": 2.0}, {\"x\": 0.0, \"y\": 0.0, \"z\": 0.0, \"time\": 2.1}, {\"x\": 0.0, \"y\": 0.0, \"z\": 0.0, \"time\": 2.2}, {\"x\": 0.0, \"y\": 0.0, \"z\": 0.0, \"time\": 2.3000000000000003}, {\"x\": 0.0, \"y\": 0.0, \"z\": 0.0, \"time\": 2.4000000000000004}, {\"x\": 0.0, \"y\": 0.0, \"z\": 0.0, \"time\": 2.5}, {\"x\": 0.0, \"y\": 0.0, \"z\": 0.0, \"time\": 2.6}, {\"x\": 0.0, \"y\": 0.0, \"z\": 0.0, \"time\": 2.7}, {\"x\": 0.0, \"y\": 0.0, \"z\": 0.0, \"time\": 2.8000000000000003}, {\"x\": 0.0, \"y\": 0.0, \"z\": 0.0, \"time\": 2.9000000000000004}, {\"x\": 0.0, \"y\": 0.0, \"z\": 0.0, \"time\": 3.0}, {\"x\": 0.0, \"y\": 0.0, \"z\": 0.0, \"time\": 3.1}, {\"x\": 0.0, \"y\": 0.0, \"z\": 0.0, \"time\": 3.2}, {\"x\": 0.0, \"y\": 0.0, \"z\": 0.0, \"time\": 3.3000000000000003}, {\"x\": 0.0, \"y\": 0.0, \"z\": 0.0, \"time\": 3.4000000000000004}, {\"x\": 0.0, \"y\": 0.0, \"z\": 0.0, \"time\": 3.5}, {\"x\": 0.0, \"y\": 0.0, \"z\": 0.0, \"time\": 3.6}, {\"x\": 0.0, \"y\": 0.0, \"z\": 0.0, \"time\": 3.7}, {\"x\": 0.0, \"y\": 0.0, \"z\": 0.0, \"time\": 3.8000000000000003}, {\"x\": 0.0, \"y\": 0.0, \"z\": 0.0, \"time\": 3.9000000000000004}, {\"x\": 0.0, \"y\": 0.0, \"z\": 0.0, \"time\": 4.0}, {\"x\": 0.0, \"y\": 0.0, \"z\": 0.0, \"time\": 4.1000000000000005}, {\"x\": 0.0, \"y\": 0.0, \"z\": 0.0, \"time\": 4.2}, {\"x\": 0.0, \"y\": 0.0, \"z\": 0.0, \"time\": 4.3}, {\"x\": 0.0, \"y\": 0.0, \"z\": 0.0, \"time\": 4.4}, {\"x\": 0.0, \"y\": 0.0, \"z\": 0.0, \"time\": 4.5}, {\"x\": 0.0, \"y\": 0.0, \"z\": 0.0, \"time\": 4.6000000000000005}, {\"x\": 0.0, \"y\": 0.0, \"z\": 0.0, \"time\": 4.7}, {\"x\": 0.0, \"y\": 0.0, \"z\": 0.0, \"time\": 4.800000000000001}, {\"x\": 0.0, \"y\": 0.0, \"z\": 0.0, \"time\": 4.9}]}}, {\"mode\": \"vega-lite\"});\n",
       "</script>"
      ],
      "text/plain": [
       "alt.Chart(...)"
      ]
     },
     "execution_count": 6,
     "metadata": {},
     "output_type": "execute_result"
    }
   ],
   "source": [
    "#@title\n",
    "import altair as alt\n",
    "import pandas as pd\n",
    "\n",
    "alt.Chart(\n",
    "    pd.DataFrame(\n",
    "        dataset.train.x[0, :, 0, :],\n",
    "        columns=['x', 'y', 'z']\n",
    "    ).assign(\n",
    "        time = np.arange(0, 5, 0.1)\n",
    "    ),\n",
    "    width=600\n",
    ").transform_fold(\n",
    "    ['x', 'y', 'z'],\n",
    "    as_=['dimension', 'acceleration']\n",
    ").mark_line(\n",
    ").encode(\n",
    "    x='time:Q',\n",
    "    y='acceleration:Q',\n",
    "    color='dimension:N'\n",
    ").interactive(bind_y=False)"
   ]
  },
  {
   "cell_type": "markdown",
   "metadata": {
    "colab_type": "text",
    "id": "8hkQLuQfXgIG"
   },
   "source": [
    "### Adding your own gesture"
   ]
  },
  {
   "cell_type": "markdown",
   "metadata": {
    "colab_type": "text",
    "id": "WA6B5YIyXhMs"
   },
   "source": [
    "To train with your own gestures you need to modify the `AccelerationReader`. For example, to add add the `swipeup` event from the `extra` dataset:\n",
    "\n",
    "```python\n",
    "dataset = AccelerationReader({\n",
    "        \"james\": ['./nodeconfeu-gesture-models/data/james-v2'],\n",
    "        \"conor\": ['./nodeconfeu-gesture-models/data/conor-v2'],\n",
    "        \"extra\": ['./nodeconfeu-gesture-models/data/extra-v2'] # added extra dataset\n",
    "    },\n",
    "    test_ratio=0.2, validation_ratio=0.2,\n",
    "    classnames=['swiperight', 'swipeleft', 'swipeup', 'upup', 'waggle', 'clap2', 'random']) # added 'swipeup'\n",
    "```\n",
    "\n",
    "_Note: The `extra` dataset, is just to get you started. You should record your own data and use that instead of `extra`._"
   ]
  },
  {
   "cell_type": "markdown",
   "metadata": {
    "colab_type": "text",
    "id": "w06ENGMFDIYR"
   },
   "source": [
    "### Remarks about cultural bias"
   ]
  },
  {
   "cell_type": "markdown",
   "metadata": {
    "colab_type": "text",
    "id": "dTCDAcV-DNtk"
   },
   "source": [
    "Describing a gesture isn't always straight forward. While we might think that something as simple as clapping is universally understood, it too is affected by our culture, environment, situation, etc.. Therefore while James and Conor both clapped with the watch on the left hand while sitting down, there is a significant difference in the data (see figure below).\n",
    "\n",
    "When trying out the model or when training it with your own data, it is therefore important to be aware of these differences. Either communicate the gestures precisely or even better try and collaborate with others to make a dataset that encompasses these differences."
   ]
  },
  {
   "cell_type": "code",
   "execution_count": 7,
   "metadata": {
    "cellView": "form",
    "colab": {},
    "colab_type": "code",
    "id": "aMcOGMv8M0LD"
   },
   "outputs": [
    {
     "data": {
      "text/html": [
       "\n",
       "<div id=\"altair-viz-dffc60638b8940c49c43de18799da4dc\"></div>\n",
       "<script type=\"text/javascript\">\n",
       "  (function(spec, embedOpt){\n",
       "    let outputDiv = document.currentScript.previousElementSibling;\n",
       "    if (outputDiv.id !== \"altair-viz-dffc60638b8940c49c43de18799da4dc\") {\n",
       "      outputDiv = document.getElementById(\"altair-viz-dffc60638b8940c49c43de18799da4dc\");\n",
       "    }\n",
       "    const paths = {\n",
       "      \"vega\": \"https://cdn.jsdelivr.net/npm//vega@5?noext\",\n",
       "      \"vega-lib\": \"https://cdn.jsdelivr.net/npm//vega-lib?noext\",\n",
       "      \"vega-lite\": \"https://cdn.jsdelivr.net/npm//vega-lite@4.8.1?noext\",\n",
       "      \"vega-embed\": \"https://cdn.jsdelivr.net/npm//vega-embed@6?noext\",\n",
       "    };\n",
       "\n",
       "    function loadScript(lib) {\n",
       "      return new Promise(function(resolve, reject) {\n",
       "        var s = document.createElement('script');\n",
       "        s.src = paths[lib];\n",
       "        s.async = true;\n",
       "        s.onload = () => resolve(paths[lib]);\n",
       "        s.onerror = () => reject(`Error loading script: ${paths[lib]}`);\n",
       "        document.getElementsByTagName(\"head\")[0].appendChild(s);\n",
       "      });\n",
       "    }\n",
       "\n",
       "    function showError(err) {\n",
       "      outputDiv.innerHTML = `<div class=\"error\" style=\"color:red;\">${err}</div>`;\n",
       "      throw err;\n",
       "    }\n",
       "\n",
       "    function displayChart(vegaEmbed) {\n",
       "      vegaEmbed(outputDiv, spec, embedOpt)\n",
       "        .catch(err => showError(`Javascript Error: ${err.message}<br>This usually means there's a typo in your chart specification. See the javascript console for the full traceback.`));\n",
       "    }\n",
       "\n",
       "    if(typeof define === \"function\" && define.amd) {\n",
       "      requirejs.config({paths});\n",
       "      require([\"vega-embed\"], displayChart, err => showError(`Error loading script: ${err.message}`));\n",
       "    } else if (typeof vegaEmbed === \"function\") {\n",
       "      displayChart(vegaEmbed);\n",
       "    } else {\n",
       "      loadScript(\"vega\")\n",
       "        .then(() => loadScript(\"vega-lite\"))\n",
       "        .then(() => loadScript(\"vega-embed\"))\n",
       "        .catch(showError)\n",
       "        .then(() => displayChart(vegaEmbed));\n",
       "    }\n",
       "  })({\"config\": {\"view\": {\"continuousWidth\": 400, \"continuousHeight\": 300}}, \"data\": {\"name\": \"data-495bbc5f09227e8bf2fa524c1e916260\"}, \"mark\": {\"type\": \"line\", \"opacity\": 0.4}, \"encoding\": {\"color\": {\"type\": \"nominal\", \"field\": \"person\"}, \"column\": {\"type\": \"nominal\", \"field\": \"dimension\"}, \"detail\": {\"type\": \"nominal\", \"field\": \"id\"}, \"x\": {\"type\": \"quantitative\", \"field\": \"time\"}, \"y\": {\"type\": \"quantitative\", \"field\": \"acceleration\"}}, \"selection\": {\"selector003\": {\"type\": \"interval\", \"bind\": \"scales\", \"encodings\": [\"x\"]}}, \"width\": 200, \"$schema\": \"https://vega.github.io/schema/vega-lite/v4.8.1.json\", \"datasets\": {\"data-495bbc5f09227e8bf2fa524c1e916260\": [{\"subset\": \"validation\", \"label\": \"fly\", \"person\": \"paul\", \"id\": 36, \"acceleration\": 58.0, \"time\": 0.0, \"dimension\": \"x\"}, {\"subset\": \"validation\", \"label\": \"fly\", \"person\": \"paul\", \"id\": 36, \"acceleration\": 26.0, \"time\": 0.0, \"dimension\": \"y\"}, {\"subset\": \"validation\", \"label\": \"fly\", \"person\": \"paul\", \"id\": 36, \"acceleration\": -15.0, \"time\": 0.0, \"dimension\": \"z\"}, {\"subset\": \"validation\", \"label\": \"fly\", \"person\": \"paul\", \"id\": 36, \"acceleration\": 59.0, \"time\": 0.1, \"dimension\": \"x\"}, {\"subset\": \"validation\", \"label\": \"fly\", \"person\": \"paul\", \"id\": 36, \"acceleration\": 27.0, \"time\": 0.1, \"dimension\": \"y\"}, {\"subset\": \"validation\", \"label\": \"fly\", \"person\": \"paul\", \"id\": 36, \"acceleration\": -24.0, \"time\": 0.1, \"dimension\": \"z\"}, {\"subset\": \"validation\", \"label\": \"fly\", \"person\": \"paul\", \"id\": 36, \"acceleration\": 63.0, \"time\": 0.2, \"dimension\": \"x\"}, {\"subset\": \"validation\", \"label\": \"fly\", \"person\": \"paul\", \"id\": 36, \"acceleration\": 31.0, \"time\": 0.2, \"dimension\": \"y\"}, {\"subset\": \"validation\", \"label\": \"fly\", \"person\": \"paul\", \"id\": 36, \"acceleration\": -48.0, \"time\": 0.2, \"dimension\": \"z\"}, {\"subset\": \"validation\", \"label\": \"fly\", \"person\": \"paul\", \"id\": 36, \"acceleration\": 76.0, \"time\": 0.3, \"dimension\": \"x\"}, {\"subset\": \"validation\", \"label\": \"fly\", \"person\": \"paul\", \"id\": 36, \"acceleration\": 37.0, \"time\": 0.3, \"dimension\": \"y\"}, {\"subset\": \"validation\", \"label\": \"fly\", \"person\": \"paul\", \"id\": 36, \"acceleration\": -79.0, \"time\": 0.3, \"dimension\": \"z\"}, {\"subset\": \"validation\", \"label\": \"fly\", \"person\": \"paul\", \"id\": 36, \"acceleration\": 97.0, \"time\": 0.4, \"dimension\": \"x\"}, {\"subset\": \"validation\", \"label\": \"fly\", \"person\": \"paul\", \"id\": 36, \"acceleration\": 42.0, \"time\": 0.4, \"dimension\": \"y\"}, {\"subset\": \"validation\", \"label\": \"fly\", \"person\": \"paul\", \"id\": 36, \"acceleration\": -94.0, \"time\": 0.4, \"dimension\": \"z\"}, {\"subset\": \"validation\", \"label\": \"fly\", \"person\": \"paul\", \"id\": 36, \"acceleration\": 108.0, \"time\": 0.5, \"dimension\": \"x\"}, {\"subset\": \"validation\", \"label\": \"fly\", \"person\": \"paul\", \"id\": 36, \"acceleration\": 44.0, \"time\": 0.5, \"dimension\": \"y\"}, {\"subset\": \"validation\", \"label\": \"fly\", \"person\": \"paul\", \"id\": 36, \"acceleration\": -78.0, \"time\": 0.5, \"dimension\": \"z\"}, {\"subset\": \"validation\", \"label\": \"fly\", \"person\": \"paul\", \"id\": 36, \"acceleration\": 92.0, \"time\": 0.6, \"dimension\": \"x\"}, {\"subset\": \"validation\", \"label\": \"fly\", \"person\": \"paul\", \"id\": 36, \"acceleration\": 37.0, \"time\": 0.6, \"dimension\": \"y\"}, {\"subset\": \"validation\", \"label\": \"fly\", \"person\": \"paul\", \"id\": 36, \"acceleration\": -45.0, \"time\": 0.6, \"dimension\": \"z\"}, {\"subset\": \"validation\", \"label\": \"fly\", \"person\": \"paul\", \"id\": 36, \"acceleration\": 54.0, \"time\": 0.7, \"dimension\": \"x\"}, {\"subset\": \"validation\", \"label\": \"fly\", \"person\": \"paul\", \"id\": 36, \"acceleration\": 27.0, \"time\": 0.7, \"dimension\": \"y\"}, {\"subset\": \"validation\", \"label\": \"fly\", \"person\": \"paul\", \"id\": 36, \"acceleration\": -14.0, \"time\": 0.7, \"dimension\": \"z\"}, {\"subset\": \"validation\", \"label\": \"fly\", \"person\": \"paul\", \"id\": 36, \"acceleration\": 15.0, \"time\": 0.8, \"dimension\": \"x\"}, {\"subset\": \"validation\", \"label\": \"fly\", \"person\": \"paul\", \"id\": 36, \"acceleration\": 17.0, \"time\": 0.8, \"dimension\": \"y\"}, {\"subset\": \"validation\", \"label\": \"fly\", \"person\": \"paul\", \"id\": 36, \"acceleration\": -2.0, \"time\": 0.8, \"dimension\": \"z\"}, {\"subset\": \"validation\", \"label\": \"fly\", \"person\": \"paul\", \"id\": 36, \"acceleration\": -12.0, \"time\": 0.9, \"dimension\": \"x\"}, {\"subset\": \"validation\", \"label\": \"fly\", \"person\": \"paul\", \"id\": 36, \"acceleration\": 6.0, \"time\": 0.9, \"dimension\": \"y\"}, {\"subset\": \"validation\", \"label\": \"fly\", \"person\": \"paul\", \"id\": 36, \"acceleration\": -9.0, \"time\": 0.9, \"dimension\": \"z\"}, {\"subset\": \"validation\", \"label\": \"fly\", \"person\": \"paul\", \"id\": 36, \"acceleration\": -27.0, \"time\": 1.0, \"dimension\": \"x\"}, {\"subset\": \"validation\", \"label\": \"fly\", \"person\": \"paul\", \"id\": 36, \"acceleration\": -1.0, \"time\": 1.0, \"dimension\": \"y\"}, {\"subset\": \"validation\", \"label\": \"fly\", \"person\": \"paul\", \"id\": 36, \"acceleration\": -23.0, \"time\": 1.0, \"dimension\": \"z\"}, {\"subset\": \"validation\", \"label\": \"fly\", \"person\": \"paul\", \"id\": 36, \"acceleration\": -34.0, \"time\": 1.1, \"dimension\": \"x\"}, {\"subset\": \"validation\", \"label\": \"fly\", \"person\": \"paul\", \"id\": 36, \"acceleration\": -4.0, \"time\": 1.1, \"dimension\": \"y\"}, {\"subset\": \"validation\", \"label\": \"fly\", \"person\": \"paul\", \"id\": 36, \"acceleration\": -35.0, \"time\": 1.1, \"dimension\": \"z\"}, {\"subset\": \"validation\", \"label\": \"fly\", \"person\": \"paul\", \"id\": 36, \"acceleration\": -37.0, \"time\": 1.2, \"dimension\": \"x\"}, {\"subset\": \"validation\", \"label\": \"fly\", \"person\": \"paul\", \"id\": 36, \"acceleration\": -4.0, \"time\": 1.2, \"dimension\": \"y\"}, {\"subset\": \"validation\", \"label\": \"fly\", \"person\": \"paul\", \"id\": 36, \"acceleration\": -43.0, \"time\": 1.2, \"dimension\": \"z\"}, {\"subset\": \"validation\", \"label\": \"fly\", \"person\": \"paul\", \"id\": 36, \"acceleration\": -38.0, \"time\": 1.3, \"dimension\": \"x\"}, {\"subset\": \"validation\", \"label\": \"fly\", \"person\": \"paul\", \"id\": 36, \"acceleration\": -6.0, \"time\": 1.3, \"dimension\": \"y\"}, {\"subset\": \"validation\", \"label\": \"fly\", \"person\": \"paul\", \"id\": 36, \"acceleration\": -46.0, \"time\": 1.3, \"dimension\": \"z\"}, {\"subset\": \"validation\", \"label\": \"fly\", \"person\": \"paul\", \"id\": 37, \"acceleration\": 57.0, \"time\": 0.0, \"dimension\": \"x\"}, {\"subset\": \"validation\", \"label\": \"fly\", \"person\": \"paul\", \"id\": 37, \"acceleration\": 29.0, \"time\": 0.0, \"dimension\": \"y\"}, {\"subset\": \"validation\", \"label\": \"fly\", \"person\": \"paul\", \"id\": 37, \"acceleration\": -13.0, \"time\": 0.0, \"dimension\": \"z\"}, {\"subset\": \"validation\", \"label\": \"fly\", \"person\": \"paul\", \"id\": 37, \"acceleration\": 60.0, \"time\": 0.1, \"dimension\": \"x\"}, {\"subset\": \"validation\", \"label\": \"fly\", \"person\": \"paul\", \"id\": 37, \"acceleration\": 31.0, \"time\": 0.1, \"dimension\": \"y\"}, {\"subset\": \"validation\", \"label\": \"fly\", \"person\": \"paul\", \"id\": 37, \"acceleration\": -34.0, \"time\": 0.1, \"dimension\": \"z\"}, {\"subset\": \"validation\", \"label\": \"fly\", \"person\": \"paul\", \"id\": 37, \"acceleration\": 76.0, \"time\": 0.2, \"dimension\": \"x\"}, {\"subset\": \"validation\", \"label\": \"fly\", \"person\": \"paul\", \"id\": 37, \"acceleration\": 33.0, \"time\": 0.2, \"dimension\": \"y\"}, {\"subset\": \"validation\", \"label\": \"fly\", \"person\": \"paul\", \"id\": 37, \"acceleration\": -84.0, \"time\": 0.2, \"dimension\": \"z\"}, {\"subset\": \"validation\", \"label\": \"fly\", \"person\": \"paul\", \"id\": 37, \"acceleration\": 111.0, \"time\": 0.3, \"dimension\": \"x\"}, {\"subset\": \"validation\", \"label\": \"fly\", \"person\": \"paul\", \"id\": 37, \"acceleration\": 34.0, \"time\": 0.3, \"dimension\": \"y\"}, {\"subset\": \"validation\", \"label\": \"fly\", \"person\": \"paul\", \"id\": 37, \"acceleration\": -116.0, \"time\": 0.3, \"dimension\": \"z\"}, {\"subset\": \"validation\", \"label\": \"fly\", \"person\": \"paul\", \"id\": 37, \"acceleration\": 127.0, \"time\": 0.4, \"dimension\": \"x\"}, {\"subset\": \"validation\", \"label\": \"fly\", \"person\": \"paul\", \"id\": 37, \"acceleration\": 36.0, \"time\": 0.4, \"dimension\": \"y\"}, {\"subset\": \"validation\", \"label\": \"fly\", \"person\": \"paul\", \"id\": 37, \"acceleration\": -92.0, \"time\": 0.4, \"dimension\": \"z\"}, {\"subset\": \"validation\", \"label\": \"fly\", \"person\": \"paul\", \"id\": 37, \"acceleration\": 118.0, \"time\": 0.5, \"dimension\": \"x\"}, {\"subset\": \"validation\", \"label\": \"fly\", \"person\": \"paul\", \"id\": 37, \"acceleration\": 34.0, \"time\": 0.5, \"dimension\": \"y\"}, {\"subset\": \"validation\", \"label\": \"fly\", \"person\": \"paul\", \"id\": 37, \"acceleration\": -44.0, \"time\": 0.5, \"dimension\": \"z\"}, {\"subset\": \"validation\", \"label\": \"fly\", \"person\": \"paul\", \"id\": 37, \"acceleration\": 70.0, \"time\": 0.6, \"dimension\": \"x\"}, {\"subset\": \"validation\", \"label\": \"fly\", \"person\": \"paul\", \"id\": 37, \"acceleration\": 27.0, \"time\": 0.6, \"dimension\": \"y\"}, {\"subset\": \"validation\", \"label\": \"fly\", \"person\": \"paul\", \"id\": 37, \"acceleration\": -5.0, \"time\": 0.6, \"dimension\": \"z\"}, {\"subset\": \"validation\", \"label\": \"fly\", \"person\": \"paul\", \"id\": 37, \"acceleration\": 23.0, \"time\": 0.7, \"dimension\": \"x\"}, {\"subset\": \"validation\", \"label\": \"fly\", \"person\": \"paul\", \"id\": 37, \"acceleration\": 22.0, \"time\": 0.7, \"dimension\": \"y\"}, {\"subset\": \"validation\", \"label\": \"fly\", \"person\": \"paul\", \"id\": 37, \"acceleration\": 12.0, \"time\": 0.7, \"dimension\": \"z\"}, {\"subset\": \"validation\", \"label\": \"fly\", \"person\": \"paul\", \"id\": 37, \"acceleration\": -9.0, \"time\": 0.8, \"dimension\": \"x\"}, {\"subset\": \"validation\", \"label\": \"fly\", \"person\": \"paul\", \"id\": 37, \"acceleration\": 13.0, \"time\": 0.8, \"dimension\": \"y\"}, {\"subset\": \"validation\", \"label\": \"fly\", \"person\": \"paul\", \"id\": 37, \"acceleration\": 6.0, \"time\": 0.8, \"dimension\": \"z\"}, {\"subset\": \"validation\", \"label\": \"fly\", \"person\": \"paul\", \"id\": 37, \"acceleration\": -27.0, \"time\": 0.9, \"dimension\": \"x\"}, {\"subset\": \"validation\", \"label\": \"fly\", \"person\": \"paul\", \"id\": 37, \"acceleration\": 3.0, \"time\": 0.9, \"dimension\": \"y\"}, {\"subset\": \"validation\", \"label\": \"fly\", \"person\": \"paul\", \"id\": 37, \"acceleration\": -13.0, \"time\": 0.9, \"dimension\": \"z\"}, {\"subset\": \"validation\", \"label\": \"fly\", \"person\": \"paul\", \"id\": 37, \"acceleration\": -35.0, \"time\": 1.0, \"dimension\": \"x\"}, {\"subset\": \"validation\", \"label\": \"fly\", \"person\": \"paul\", \"id\": 37, \"acceleration\": -1.0, \"time\": 1.0, \"dimension\": \"y\"}, {\"subset\": \"validation\", \"label\": \"fly\", \"person\": \"paul\", \"id\": 37, \"acceleration\": -32.0, \"time\": 1.0, \"dimension\": \"z\"}, {\"subset\": \"validation\", \"label\": \"fly\", \"person\": \"paul\", \"id\": 37, \"acceleration\": -38.0, \"time\": 1.1, \"dimension\": \"x\"}, {\"subset\": \"validation\", \"label\": \"fly\", \"person\": \"paul\", \"id\": 37, \"acceleration\": -2.0, \"time\": 1.1, \"dimension\": \"y\"}, {\"subset\": \"validation\", \"label\": \"fly\", \"person\": \"paul\", \"id\": 37, \"acceleration\": -43.0, \"time\": 1.1, \"dimension\": \"z\"}, {\"subset\": \"validation\", \"label\": \"fly\", \"person\": \"paul\", \"id\": 37, \"acceleration\": -40.0, \"time\": 1.2, \"dimension\": \"x\"}, {\"subset\": \"validation\", \"label\": \"fly\", \"person\": \"paul\", \"id\": 37, \"acceleration\": -2.0, \"time\": 1.2, \"dimension\": \"y\"}, {\"subset\": \"validation\", \"label\": \"fly\", \"person\": \"paul\", \"id\": 37, \"acceleration\": -49.0, \"time\": 1.2, \"dimension\": \"z\"}, {\"subset\": \"validation\", \"label\": \"fly\", \"person\": \"paul\", \"id\": 37, \"acceleration\": -40.0, \"time\": 1.3, \"dimension\": \"x\"}, {\"subset\": \"validation\", \"label\": \"fly\", \"person\": \"paul\", \"id\": 37, \"acceleration\": -1.0, \"time\": 1.3, \"dimension\": \"y\"}, {\"subset\": \"validation\", \"label\": \"fly\", \"person\": \"paul\", \"id\": 37, \"acceleration\": -51.0, \"time\": 1.3, \"dimension\": \"z\"}, {\"subset\": \"validation\", \"label\": \"fly\", \"person\": \"paul\", \"id\": 38, \"acceleration\": -40.0, \"time\": 0.0, \"dimension\": \"x\"}, {\"subset\": \"validation\", \"label\": \"fly\", \"person\": \"paul\", \"id\": 38, \"acceleration\": -1.0, \"time\": 0.0, \"dimension\": \"y\"}, {\"subset\": \"validation\", \"label\": \"fly\", \"person\": \"paul\", \"id\": 38, \"acceleration\": -50.0, \"time\": 0.0, \"dimension\": \"z\"}, {\"subset\": \"validation\", \"label\": \"fly\", \"person\": \"paul\", \"id\": 38, \"acceleration\": -38.0, \"time\": 0.1, \"dimension\": \"x\"}, {\"subset\": \"validation\", \"label\": \"fly\", \"person\": \"paul\", \"id\": 38, \"acceleration\": -4.0, \"time\": 0.1, \"dimension\": \"y\"}, {\"subset\": \"validation\", \"label\": \"fly\", \"person\": \"paul\", \"id\": 38, \"acceleration\": -41.0, \"time\": 0.1, \"dimension\": \"z\"}, {\"subset\": \"validation\", \"label\": \"fly\", \"person\": \"paul\", \"id\": 38, \"acceleration\": -32.0, \"time\": 0.2, \"dimension\": \"x\"}, {\"subset\": \"validation\", \"label\": \"fly\", \"person\": \"paul\", \"id\": 38, \"acceleration\": -7.0, \"time\": 0.2, \"dimension\": \"y\"}, {\"subset\": \"validation\", \"label\": \"fly\", \"person\": \"paul\", \"id\": 38, \"acceleration\": -13.0, \"time\": 0.2, \"dimension\": \"z\"}, {\"subset\": \"validation\", \"label\": \"fly\", \"person\": \"paul\", \"id\": 38, \"acceleration\": -11.0, \"time\": 0.3, \"dimension\": \"x\"}, {\"subset\": \"validation\", \"label\": \"fly\", \"person\": \"paul\", \"id\": 38, \"acceleration\": -1.0, \"time\": 0.3, \"dimension\": \"y\"}, {\"subset\": \"validation\", \"label\": \"fly\", \"person\": \"paul\", \"id\": 38, \"acceleration\": 13.0, \"time\": 0.3, \"dimension\": \"z\"}, {\"subset\": \"validation\", \"label\": \"fly\", \"person\": \"paul\", \"id\": 38, \"acceleration\": 29.0, \"time\": 0.4, \"dimension\": \"x\"}, {\"subset\": \"validation\", \"label\": \"fly\", \"person\": \"paul\", \"id\": 38, \"acceleration\": 12.0, \"time\": 0.4, \"dimension\": \"y\"}, {\"subset\": \"validation\", \"label\": \"fly\", \"person\": \"paul\", \"id\": 38, \"acceleration\": 18.0, \"time\": 0.4, \"dimension\": \"z\"}, {\"subset\": \"validation\", \"label\": \"fly\", \"person\": \"paul\", \"id\": 38, \"acceleration\": 82.0, \"time\": 0.5, \"dimension\": \"x\"}, {\"subset\": \"validation\", \"label\": \"fly\", \"person\": \"paul\", \"id\": 38, \"acceleration\": 34.0, \"time\": 0.5, \"dimension\": \"y\"}, {\"subset\": \"validation\", \"label\": \"fly\", \"person\": \"paul\", \"id\": 38, \"acceleration\": -3.0, \"time\": 0.5, \"dimension\": \"z\"}, {\"subset\": \"validation\", \"label\": \"fly\", \"person\": \"paul\", \"id\": 38, \"acceleration\": 121.0, \"time\": 0.6, \"dimension\": \"x\"}, {\"subset\": \"validation\", \"label\": \"fly\", \"person\": \"paul\", \"id\": 38, \"acceleration\": 57.0, \"time\": 0.6, \"dimension\": \"y\"}, {\"subset\": \"validation\", \"label\": \"fly\", \"person\": \"paul\", \"id\": 38, \"acceleration\": -42.0, \"time\": 0.6, \"dimension\": \"z\"}, {\"subset\": \"validation\", \"label\": \"fly\", \"person\": \"paul\", \"id\": 38, \"acceleration\": 98.0, \"time\": 0.7, \"dimension\": \"x\"}, {\"subset\": \"validation\", \"label\": \"fly\", \"person\": \"paul\", \"id\": 38, \"acceleration\": 61.0, \"time\": 0.7, \"dimension\": \"y\"}, {\"subset\": \"validation\", \"label\": \"fly\", \"person\": \"paul\", \"id\": 38, \"acceleration\": -75.0, \"time\": 0.7, \"dimension\": \"z\"}, {\"subset\": \"validation\", \"label\": \"fly\", \"person\": \"paul\", \"id\": 38, \"acceleration\": 80.0, \"time\": 0.8, \"dimension\": \"x\"}, {\"subset\": \"validation\", \"label\": \"fly\", \"person\": \"paul\", \"id\": 38, \"acceleration\": 48.0, \"time\": 0.8, \"dimension\": \"y\"}, {\"subset\": \"validation\", \"label\": \"fly\", \"person\": \"paul\", \"id\": 38, \"acceleration\": -54.0, \"time\": 0.8, \"dimension\": \"z\"}, {\"subset\": \"validation\", \"label\": \"fly\", \"person\": \"paul\", \"id\": 38, \"acceleration\": 69.0, \"time\": 0.9, \"dimension\": \"x\"}, {\"subset\": \"validation\", \"label\": \"fly\", \"person\": \"paul\", \"id\": 38, \"acceleration\": 35.0, \"time\": 0.9, \"dimension\": \"y\"}, {\"subset\": \"validation\", \"label\": \"fly\", \"person\": \"paul\", \"id\": 38, \"acceleration\": -30.0, \"time\": 0.9, \"dimension\": \"z\"}, {\"subset\": \"validation\", \"label\": \"fly\", \"person\": \"paul\", \"id\": 38, \"acceleration\": 64.0, \"time\": 1.0, \"dimension\": \"x\"}, {\"subset\": \"validation\", \"label\": \"fly\", \"person\": \"paul\", \"id\": 38, \"acceleration\": 28.0, \"time\": 1.0, \"dimension\": \"y\"}, {\"subset\": \"validation\", \"label\": \"fly\", \"person\": \"paul\", \"id\": 38, \"acceleration\": -15.0, \"time\": 1.0, \"dimension\": \"z\"}, {\"subset\": \"validation\", \"label\": \"fly\", \"person\": \"paul\", \"id\": 38, \"acceleration\": 62.0, \"time\": 1.1, \"dimension\": \"x\"}, {\"subset\": \"validation\", \"label\": \"fly\", \"person\": \"paul\", \"id\": 38, \"acceleration\": 25.0, \"time\": 1.1, \"dimension\": \"y\"}, {\"subset\": \"validation\", \"label\": \"fly\", \"person\": \"paul\", \"id\": 38, \"acceleration\": -8.0, \"time\": 1.1, \"dimension\": \"z\"}, {\"subset\": \"validation\", \"label\": \"fly\", \"person\": \"paul\", \"id\": 38, \"acceleration\": 60.0, \"time\": 1.2, \"dimension\": \"x\"}, {\"subset\": \"validation\", \"label\": \"fly\", \"person\": \"paul\", \"id\": 38, \"acceleration\": 24.0, \"time\": 1.2, \"dimension\": \"y\"}, {\"subset\": \"validation\", \"label\": \"fly\", \"person\": \"paul\", \"id\": 38, \"acceleration\": -5.0, \"time\": 1.2, \"dimension\": \"z\"}, {\"subset\": \"validation\", \"label\": \"fly\", \"person\": \"paul\", \"id\": 38, \"acceleration\": 60.0, \"time\": 1.3, \"dimension\": \"x\"}, {\"subset\": \"validation\", \"label\": \"fly\", \"person\": \"paul\", \"id\": 38, \"acceleration\": 24.0, \"time\": 1.3, \"dimension\": \"y\"}, {\"subset\": \"validation\", \"label\": \"fly\", \"person\": \"paul\", \"id\": 38, \"acceleration\": -5.0, \"time\": 1.3, \"dimension\": \"z\"}, {\"subset\": \"validation\", \"label\": \"fly\", \"person\": \"paul\", \"id\": 39, \"acceleration\": 56.0, \"time\": 0.0, \"dimension\": \"x\"}, {\"subset\": \"validation\", \"label\": \"fly\", \"person\": \"paul\", \"id\": 39, \"acceleration\": 19.0, \"time\": 0.0, \"dimension\": \"y\"}, {\"subset\": \"validation\", \"label\": \"fly\", \"person\": \"paul\", \"id\": 39, \"acceleration\": -39.0, \"time\": 0.0, \"dimension\": \"z\"}, {\"subset\": \"validation\", \"label\": \"fly\", \"person\": \"paul\", \"id\": 39, \"acceleration\": 57.0, \"time\": 0.1, \"dimension\": \"x\"}, {\"subset\": \"validation\", \"label\": \"fly\", \"person\": \"paul\", \"id\": 39, \"acceleration\": 20.0, \"time\": 0.1, \"dimension\": \"y\"}, {\"subset\": \"validation\", \"label\": \"fly\", \"person\": \"paul\", \"id\": 39, \"acceleration\": -47.0, \"time\": 0.1, \"dimension\": \"z\"}, {\"subset\": \"validation\", \"label\": \"fly\", \"person\": \"paul\", \"id\": 39, \"acceleration\": 57.0, \"time\": 0.2, \"dimension\": \"x\"}, {\"subset\": \"validation\", \"label\": \"fly\", \"person\": \"paul\", \"id\": 39, \"acceleration\": 22.0, \"time\": 0.2, \"dimension\": \"y\"}, {\"subset\": \"validation\", \"label\": \"fly\", \"person\": \"paul\", \"id\": 39, \"acceleration\": -60.0, \"time\": 0.2, \"dimension\": \"z\"}, {\"subset\": \"validation\", \"label\": \"fly\", \"person\": \"paul\", \"id\": 39, \"acceleration\": 65.0, \"time\": 0.3, \"dimension\": \"x\"}, {\"subset\": \"validation\", \"label\": \"fly\", \"person\": \"paul\", \"id\": 39, \"acceleration\": 23.0, \"time\": 0.3, \"dimension\": \"y\"}, {\"subset\": \"validation\", \"label\": \"fly\", \"person\": \"paul\", \"id\": 39, \"acceleration\": -85.0, \"time\": 0.3, \"dimension\": \"z\"}, {\"subset\": \"validation\", \"label\": \"fly\", \"person\": \"paul\", \"id\": 39, \"acceleration\": 80.0, \"time\": 0.4, \"dimension\": \"x\"}, {\"subset\": \"validation\", \"label\": \"fly\", \"person\": \"paul\", \"id\": 39, \"acceleration\": 25.0, \"time\": 0.4, \"dimension\": \"y\"}, {\"subset\": \"validation\", \"label\": \"fly\", \"person\": \"paul\", \"id\": 39, \"acceleration\": -99.0, \"time\": 0.4, \"dimension\": \"z\"}, {\"subset\": \"validation\", \"label\": \"fly\", \"person\": \"paul\", \"id\": 39, \"acceleration\": 82.0, \"time\": 0.5, \"dimension\": \"x\"}, {\"subset\": \"validation\", \"label\": \"fly\", \"person\": \"paul\", \"id\": 39, \"acceleration\": 25.0, \"time\": 0.5, \"dimension\": \"y\"}, {\"subset\": \"validation\", \"label\": \"fly\", \"person\": \"paul\", \"id\": 39, \"acceleration\": -74.0, \"time\": 0.5, \"dimension\": \"z\"}, {\"subset\": \"validation\", \"label\": \"fly\", \"person\": \"paul\", \"id\": 39, \"acceleration\": 60.0, \"time\": 0.6, \"dimension\": \"x\"}, {\"subset\": \"validation\", \"label\": \"fly\", \"person\": \"paul\", \"id\": 39, \"acceleration\": 20.0, \"time\": 0.6, \"dimension\": \"y\"}, {\"subset\": \"validation\", \"label\": \"fly\", \"person\": \"paul\", \"id\": 39, \"acceleration\": -31.0, \"time\": 0.6, \"dimension\": \"z\"}, {\"subset\": \"validation\", \"label\": \"fly\", \"person\": \"paul\", \"id\": 39, \"acceleration\": 25.0, \"time\": 0.7, \"dimension\": \"x\"}, {\"subset\": \"validation\", \"label\": \"fly\", \"person\": \"paul\", \"id\": 39, \"acceleration\": 16.0, \"time\": 0.7, \"dimension\": \"y\"}, {\"subset\": \"validation\", \"label\": \"fly\", \"person\": \"paul\", \"id\": 39, \"acceleration\": -7.0, \"time\": 0.7, \"dimension\": \"z\"}, {\"subset\": \"validation\", \"label\": \"fly\", \"person\": \"paul\", \"id\": 39, \"acceleration\": -15.0, \"time\": 0.8, \"dimension\": \"x\"}, {\"subset\": \"validation\", \"label\": \"fly\", \"person\": \"paul\", \"id\": 39, \"acceleration\": 6.0, \"time\": 0.8, \"dimension\": \"y\"}, {\"subset\": \"validation\", \"label\": \"fly\", \"person\": \"paul\", \"id\": 39, \"acceleration\": -32.0, \"time\": 0.8, \"dimension\": \"z\"}, {\"subset\": \"validation\", \"label\": \"fly\", \"person\": \"paul\", \"id\": 39, \"acceleration\": -22.0, \"time\": 0.9, \"dimension\": \"x\"}, {\"subset\": \"validation\", \"label\": \"fly\", \"person\": \"paul\", \"id\": 39, \"acceleration\": 5.0, \"time\": 0.9, \"dimension\": \"y\"}, {\"subset\": \"validation\", \"label\": \"fly\", \"person\": \"paul\", \"id\": 39, \"acceleration\": -45.0, \"time\": 0.9, \"dimension\": \"z\"}, {\"subset\": \"validation\", \"label\": \"fly\", \"person\": \"paul\", \"id\": 39, \"acceleration\": -25.0, \"time\": 1.0, \"dimension\": \"x\"}, {\"subset\": \"validation\", \"label\": \"fly\", \"person\": \"paul\", \"id\": 39, \"acceleration\": 5.0, \"time\": 1.0, \"dimension\": \"y\"}, {\"subset\": \"validation\", \"label\": \"fly\", \"person\": \"paul\", \"id\": 39, \"acceleration\": -52.0, \"time\": 1.0, \"dimension\": \"z\"}, {\"subset\": \"validation\", \"label\": \"fly\", \"person\": \"paul\", \"id\": 39, \"acceleration\": -26.0, \"time\": 1.1, \"dimension\": \"x\"}, {\"subset\": \"validation\", \"label\": \"fly\", \"person\": \"paul\", \"id\": 39, \"acceleration\": 4.0, \"time\": 1.1, \"dimension\": \"y\"}, {\"subset\": \"validation\", \"label\": \"fly\", \"person\": \"paul\", \"id\": 39, \"acceleration\": -55.0, \"time\": 1.1, \"dimension\": \"z\"}, {\"subset\": \"validation\", \"label\": \"fly\", \"person\": \"paul\", \"id\": 40, \"acceleration\": -26.0, \"time\": 0.0, \"dimension\": \"x\"}, {\"subset\": \"validation\", \"label\": \"fly\", \"person\": \"paul\", \"id\": 40, \"acceleration\": 2.0, \"time\": 0.0, \"dimension\": \"y\"}, {\"subset\": \"validation\", \"label\": \"fly\", \"person\": \"paul\", \"id\": 40, \"acceleration\": -57.0, \"time\": 0.0, \"dimension\": \"z\"}, {\"subset\": \"validation\", \"label\": \"fly\", \"person\": \"paul\", \"id\": 40, \"acceleration\": -26.0, \"time\": 0.1, \"dimension\": \"x\"}, {\"subset\": \"validation\", \"label\": \"fly\", \"person\": \"paul\", \"id\": 40, \"acceleration\": 1.0, \"time\": 0.1, \"dimension\": \"y\"}, {\"subset\": \"validation\", \"label\": \"fly\", \"person\": \"paul\", \"id\": 40, \"acceleration\": -49.0, \"time\": 0.1, \"dimension\": \"z\"}, {\"subset\": \"validation\", \"label\": \"fly\", \"person\": \"paul\", \"id\": 40, \"acceleration\": -22.0, \"time\": 0.2, \"dimension\": \"x\"}, {\"subset\": \"validation\", \"label\": \"fly\", \"person\": \"paul\", \"id\": 40, \"acceleration\": 2.0, \"time\": 0.2, \"dimension\": \"y\"}, {\"subset\": \"validation\", \"label\": \"fly\", \"person\": \"paul\", \"id\": 40, \"acceleration\": -32.0, \"time\": 0.2, \"dimension\": \"z\"}, {\"subset\": \"validation\", \"label\": \"fly\", \"person\": \"paul\", \"id\": 40, \"acceleration\": -11.0, \"time\": 0.3, \"dimension\": \"x\"}, {\"subset\": \"validation\", \"label\": \"fly\", \"person\": \"paul\", \"id\": 40, \"acceleration\": 6.0, \"time\": 0.3, \"dimension\": \"y\"}, {\"subset\": \"validation\", \"label\": \"fly\", \"person\": \"paul\", \"id\": 40, \"acceleration\": -15.0, \"time\": 0.3, \"dimension\": \"z\"}, {\"subset\": \"validation\", \"label\": \"fly\", \"person\": \"paul\", \"id\": 40, \"acceleration\": 12.0, \"time\": 0.4, \"dimension\": \"x\"}, {\"subset\": \"validation\", \"label\": \"fly\", \"person\": \"paul\", \"id\": 40, \"acceleration\": 13.0, \"time\": 0.4, \"dimension\": \"y\"}, {\"subset\": \"validation\", \"label\": \"fly\", \"person\": \"paul\", \"id\": 40, \"acceleration\": -8.0, \"time\": 0.4, \"dimension\": \"z\"}, {\"subset\": \"validation\", \"label\": \"fly\", \"person\": \"paul\", \"id\": 40, \"acceleration\": 47.0, \"time\": 0.5, \"dimension\": \"x\"}, {\"subset\": \"validation\", \"label\": \"fly\", \"person\": \"paul\", \"id\": 40, \"acceleration\": 24.0, \"time\": 0.5, \"dimension\": \"y\"}, {\"subset\": \"validation\", \"label\": \"fly\", \"person\": \"paul\", \"id\": 40, \"acceleration\": -20.0, \"time\": 0.5, \"dimension\": \"z\"}, {\"subset\": \"validation\", \"label\": \"fly\", \"person\": \"paul\", \"id\": 40, \"acceleration\": 77.0, \"time\": 0.6, \"dimension\": \"x\"}, {\"subset\": \"validation\", \"label\": \"fly\", \"person\": \"paul\", \"id\": 40, \"acceleration\": 36.0, \"time\": 0.6, \"dimension\": \"y\"}, {\"subset\": \"validation\", \"label\": \"fly\", \"person\": \"paul\", \"id\": 40, \"acceleration\": -52.0, \"time\": 0.6, \"dimension\": \"z\"}, {\"subset\": \"validation\", \"label\": \"fly\", \"person\": \"paul\", \"id\": 40, \"acceleration\": 85.0, \"time\": 0.7, \"dimension\": \"x\"}, {\"subset\": \"validation\", \"label\": \"fly\", \"person\": \"paul\", \"id\": 40, \"acceleration\": 43.0, \"time\": 0.7, \"dimension\": \"y\"}, {\"subset\": \"validation\", \"label\": \"fly\", \"person\": \"paul\", \"id\": 40, \"acceleration\": -77.0, \"time\": 0.7, \"dimension\": \"z\"}, {\"subset\": \"validation\", \"label\": \"fly\", \"person\": \"paul\", \"id\": 40, \"acceleration\": 76.0, \"time\": 0.8, \"dimension\": \"x\"}, {\"subset\": \"validation\", \"label\": \"fly\", \"person\": \"paul\", \"id\": 40, \"acceleration\": 41.0, \"time\": 0.8, \"dimension\": \"y\"}, {\"subset\": \"validation\", \"label\": \"fly\", \"person\": \"paul\", \"id\": 40, \"acceleration\": -79.0, \"time\": 0.8, \"dimension\": \"z\"}, {\"subset\": \"validation\", \"label\": \"fly\", \"person\": \"paul\", \"id\": 40, \"acceleration\": 67.0, \"time\": 0.9, \"dimension\": \"x\"}, {\"subset\": \"validation\", \"label\": \"fly\", \"person\": \"paul\", \"id\": 40, \"acceleration\": 34.0, \"time\": 0.9, \"dimension\": \"y\"}, {\"subset\": \"validation\", \"label\": \"fly\", \"person\": \"paul\", \"id\": 40, \"acceleration\": -66.0, \"time\": 0.9, \"dimension\": \"z\"}, {\"subset\": \"validation\", \"label\": \"fly\", \"person\": \"paul\", \"id\": 40, \"acceleration\": 62.0, \"time\": 1.0, \"dimension\": \"x\"}, {\"subset\": \"validation\", \"label\": \"fly\", \"person\": \"paul\", \"id\": 40, \"acceleration\": 29.0, \"time\": 1.0, \"dimension\": \"y\"}, {\"subset\": \"validation\", \"label\": \"fly\", \"person\": \"paul\", \"id\": 40, \"acceleration\": -48.0, \"time\": 1.0, \"dimension\": \"z\"}, {\"subset\": \"validation\", \"label\": \"fly\", \"person\": \"paul\", \"id\": 40, \"acceleration\": 59.0, \"time\": 1.1, \"dimension\": \"x\"}, {\"subset\": \"validation\", \"label\": \"fly\", \"person\": \"paul\", \"id\": 40, \"acceleration\": 25.0, \"time\": 1.1, \"dimension\": \"y\"}, {\"subset\": \"validation\", \"label\": \"fly\", \"person\": \"paul\", \"id\": 40, \"acceleration\": -33.0, \"time\": 1.1, \"dimension\": \"z\"}, {\"subset\": \"validation\", \"label\": \"fly\", \"person\": \"paul\", \"id\": 40, \"acceleration\": 58.0, \"time\": 1.2, \"dimension\": \"x\"}, {\"subset\": \"validation\", \"label\": \"fly\", \"person\": \"paul\", \"id\": 40, \"acceleration\": 23.0, \"time\": 1.2, \"dimension\": \"y\"}, {\"subset\": \"validation\", \"label\": \"fly\", \"person\": \"paul\", \"id\": 40, \"acceleration\": -25.0, \"time\": 1.2, \"dimension\": \"z\"}, {\"subset\": \"validation\", \"label\": \"fly\", \"person\": \"paul\", \"id\": 40, \"acceleration\": 57.0, \"time\": 1.3, \"dimension\": \"x\"}, {\"subset\": \"validation\", \"label\": \"fly\", \"person\": \"paul\", \"id\": 40, \"acceleration\": 24.0, \"time\": 1.3, \"dimension\": \"y\"}, {\"subset\": \"validation\", \"label\": \"fly\", \"person\": \"paul\", \"id\": 40, \"acceleration\": -21.0, \"time\": 1.3, \"dimension\": \"z\"}, {\"subset\": \"validation\", \"label\": \"fly\", \"person\": \"paul\", \"id\": 41, \"acceleration\": -38.0, \"time\": 0.0, \"dimension\": \"x\"}, {\"subset\": \"validation\", \"label\": \"fly\", \"person\": \"paul\", \"id\": 41, \"acceleration\": 2.0, \"time\": 0.0, \"dimension\": \"y\"}, {\"subset\": \"validation\", \"label\": \"fly\", \"person\": \"paul\", \"id\": 41, \"acceleration\": -46.0, \"time\": 0.0, \"dimension\": \"z\"}, {\"subset\": \"validation\", \"label\": \"fly\", \"person\": \"paul\", \"id\": 41, \"acceleration\": -35.0, \"time\": 0.1, \"dimension\": \"x\"}, {\"subset\": \"validation\", \"label\": \"fly\", \"person\": \"paul\", \"id\": 41, \"acceleration\": -1.0, \"time\": 0.1, \"dimension\": \"y\"}, {\"subset\": \"validation\", \"label\": \"fly\", \"person\": \"paul\", \"id\": 41, \"acceleration\": -24.0, \"time\": 0.1, \"dimension\": \"z\"}, {\"subset\": \"validation\", \"label\": \"fly\", \"person\": \"paul\", \"id\": 41, \"acceleration\": -21.0, \"time\": 0.2, \"dimension\": \"x\"}, {\"subset\": \"validation\", \"label\": \"fly\", \"person\": \"paul\", \"id\": 41, \"acceleration\": -2.0, \"time\": 0.2, \"dimension\": \"y\"}, {\"subset\": \"validation\", \"label\": \"fly\", \"person\": \"paul\", \"id\": 41, \"acceleration\": 6.0, \"time\": 0.2, \"dimension\": \"z\"}, {\"subset\": \"validation\", \"label\": \"fly\", \"person\": \"paul\", \"id\": 41, \"acceleration\": 65.0, \"time\": 0.3, \"dimension\": \"x\"}, {\"subset\": \"validation\", \"label\": \"fly\", \"person\": \"paul\", \"id\": 41, \"acceleration\": 28.0, \"time\": 0.3, \"dimension\": \"y\"}, {\"subset\": \"validation\", \"label\": \"fly\", \"person\": \"paul\", \"id\": 41, \"acceleration\": 2.0, \"time\": 0.3, \"dimension\": \"z\"}, {\"subset\": \"validation\", \"label\": \"fly\", \"person\": \"paul\", \"id\": 41, \"acceleration\": 108.0, \"time\": 0.4, \"dimension\": \"x\"}, {\"subset\": \"validation\", \"label\": \"fly\", \"person\": \"paul\", \"id\": 41, \"acceleration\": 45.0, \"time\": 0.4, \"dimension\": \"y\"}, {\"subset\": \"validation\", \"label\": \"fly\", \"person\": \"paul\", \"id\": 41, \"acceleration\": -45.0, \"time\": 0.4, \"dimension\": \"z\"}, {\"subset\": \"validation\", \"label\": \"fly\", \"person\": \"paul\", \"id\": 41, \"acceleration\": 113.0, \"time\": 0.5, \"dimension\": \"x\"}, {\"subset\": \"validation\", \"label\": \"fly\", \"person\": \"paul\", \"id\": 41, \"acceleration\": 47.0, \"time\": 0.5, \"dimension\": \"y\"}, {\"subset\": \"validation\", \"label\": \"fly\", \"person\": \"paul\", \"id\": 41, \"acceleration\": -81.0, \"time\": 0.5, \"dimension\": \"z\"}, {\"subset\": \"validation\", \"label\": \"fly\", \"person\": \"paul\", \"id\": 41, \"acceleration\": 94.0, \"time\": 0.6, \"dimension\": \"x\"}, {\"subset\": \"validation\", \"label\": \"fly\", \"person\": \"paul\", \"id\": 41, \"acceleration\": 41.0, \"time\": 0.6, \"dimension\": \"y\"}, {\"subset\": \"validation\", \"label\": \"fly\", \"person\": \"paul\", \"id\": 41, \"acceleration\": -85.0, \"time\": 0.6, \"dimension\": \"z\"}, {\"subset\": \"validation\", \"label\": \"fly\", \"person\": \"paul\", \"id\": 41, \"acceleration\": 79.0, \"time\": 0.7, \"dimension\": \"x\"}, {\"subset\": \"validation\", \"label\": \"fly\", \"person\": \"paul\", \"id\": 41, \"acceleration\": 34.0, \"time\": 0.7, \"dimension\": \"y\"}, {\"subset\": \"validation\", \"label\": \"fly\", \"person\": \"paul\", \"id\": 41, \"acceleration\": -68.0, \"time\": 0.7, \"dimension\": \"z\"}, {\"subset\": \"validation\", \"label\": \"fly\", \"person\": \"paul\", \"id\": 41, \"acceleration\": 70.0, \"time\": 0.8, \"dimension\": \"x\"}, {\"subset\": \"validation\", \"label\": \"fly\", \"person\": \"paul\", \"id\": 41, \"acceleration\": 27.0, \"time\": 0.8, \"dimension\": \"y\"}, {\"subset\": \"validation\", \"label\": \"fly\", \"person\": \"paul\", \"id\": 41, \"acceleration\": -44.0, \"time\": 0.8, \"dimension\": \"z\"}, {\"subset\": \"validation\", \"label\": \"fly\", \"person\": \"paul\", \"id\": 41, \"acceleration\": 64.0, \"time\": 0.9, \"dimension\": \"x\"}, {\"subset\": \"validation\", \"label\": \"fly\", \"person\": \"paul\", \"id\": 41, \"acceleration\": 24.0, \"time\": 0.9, \"dimension\": \"y\"}, {\"subset\": \"validation\", \"label\": \"fly\", \"person\": \"paul\", \"id\": 41, \"acceleration\": -27.0, \"time\": 0.9, \"dimension\": \"z\"}, {\"subset\": \"validation\", \"label\": \"fly\", \"person\": \"paul\", \"id\": 41, \"acceleration\": 61.0, \"time\": 1.0, \"dimension\": \"x\"}, {\"subset\": \"validation\", \"label\": \"fly\", \"person\": \"paul\", \"id\": 41, \"acceleration\": 24.0, \"time\": 1.0, \"dimension\": \"y\"}, {\"subset\": \"validation\", \"label\": \"fly\", \"person\": \"paul\", \"id\": 41, \"acceleration\": -18.0, \"time\": 1.0, \"dimension\": \"z\"}, {\"subset\": \"validation\", \"label\": \"fly\", \"person\": \"paul\", \"id\": 41, \"acceleration\": 60.0, \"time\": 1.1, \"dimension\": \"x\"}, {\"subset\": \"validation\", \"label\": \"fly\", \"person\": \"paul\", \"id\": 41, \"acceleration\": 24.0, \"time\": 1.1, \"dimension\": \"y\"}, {\"subset\": \"validation\", \"label\": \"fly\", \"person\": \"paul\", \"id\": 41, \"acceleration\": -13.0, \"time\": 1.1, \"dimension\": \"z\"}, {\"subset\": \"validation\", \"label\": \"fly\", \"person\": \"paul\", \"id\": 41, \"acceleration\": 60.0, \"time\": 1.2, \"dimension\": \"x\"}, {\"subset\": \"validation\", \"label\": \"fly\", \"person\": \"paul\", \"id\": 41, \"acceleration\": 23.0, \"time\": 1.2, \"dimension\": \"y\"}, {\"subset\": \"validation\", \"label\": \"fly\", \"person\": \"paul\", \"id\": 41, \"acceleration\": -12.0, \"time\": 1.2, \"dimension\": \"z\"}, {\"subset\": \"validation\", \"label\": \"fly\", \"person\": \"paul\", \"id\": 42, \"acceleration\": -19.0, \"time\": 0.0, \"dimension\": \"x\"}, {\"subset\": \"validation\", \"label\": \"fly\", \"person\": \"paul\", \"id\": 42, \"acceleration\": 9.0, \"time\": 0.0, \"dimension\": \"y\"}, {\"subset\": \"validation\", \"label\": \"fly\", \"person\": \"paul\", \"id\": 42, \"acceleration\": -58.0, \"time\": 0.0, \"dimension\": \"z\"}, {\"subset\": \"validation\", \"label\": \"fly\", \"person\": \"paul\", \"id\": 42, \"acceleration\": -17.0, \"time\": 0.1, \"dimension\": \"x\"}, {\"subset\": \"validation\", \"label\": \"fly\", \"person\": \"paul\", \"id\": 42, \"acceleration\": 5.0, \"time\": 0.1, \"dimension\": \"y\"}, {\"subset\": \"validation\", \"label\": \"fly\", \"person\": \"paul\", \"id\": 42, \"acceleration\": -39.0, \"time\": 0.1, \"dimension\": \"z\"}, {\"subset\": \"validation\", \"label\": \"fly\", \"person\": \"paul\", \"id\": 42, \"acceleration\": -7.0, \"time\": 0.2, \"dimension\": \"x\"}, {\"subset\": \"validation\", \"label\": \"fly\", \"person\": \"paul\", \"id\": 42, \"acceleration\": 7.0, \"time\": 0.2, \"dimension\": \"y\"}, {\"subset\": \"validation\", \"label\": \"fly\", \"person\": \"paul\", \"id\": 42, \"acceleration\": -11.0, \"time\": 0.2, \"dimension\": \"z\"}, {\"subset\": \"validation\", \"label\": \"fly\", \"person\": \"paul\", \"id\": 42, \"acceleration\": 16.0, \"time\": 0.3, \"dimension\": \"x\"}, {\"subset\": \"validation\", \"label\": \"fly\", \"person\": \"paul\", \"id\": 42, \"acceleration\": 18.0, \"time\": 0.3, \"dimension\": \"y\"}, {\"subset\": \"validation\", \"label\": \"fly\", \"person\": \"paul\", \"id\": 42, \"acceleration\": 1.0, \"time\": 0.3, \"dimension\": \"z\"}, {\"subset\": \"validation\", \"label\": \"fly\", \"person\": \"paul\", \"id\": 42, \"acceleration\": 48.0, \"time\": 0.4, \"dimension\": \"x\"}, {\"subset\": \"validation\", \"label\": \"fly\", \"person\": \"paul\", \"id\": 42, \"acceleration\": 31.0, \"time\": 0.4, \"dimension\": \"y\"}, {\"subset\": \"validation\", \"label\": \"fly\", \"person\": \"paul\", \"id\": 42, \"acceleration\": -14.0, \"time\": 0.4, \"dimension\": \"z\"}, {\"subset\": \"validation\", \"label\": \"fly\", \"person\": \"paul\", \"id\": 42, \"acceleration\": 78.0, \"time\": 0.5, \"dimension\": \"x\"}, {\"subset\": \"validation\", \"label\": \"fly\", \"person\": \"paul\", \"id\": 42, \"acceleration\": 37.0, \"time\": 0.5, \"dimension\": \"y\"}, {\"subset\": \"validation\", \"label\": \"fly\", \"person\": \"paul\", \"id\": 42, \"acceleration\": -47.0, \"time\": 0.5, \"dimension\": \"z\"}, {\"subset\": \"validation\", \"label\": \"fly\", \"person\": \"paul\", \"id\": 42, \"acceleration\": 89.0, \"time\": 0.6, \"dimension\": \"x\"}, {\"subset\": \"validation\", \"label\": \"fly\", \"person\": \"paul\", \"id\": 42, \"acceleration\": 36.0, \"time\": 0.6, \"dimension\": \"y\"}, {\"subset\": \"validation\", \"label\": \"fly\", \"person\": \"paul\", \"id\": 42, \"acceleration\": -76.0, \"time\": 0.6, \"dimension\": \"z\"}, {\"subset\": \"validation\", \"label\": \"fly\", \"person\": \"paul\", \"id\": 42, \"acceleration\": 78.0, \"time\": 0.7, \"dimension\": \"x\"}, {\"subset\": \"validation\", \"label\": \"fly\", \"person\": \"paul\", \"id\": 42, \"acceleration\": 38.0, \"time\": 0.7, \"dimension\": \"y\"}, {\"subset\": \"validation\", \"label\": \"fly\", \"person\": \"paul\", \"id\": 42, \"acceleration\": -79.0, \"time\": 0.7, \"dimension\": \"z\"}, {\"subset\": \"validation\", \"label\": \"fly\", \"person\": \"paul\", \"id\": 42, \"acceleration\": 66.0, \"time\": 0.8, \"dimension\": \"x\"}, {\"subset\": \"validation\", \"label\": \"fly\", \"person\": \"paul\", \"id\": 42, \"acceleration\": 39.0, \"time\": 0.8, \"dimension\": \"y\"}, {\"subset\": \"validation\", \"label\": \"fly\", \"person\": \"paul\", \"id\": 42, \"acceleration\": -63.0, \"time\": 0.8, \"dimension\": \"z\"}, {\"subset\": \"validation\", \"label\": \"fly\", \"person\": \"paul\", \"id\": 42, \"acceleration\": 61.0, \"time\": 0.9, \"dimension\": \"x\"}, {\"subset\": \"validation\", \"label\": \"fly\", \"person\": \"paul\", \"id\": 42, \"acceleration\": 35.0, \"time\": 0.9, \"dimension\": \"y\"}, {\"subset\": \"validation\", \"label\": \"fly\", \"person\": \"paul\", \"id\": 42, \"acceleration\": -42.0, \"time\": 0.9, \"dimension\": \"z\"}, {\"subset\": \"validation\", \"label\": \"fly\", \"person\": \"paul\", \"id\": 42, \"acceleration\": 58.0, \"time\": 1.0, \"dimension\": \"x\"}, {\"subset\": \"validation\", \"label\": \"fly\", \"person\": \"paul\", \"id\": 42, \"acceleration\": 32.0, \"time\": 1.0, \"dimension\": \"y\"}, {\"subset\": \"validation\", \"label\": \"fly\", \"person\": \"paul\", \"id\": 42, \"acceleration\": -27.0, \"time\": 1.0, \"dimension\": \"z\"}, {\"subset\": \"validation\", \"label\": \"fly\", \"person\": \"paul\", \"id\": 42, \"acceleration\": 57.0, \"time\": 1.1, \"dimension\": \"x\"}, {\"subset\": \"validation\", \"label\": \"fly\", \"person\": \"paul\", \"id\": 42, \"acceleration\": 31.0, \"time\": 1.1, \"dimension\": \"y\"}, {\"subset\": \"validation\", \"label\": \"fly\", \"person\": \"paul\", \"id\": 42, \"acceleration\": -19.0, \"time\": 1.1, \"dimension\": \"z\"}, {\"subset\": \"validation\", \"label\": \"fly\", \"person\": \"paul\", \"id\": 42, \"acceleration\": 56.0, \"time\": 1.2, \"dimension\": \"x\"}, {\"subset\": \"validation\", \"label\": \"fly\", \"person\": \"paul\", \"id\": 42, \"acceleration\": 30.0, \"time\": 1.2, \"dimension\": \"y\"}, {\"subset\": \"validation\", \"label\": \"fly\", \"person\": \"paul\", \"id\": 42, \"acceleration\": -16.0, \"time\": 1.2, \"dimension\": \"z\"}, {\"subset\": \"validation\", \"label\": \"fly\", \"person\": \"paul\", \"id\": 43, \"acceleration\": -21.0, \"time\": 0.0, \"dimension\": \"x\"}, {\"subset\": \"validation\", \"label\": \"fly\", \"person\": \"paul\", \"id\": 43, \"acceleration\": 4.0, \"time\": 0.0, \"dimension\": \"y\"}, {\"subset\": \"validation\", \"label\": \"fly\", \"person\": \"paul\", \"id\": 43, \"acceleration\": -58.0, \"time\": 0.0, \"dimension\": \"z\"}, {\"subset\": \"validation\", \"label\": \"fly\", \"person\": \"paul\", \"id\": 43, \"acceleration\": -21.0, \"time\": 0.1, \"dimension\": \"x\"}, {\"subset\": \"validation\", \"label\": \"fly\", \"person\": \"paul\", \"id\": 43, \"acceleration\": 1.0, \"time\": 0.1, \"dimension\": \"y\"}, {\"subset\": \"validation\", \"label\": \"fly\", \"person\": \"paul\", \"id\": 43, \"acceleration\": -45.0, \"time\": 0.1, \"dimension\": \"z\"}, {\"subset\": \"validation\", \"label\": \"fly\", \"person\": \"paul\", \"id\": 43, \"acceleration\": -14.0, \"time\": 0.2, \"dimension\": \"x\"}, {\"subset\": \"validation\", \"label\": \"fly\", \"person\": \"paul\", \"id\": 43, \"acceleration\": 3.0, \"time\": 0.2, \"dimension\": \"y\"}, {\"subset\": \"validation\", \"label\": \"fly\", \"person\": \"paul\", \"id\": 43, \"acceleration\": -16.0, \"time\": 0.2, \"dimension\": \"z\"}, {\"subset\": \"validation\", \"label\": \"fly\", \"person\": \"paul\", \"id\": 43, \"acceleration\": 10.0, \"time\": 0.3, \"dimension\": \"x\"}, {\"subset\": \"validation\", \"label\": \"fly\", \"person\": \"paul\", \"id\": 43, \"acceleration\": 12.0, \"time\": 0.3, \"dimension\": \"y\"}, {\"subset\": \"validation\", \"label\": \"fly\", \"person\": \"paul\", \"id\": 43, \"acceleration\": 5.0, \"time\": 0.3, \"dimension\": \"z\"}, {\"subset\": \"validation\", \"label\": \"fly\", \"person\": \"paul\", \"id\": 43, \"acceleration\": 47.0, \"time\": 0.4, \"dimension\": \"x\"}, {\"subset\": \"validation\", \"label\": \"fly\", \"person\": \"paul\", \"id\": 43, \"acceleration\": 25.0, \"time\": 0.4, \"dimension\": \"y\"}, {\"subset\": \"validation\", \"label\": \"fly\", \"person\": \"paul\", \"id\": 43, \"acceleration\": -11.0, \"time\": 0.4, \"dimension\": \"z\"}, {\"subset\": \"validation\", \"label\": \"fly\", \"person\": \"paul\", \"id\": 43, \"acceleration\": 79.0, \"time\": 0.5, \"dimension\": \"x\"}, {\"subset\": \"validation\", \"label\": \"fly\", \"person\": \"paul\", \"id\": 43, \"acceleration\": 31.0, \"time\": 0.5, \"dimension\": \"y\"}, {\"subset\": \"validation\", \"label\": \"fly\", \"person\": \"paul\", \"id\": 43, \"acceleration\": -53.0, \"time\": 0.5, \"dimension\": \"z\"}, {\"subset\": \"validation\", \"label\": \"fly\", \"person\": \"paul\", \"id\": 43, \"acceleration\": 86.0, \"time\": 0.6, \"dimension\": \"x\"}, {\"subset\": \"validation\", \"label\": \"fly\", \"person\": \"paul\", \"id\": 43, \"acceleration\": 30.0, \"time\": 0.6, \"dimension\": \"y\"}, {\"subset\": \"validation\", \"label\": \"fly\", \"person\": \"paul\", \"id\": 43, \"acceleration\": -85.0, \"time\": 0.6, \"dimension\": \"z\"}, {\"subset\": \"validation\", \"label\": \"fly\", \"person\": \"paul\", \"id\": 43, \"acceleration\": 74.0, \"time\": 0.7, \"dimension\": \"x\"}, {\"subset\": \"validation\", \"label\": \"fly\", \"person\": \"paul\", \"id\": 43, \"acceleration\": 28.0, \"time\": 0.7, \"dimension\": \"y\"}, {\"subset\": \"validation\", \"label\": \"fly\", \"person\": \"paul\", \"id\": 43, \"acceleration\": -87.0, \"time\": 0.7, \"dimension\": \"z\"}, {\"subset\": \"validation\", \"label\": \"fly\", \"person\": \"paul\", \"id\": 43, \"acceleration\": 65.0, \"time\": 0.8, \"dimension\": \"x\"}, {\"subset\": \"validation\", \"label\": \"fly\", \"person\": \"paul\", \"id\": 43, \"acceleration\": 25.0, \"time\": 0.8, \"dimension\": \"y\"}, {\"subset\": \"validation\", \"label\": \"fly\", \"person\": \"paul\", \"id\": 43, \"acceleration\": -69.0, \"time\": 0.8, \"dimension\": \"z\"}, {\"subset\": \"validation\", \"label\": \"fly\", \"person\": \"paul\", \"id\": 43, \"acceleration\": 60.0, \"time\": 0.9, \"dimension\": \"x\"}, {\"subset\": \"validation\", \"label\": \"fly\", \"person\": \"paul\", \"id\": 43, \"acceleration\": 23.0, \"time\": 0.9, \"dimension\": \"y\"}, {\"subset\": \"validation\", \"label\": \"fly\", \"person\": \"paul\", \"id\": 43, \"acceleration\": -51.0, \"time\": 0.9, \"dimension\": \"z\"}, {\"subset\": \"validation\", \"label\": \"fly\", \"person\": \"paul\", \"id\": 43, \"acceleration\": 58.0, \"time\": 1.0, \"dimension\": \"x\"}, {\"subset\": \"validation\", \"label\": \"fly\", \"person\": \"paul\", \"id\": 43, \"acceleration\": 22.0, \"time\": 1.0, \"dimension\": \"y\"}, {\"subset\": \"validation\", \"label\": \"fly\", \"person\": \"paul\", \"id\": 43, \"acceleration\": -38.0, \"time\": 1.0, \"dimension\": \"z\"}, {\"subset\": \"validation\", \"label\": \"fly\", \"person\": \"paul\", \"id\": 43, \"acceleration\": 57.0, \"time\": 1.1, \"dimension\": \"x\"}, {\"subset\": \"validation\", \"label\": \"fly\", \"person\": \"paul\", \"id\": 43, \"acceleration\": 21.0, \"time\": 1.1, \"dimension\": \"y\"}, {\"subset\": \"validation\", \"label\": \"fly\", \"person\": \"paul\", \"id\": 43, \"acceleration\": -32.0, \"time\": 1.1, \"dimension\": \"z\"}, {\"subset\": \"validation\", \"label\": \"fly\", \"person\": \"paul\", \"id\": 43, \"acceleration\": 56.0, \"time\": 1.2, \"dimension\": \"x\"}, {\"subset\": \"validation\", \"label\": \"fly\", \"person\": \"paul\", \"id\": 43, \"acceleration\": 21.0, \"time\": 1.2, \"dimension\": \"y\"}, {\"subset\": \"validation\", \"label\": \"fly\", \"person\": \"paul\", \"id\": 43, \"acceleration\": -29.0, \"time\": 1.2, \"dimension\": \"z\"}, {\"subset\": \"validation\", \"label\": \"fly\", \"person\": \"paul\", \"id\": 44, \"acceleration\": 58.0, \"time\": 0.0, \"dimension\": \"x\"}, {\"subset\": \"validation\", \"label\": \"fly\", \"person\": \"paul\", \"id\": 44, \"acceleration\": 30.0, \"time\": 0.0, \"dimension\": \"y\"}, {\"subset\": \"validation\", \"label\": \"fly\", \"person\": \"paul\", \"id\": 44, \"acceleration\": -11.0, \"time\": 0.0, \"dimension\": \"z\"}, {\"subset\": \"validation\", \"label\": \"fly\", \"person\": \"paul\", \"id\": 44, \"acceleration\": 63.0, \"time\": 0.1, \"dimension\": \"x\"}, {\"subset\": \"validation\", \"label\": \"fly\", \"person\": \"paul\", \"id\": 44, \"acceleration\": 35.0, \"time\": 0.1, \"dimension\": \"y\"}, {\"subset\": \"validation\", \"label\": \"fly\", \"person\": \"paul\", \"id\": 44, \"acceleration\": -31.0, \"time\": 0.1, \"dimension\": \"z\"}, {\"subset\": \"validation\", \"label\": \"fly\", \"person\": \"paul\", \"id\": 44, \"acceleration\": 75.0, \"time\": 0.2, \"dimension\": \"x\"}, {\"subset\": \"validation\", \"label\": \"fly\", \"person\": \"paul\", \"id\": 44, \"acceleration\": 47.0, \"time\": 0.2, \"dimension\": \"y\"}, {\"subset\": \"validation\", \"label\": \"fly\", \"person\": \"paul\", \"id\": 44, \"acceleration\": -73.0, \"time\": 0.2, \"dimension\": \"z\"}, {\"subset\": \"validation\", \"label\": \"fly\", \"person\": \"paul\", \"id\": 44, \"acceleration\": 102.0, \"time\": 0.3, \"dimension\": \"x\"}, {\"subset\": \"validation\", \"label\": \"fly\", \"person\": \"paul\", \"id\": 44, \"acceleration\": 62.0, \"time\": 0.3, \"dimension\": \"y\"}, {\"subset\": \"validation\", \"label\": \"fly\", \"person\": \"paul\", \"id\": 44, \"acceleration\": -99.0, \"time\": 0.3, \"dimension\": \"z\"}, {\"subset\": \"validation\", \"label\": \"fly\", \"person\": \"paul\", \"id\": 44, \"acceleration\": 127.0, \"time\": 0.4, \"dimension\": \"x\"}, {\"subset\": \"validation\", \"label\": \"fly\", \"person\": \"paul\", \"id\": 44, \"acceleration\": 68.0, \"time\": 0.4, \"dimension\": \"y\"}, {\"subset\": \"validation\", \"label\": \"fly\", \"person\": \"paul\", \"id\": 44, \"acceleration\": -83.0, \"time\": 0.4, \"dimension\": \"z\"}, {\"subset\": \"validation\", \"label\": \"fly\", \"person\": \"paul\", \"id\": 44, \"acceleration\": 118.0, \"time\": 0.5, \"dimension\": \"x\"}, {\"subset\": \"validation\", \"label\": \"fly\", \"person\": \"paul\", \"id\": 44, \"acceleration\": 54.0, \"time\": 0.5, \"dimension\": \"y\"}, {\"subset\": \"validation\", \"label\": \"fly\", \"person\": \"paul\", \"id\": 44, \"acceleration\": -38.0, \"time\": 0.5, \"dimension\": \"z\"}, {\"subset\": \"validation\", \"label\": \"fly\", \"person\": \"paul\", \"id\": 44, \"acceleration\": 73.0, \"time\": 0.6, \"dimension\": \"x\"}, {\"subset\": \"validation\", \"label\": \"fly\", \"person\": \"paul\", \"id\": 44, \"acceleration\": 35.0, \"time\": 0.6, \"dimension\": \"y\"}, {\"subset\": \"validation\", \"label\": \"fly\", \"person\": \"paul\", \"id\": 44, \"acceleration\": -2.0, \"time\": 0.6, \"dimension\": \"z\"}, {\"subset\": \"validation\", \"label\": \"fly\", \"person\": \"paul\", \"id\": 44, \"acceleration\": 25.0, \"time\": 0.7, \"dimension\": \"x\"}, {\"subset\": \"validation\", \"label\": \"fly\", \"person\": \"paul\", \"id\": 44, \"acceleration\": 19.0, \"time\": 0.7, \"dimension\": \"y\"}, {\"subset\": \"validation\", \"label\": \"fly\", \"person\": \"paul\", \"id\": 44, \"acceleration\": 10.0, \"time\": 0.7, \"dimension\": \"z\"}, {\"subset\": \"validation\", \"label\": \"fly\", \"person\": \"paul\", \"id\": 44, \"acceleration\": -7.0, \"time\": 0.8, \"dimension\": \"x\"}, {\"subset\": \"validation\", \"label\": \"fly\", \"person\": \"paul\", \"id\": 44, \"acceleration\": 6.0, \"time\": 0.8, \"dimension\": \"y\"}, {\"subset\": \"validation\", \"label\": \"fly\", \"person\": \"paul\", \"id\": 44, \"acceleration\": 3.0, \"time\": 0.8, \"dimension\": \"z\"}, {\"subset\": \"validation\", \"label\": \"fly\", \"person\": \"paul\", \"id\": 44, \"acceleration\": -27.0, \"time\": 0.9, \"dimension\": \"x\"}, {\"subset\": \"validation\", \"label\": \"fly\", \"person\": \"paul\", \"id\": 44, \"acceleration\": 0.0, \"time\": 0.9, \"dimension\": \"y\"}, {\"subset\": \"validation\", \"label\": \"fly\", \"person\": \"paul\", \"id\": 44, \"acceleration\": -11.0, \"time\": 0.9, \"dimension\": \"z\"}, {\"subset\": \"validation\", \"label\": \"fly\", \"person\": \"paul\", \"id\": 44, \"acceleration\": -37.0, \"time\": 1.0, \"dimension\": \"x\"}, {\"subset\": \"validation\", \"label\": \"fly\", \"person\": \"paul\", \"id\": 44, \"acceleration\": -1.0, \"time\": 1.0, \"dimension\": \"y\"}, {\"subset\": \"validation\", \"label\": \"fly\", \"person\": \"paul\", \"id\": 44, \"acceleration\": -24.0, \"time\": 1.0, \"dimension\": \"z\"}, {\"subset\": \"validation\", \"label\": \"fly\", \"person\": \"paul\", \"id\": 44, \"acceleration\": -42.0, \"time\": 1.1, \"dimension\": \"x\"}, {\"subset\": \"validation\", \"label\": \"fly\", \"person\": \"paul\", \"id\": 44, \"acceleration\": 0.0, \"time\": 1.1, \"dimension\": \"y\"}, {\"subset\": \"validation\", \"label\": \"fly\", \"person\": \"paul\", \"id\": 44, \"acceleration\": -33.0, \"time\": 1.1, \"dimension\": \"z\"}, {\"subset\": \"validation\", \"label\": \"fly\", \"person\": \"paul\", \"id\": 44, \"acceleration\": -44.0, \"time\": 1.2, \"dimension\": \"x\"}, {\"subset\": \"validation\", \"label\": \"fly\", \"person\": \"paul\", \"id\": 44, \"acceleration\": 1.0, \"time\": 1.2, \"dimension\": \"y\"}, {\"subset\": \"validation\", \"label\": \"fly\", \"person\": \"paul\", \"id\": 44, \"acceleration\": -38.0, \"time\": 1.2, \"dimension\": \"z\"}, {\"subset\": \"validation\", \"label\": \"fly\", \"person\": \"paul\", \"id\": 44, \"acceleration\": -45.0, \"time\": 1.3, \"dimension\": \"x\"}, {\"subset\": \"validation\", \"label\": \"fly\", \"person\": \"paul\", \"id\": 44, \"acceleration\": 1.0, \"time\": 1.3, \"dimension\": \"y\"}, {\"subset\": \"validation\", \"label\": \"fly\", \"person\": \"paul\", \"id\": 44, \"acceleration\": -43.0, \"time\": 1.3, \"dimension\": \"z\"}, {\"subset\": \"validation\", \"label\": \"fly\", \"person\": \"paul\", \"id\": 45, \"acceleration\": -23.0, \"time\": 0.0, \"dimension\": \"x\"}, {\"subset\": \"validation\", \"label\": \"fly\", \"person\": \"paul\", \"id\": 45, \"acceleration\": 1.0, \"time\": 0.0, \"dimension\": \"y\"}, {\"subset\": \"validation\", \"label\": \"fly\", \"person\": \"paul\", \"id\": 45, \"acceleration\": -60.0, \"time\": 0.0, \"dimension\": \"z\"}, {\"subset\": \"validation\", \"label\": \"fly\", \"person\": \"paul\", \"id\": 45, \"acceleration\": -22.0, \"time\": 0.1, \"dimension\": \"x\"}, {\"subset\": \"validation\", \"label\": \"fly\", \"person\": \"paul\", \"id\": 45, \"acceleration\": -2.0, \"time\": 0.1, \"dimension\": \"y\"}, {\"subset\": \"validation\", \"label\": \"fly\", \"person\": \"paul\", \"id\": 45, \"acceleration\": -50.0, \"time\": 0.1, \"dimension\": \"z\"}, {\"subset\": \"validation\", \"label\": \"fly\", \"person\": \"paul\", \"id\": 45, \"acceleration\": -18.0, \"time\": 0.2, \"dimension\": \"x\"}, {\"subset\": \"validation\", \"label\": \"fly\", \"person\": \"paul\", \"id\": 45, \"acceleration\": -1.0, \"time\": 0.2, \"dimension\": \"y\"}, {\"subset\": \"validation\", \"label\": \"fly\", \"person\": \"paul\", \"id\": 45, \"acceleration\": -24.0, \"time\": 0.2, \"dimension\": \"z\"}, {\"subset\": \"validation\", \"label\": \"fly\", \"person\": \"paul\", \"id\": 45, \"acceleration\": -1.0, \"time\": 0.3, \"dimension\": \"x\"}, {\"subset\": \"validation\", \"label\": \"fly\", \"person\": \"paul\", \"id\": 45, \"acceleration\": 10.0, \"time\": 0.3, \"dimension\": \"y\"}, {\"subset\": \"validation\", \"label\": \"fly\", \"person\": \"paul\", \"id\": 45, \"acceleration\": -5.0, \"time\": 0.3, \"dimension\": \"z\"}, {\"subset\": \"validation\", \"label\": \"fly\", \"person\": \"paul\", \"id\": 45, \"acceleration\": 26.0, \"time\": 0.4, \"dimension\": \"x\"}, {\"subset\": \"validation\", \"label\": \"fly\", \"person\": \"paul\", \"id\": 45, \"acceleration\": 22.0, \"time\": 0.4, \"dimension\": \"y\"}, {\"subset\": \"validation\", \"label\": \"fly\", \"person\": \"paul\", \"id\": 45, \"acceleration\": -15.0, \"time\": 0.4, \"dimension\": \"z\"}, {\"subset\": \"validation\", \"label\": \"fly\", \"person\": \"paul\", \"id\": 45, \"acceleration\": 56.0, \"time\": 0.5, \"dimension\": \"x\"}, {\"subset\": \"validation\", \"label\": \"fly\", \"person\": \"paul\", \"id\": 45, \"acceleration\": 27.0, \"time\": 0.5, \"dimension\": \"y\"}, {\"subset\": \"validation\", \"label\": \"fly\", \"person\": \"paul\", \"id\": 45, \"acceleration\": -45.0, \"time\": 0.5, \"dimension\": \"z\"}, {\"subset\": \"validation\", \"label\": \"fly\", \"person\": \"paul\", \"id\": 45, \"acceleration\": 72.0, \"time\": 0.6, \"dimension\": \"x\"}, {\"subset\": \"validation\", \"label\": \"fly\", \"person\": \"paul\", \"id\": 45, \"acceleration\": 29.0, \"time\": 0.6, \"dimension\": \"y\"}, {\"subset\": \"validation\", \"label\": \"fly\", \"person\": \"paul\", \"id\": 45, \"acceleration\": -74.0, \"time\": 0.6, \"dimension\": \"z\"}, {\"subset\": \"validation\", \"label\": \"fly\", \"person\": \"paul\", \"id\": 45, \"acceleration\": 69.0, \"time\": 0.7, \"dimension\": \"x\"}, {\"subset\": \"validation\", \"label\": \"fly\", \"person\": \"paul\", \"id\": 45, \"acceleration\": 31.0, \"time\": 0.7, \"dimension\": \"y\"}, {\"subset\": \"validation\", \"label\": \"fly\", \"person\": \"paul\", \"id\": 45, \"acceleration\": -83.0, \"time\": 0.7, \"dimension\": \"z\"}, {\"subset\": \"validation\", \"label\": \"fly\", \"person\": \"paul\", \"id\": 45, \"acceleration\": 62.0, \"time\": 0.8, \"dimension\": \"x\"}, {\"subset\": \"validation\", \"label\": \"fly\", \"person\": \"paul\", \"id\": 45, \"acceleration\": 30.0, \"time\": 0.8, \"dimension\": \"y\"}, {\"subset\": \"validation\", \"label\": \"fly\", \"person\": \"paul\", \"id\": 45, \"acceleration\": -74.0, \"time\": 0.8, \"dimension\": \"z\"}, {\"subset\": \"validation\", \"label\": \"fly\", \"person\": \"paul\", \"id\": 45, \"acceleration\": 58.0, \"time\": 0.9, \"dimension\": \"x\"}, {\"subset\": \"validation\", \"label\": \"fly\", \"person\": \"paul\", \"id\": 45, \"acceleration\": 26.0, \"time\": 0.9, \"dimension\": \"y\"}, {\"subset\": \"validation\", \"label\": \"fly\", \"person\": \"paul\", \"id\": 45, \"acceleration\": -60.0, \"time\": 0.9, \"dimension\": \"z\"}, {\"subset\": \"validation\", \"label\": \"fly\", \"person\": \"paul\", \"id\": 46, \"acceleration\": 55.0, \"time\": 0.0, \"dimension\": \"x\"}, {\"subset\": \"validation\", \"label\": \"fly\", \"person\": \"paul\", \"id\": 46, \"acceleration\": 31.0, \"time\": 0.0, \"dimension\": \"y\"}, {\"subset\": \"validation\", \"label\": \"fly\", \"person\": \"paul\", \"id\": 46, \"acceleration\": -21.0, \"time\": 0.0, \"dimension\": \"z\"}, {\"subset\": \"validation\", \"label\": \"fly\", \"person\": \"paul\", \"id\": 46, \"acceleration\": 56.0, \"time\": 0.1, \"dimension\": \"x\"}, {\"subset\": \"validation\", \"label\": \"fly\", \"person\": \"paul\", \"id\": 46, \"acceleration\": 34.0, \"time\": 0.1, \"dimension\": \"y\"}, {\"subset\": \"validation\", \"label\": \"fly\", \"person\": \"paul\", \"id\": 46, \"acceleration\": -36.0, \"time\": 0.1, \"dimension\": \"z\"}, {\"subset\": \"validation\", \"label\": \"fly\", \"person\": \"paul\", \"id\": 46, \"acceleration\": 65.0, \"time\": 0.2, \"dimension\": \"x\"}, {\"subset\": \"validation\", \"label\": \"fly\", \"person\": \"paul\", \"id\": 46, \"acceleration\": 39.0, \"time\": 0.2, \"dimension\": \"y\"}, {\"subset\": \"validation\", \"label\": \"fly\", \"person\": \"paul\", \"id\": 46, \"acceleration\": -74.0, \"time\": 0.2, \"dimension\": \"z\"}, {\"subset\": \"validation\", \"label\": \"fly\", \"person\": \"paul\", \"id\": 46, \"acceleration\": 88.0, \"time\": 0.3, \"dimension\": \"x\"}, {\"subset\": \"validation\", \"label\": \"fly\", \"person\": \"paul\", \"id\": 46, \"acceleration\": 43.0, \"time\": 0.3, \"dimension\": \"y\"}, {\"subset\": \"validation\", \"label\": \"fly\", \"person\": \"paul\", \"id\": 46, \"acceleration\": -102.0, \"time\": 0.3, \"dimension\": \"z\"}, {\"subset\": \"validation\", \"label\": \"fly\", \"person\": \"paul\", \"id\": 46, \"acceleration\": 105.0, \"time\": 0.4, \"dimension\": \"x\"}, {\"subset\": \"validation\", \"label\": \"fly\", \"person\": \"paul\", \"id\": 46, \"acceleration\": 43.0, \"time\": 0.4, \"dimension\": \"y\"}, {\"subset\": \"validation\", \"label\": \"fly\", \"person\": \"paul\", \"id\": 46, \"acceleration\": -81.0, \"time\": 0.4, \"dimension\": \"z\"}, {\"subset\": \"validation\", \"label\": \"fly\", \"person\": \"paul\", \"id\": 46, \"acceleration\": 90.0, \"time\": 0.5, \"dimension\": \"x\"}, {\"subset\": \"validation\", \"label\": \"fly\", \"person\": \"paul\", \"id\": 46, \"acceleration\": 36.0, \"time\": 0.5, \"dimension\": \"y\"}, {\"subset\": \"validation\", \"label\": \"fly\", \"person\": \"paul\", \"id\": 46, \"acceleration\": -37.0, \"time\": 0.5, \"dimension\": \"z\"}, {\"subset\": \"validation\", \"label\": \"fly\", \"person\": \"paul\", \"id\": 46, \"acceleration\": 52.0, \"time\": 0.6, \"dimension\": \"x\"}, {\"subset\": \"validation\", \"label\": \"fly\", \"person\": \"paul\", \"id\": 46, \"acceleration\": 26.0, \"time\": 0.6, \"dimension\": \"y\"}, {\"subset\": \"validation\", \"label\": \"fly\", \"person\": \"paul\", \"id\": 46, \"acceleration\": -11.0, \"time\": 0.6, \"dimension\": \"z\"}, {\"subset\": \"validation\", \"label\": \"fly\", \"person\": \"paul\", \"id\": 46, \"acceleration\": -16.0, \"time\": 0.7, \"dimension\": \"x\"}, {\"subset\": \"validation\", \"label\": \"fly\", \"person\": \"paul\", \"id\": 46, \"acceleration\": 9.0, \"time\": 0.7, \"dimension\": \"y\"}, {\"subset\": \"validation\", \"label\": \"fly\", \"person\": \"paul\", \"id\": 46, \"acceleration\": -36.0, \"time\": 0.7, \"dimension\": \"z\"}, {\"subset\": \"validation\", \"label\": \"fly\", \"person\": \"paul\", \"id\": 46, \"acceleration\": -22.0, \"time\": 0.8, \"dimension\": \"x\"}, {\"subset\": \"validation\", \"label\": \"fly\", \"person\": \"paul\", \"id\": 46, \"acceleration\": 9.0, \"time\": 0.8, \"dimension\": \"y\"}, {\"subset\": \"validation\", \"label\": \"fly\", \"person\": \"paul\", \"id\": 46, \"acceleration\": -46.0, \"time\": 0.8, \"dimension\": \"z\"}, {\"subset\": \"validation\", \"label\": \"fly\", \"person\": \"paul\", \"id\": 46, \"acceleration\": -24.0, \"time\": 0.9, \"dimension\": \"x\"}, {\"subset\": \"validation\", \"label\": \"fly\", \"person\": \"paul\", \"id\": 46, \"acceleration\": 7.0, \"time\": 0.9, \"dimension\": \"y\"}, {\"subset\": \"validation\", \"label\": \"fly\", \"person\": \"paul\", \"id\": 46, \"acceleration\": -52.0, \"time\": 0.9, \"dimension\": \"z\"}, {\"subset\": \"validation\", \"label\": \"fly\", \"person\": \"paul\", \"id\": 46, \"acceleration\": -25.0, \"time\": 1.0, \"dimension\": \"x\"}, {\"subset\": \"validation\", \"label\": \"fly\", \"person\": \"paul\", \"id\": 46, \"acceleration\": 5.0, \"time\": 1.0, \"dimension\": \"y\"}, {\"subset\": \"validation\", \"label\": \"fly\", \"person\": \"paul\", \"id\": 46, \"acceleration\": -55.0, \"time\": 1.0, \"dimension\": \"z\"}, {\"subset\": \"validation\", \"label\": \"fly\", \"person\": \"paul\", \"id\": 47, \"acceleration\": 57.0, \"time\": 0.0, \"dimension\": \"x\"}, {\"subset\": \"validation\", \"label\": \"fly\", \"person\": \"paul\", \"id\": 47, \"acceleration\": 30.0, \"time\": 0.0, \"dimension\": \"y\"}, {\"subset\": \"validation\", \"label\": \"fly\", \"person\": \"paul\", \"id\": 47, \"acceleration\": -12.0, \"time\": 0.0, \"dimension\": \"z\"}, {\"subset\": \"validation\", \"label\": \"fly\", \"person\": \"paul\", \"id\": 47, \"acceleration\": 60.0, \"time\": 0.1, \"dimension\": \"x\"}, {\"subset\": \"validation\", \"label\": \"fly\", \"person\": \"paul\", \"id\": 47, \"acceleration\": 36.0, \"time\": 0.1, \"dimension\": \"y\"}, {\"subset\": \"validation\", \"label\": \"fly\", \"person\": \"paul\", \"id\": 47, \"acceleration\": -27.0, \"time\": 0.1, \"dimension\": \"z\"}, {\"subset\": \"validation\", \"label\": \"fly\", \"person\": \"paul\", \"id\": 47, \"acceleration\": 68.0, \"time\": 0.2, \"dimension\": \"x\"}, {\"subset\": \"validation\", \"label\": \"fly\", \"person\": \"paul\", \"id\": 47, \"acceleration\": 43.0, \"time\": 0.2, \"dimension\": \"y\"}, {\"subset\": \"validation\", \"label\": \"fly\", \"person\": \"paul\", \"id\": 47, \"acceleration\": -62.0, \"time\": 0.2, \"dimension\": \"z\"}, {\"subset\": \"validation\", \"label\": \"fly\", \"person\": \"paul\", \"id\": 47, \"acceleration\": 88.0, \"time\": 0.3, \"dimension\": \"x\"}, {\"subset\": \"validation\", \"label\": \"fly\", \"person\": \"paul\", \"id\": 47, \"acceleration\": 49.0, \"time\": 0.3, \"dimension\": \"y\"}, {\"subset\": \"validation\", \"label\": \"fly\", \"person\": \"paul\", \"id\": 47, \"acceleration\": -88.0, \"time\": 0.3, \"dimension\": \"z\"}, {\"subset\": \"validation\", \"label\": \"fly\", \"person\": \"paul\", \"id\": 47, \"acceleration\": 108.0, \"time\": 0.4, \"dimension\": \"x\"}, {\"subset\": \"validation\", \"label\": \"fly\", \"person\": \"paul\", \"id\": 47, \"acceleration\": 54.0, \"time\": 0.4, \"dimension\": \"y\"}, {\"subset\": \"validation\", \"label\": \"fly\", \"person\": \"paul\", \"id\": 47, \"acceleration\": -81.0, \"time\": 0.4, \"dimension\": \"z\"}, {\"subset\": \"validation\", \"label\": \"fly\", \"person\": \"paul\", \"id\": 47, \"acceleration\": 104.0, \"time\": 0.5, \"dimension\": \"x\"}, {\"subset\": \"validation\", \"label\": \"fly\", \"person\": \"paul\", \"id\": 47, \"acceleration\": 31.0, \"time\": 0.5, \"dimension\": \"y\"}, {\"subset\": \"validation\", \"label\": \"fly\", \"person\": \"paul\", \"id\": 47, \"acceleration\": -18.0, \"time\": 0.5, \"dimension\": \"z\"}, {\"subset\": \"validation\", \"label\": \"fly\", \"person\": \"paul\", \"id\": 47, \"acceleration\": 30.0, \"time\": 0.6, \"dimension\": \"x\"}, {\"subset\": \"validation\", \"label\": \"fly\", \"person\": \"paul\", \"id\": 47, \"acceleration\": 20.0, \"time\": 0.6, \"dimension\": \"y\"}, {\"subset\": \"validation\", \"label\": \"fly\", \"person\": \"paul\", \"id\": 47, \"acceleration\": -4.0, \"time\": 0.6, \"dimension\": \"z\"}, {\"subset\": \"validation\", \"label\": \"fly\", \"person\": \"paul\", \"id\": 47, \"acceleration\": -1.0, \"time\": 0.7, \"dimension\": \"x\"}, {\"subset\": \"validation\", \"label\": \"fly\", \"person\": \"paul\", \"id\": 47, \"acceleration\": 11.0, \"time\": 0.7, \"dimension\": \"y\"}, {\"subset\": \"validation\", \"label\": \"fly\", \"person\": \"paul\", \"id\": 47, \"acceleration\": -6.0, \"time\": 0.7, \"dimension\": \"z\"}, {\"subset\": \"validation\", \"label\": \"fly\", \"person\": \"paul\", \"id\": 47, \"acceleration\": -20.0, \"time\": 0.8, \"dimension\": \"x\"}, {\"subset\": \"validation\", \"label\": \"fly\", \"person\": \"paul\", \"id\": 47, \"acceleration\": 6.0, \"time\": 0.8, \"dimension\": \"y\"}, {\"subset\": \"validation\", \"label\": \"fly\", \"person\": \"paul\", \"id\": 47, \"acceleration\": -18.0, \"time\": 0.8, \"dimension\": \"z\"}, {\"subset\": \"validation\", \"label\": \"fly\", \"person\": \"paul\", \"id\": 47, \"acceleration\": -30.0, \"time\": 0.9, \"dimension\": \"x\"}, {\"subset\": \"validation\", \"label\": \"fly\", \"person\": \"paul\", \"id\": 47, \"acceleration\": 4.0, \"time\": 0.9, \"dimension\": \"y\"}, {\"subset\": \"validation\", \"label\": \"fly\", \"person\": \"paul\", \"id\": 47, \"acceleration\": -31.0, \"time\": 0.9, \"dimension\": \"z\"}, {\"subset\": \"validation\", \"label\": \"fly\", \"person\": \"paul\", \"id\": 47, \"acceleration\": -34.0, \"time\": 1.0, \"dimension\": \"x\"}, {\"subset\": \"validation\", \"label\": \"fly\", \"person\": \"paul\", \"id\": 47, \"acceleration\": 4.0, \"time\": 1.0, \"dimension\": \"y\"}, {\"subset\": \"validation\", \"label\": \"fly\", \"person\": \"paul\", \"id\": 47, \"acceleration\": -41.0, \"time\": 1.0, \"dimension\": \"z\"}, {\"subset\": \"validation\", \"label\": \"fly\", \"person\": \"paul\", \"id\": 47, \"acceleration\": -35.0, \"time\": 1.1, \"dimension\": \"x\"}, {\"subset\": \"validation\", \"label\": \"fly\", \"person\": \"paul\", \"id\": 47, \"acceleration\": 4.0, \"time\": 1.1, \"dimension\": \"y\"}, {\"subset\": \"validation\", \"label\": \"fly\", \"person\": \"paul\", \"id\": 47, \"acceleration\": -48.0, \"time\": 1.1, \"dimension\": \"z\"}, {\"subset\": \"validation\", \"label\": \"fly\", \"person\": \"paul\", \"id\": 47, \"acceleration\": -36.0, \"time\": 1.2, \"dimension\": \"x\"}, {\"subset\": \"validation\", \"label\": \"fly\", \"person\": \"paul\", \"id\": 47, \"acceleration\": 3.0, \"time\": 1.2, \"dimension\": \"y\"}, {\"subset\": \"validation\", \"label\": \"fly\", \"person\": \"paul\", \"id\": 47, \"acceleration\": -51.0, \"time\": 1.2, \"dimension\": \"z\"}, {\"subset\": \"validation\", \"label\": \"fly\", \"person\": \"paul\", \"id\": 48, \"acceleration\": 56.0, \"time\": 0.0, \"dimension\": \"x\"}, {\"subset\": \"validation\", \"label\": \"fly\", \"person\": \"paul\", \"id\": 48, \"acceleration\": 31.0, \"time\": 0.0, \"dimension\": \"y\"}, {\"subset\": \"validation\", \"label\": \"fly\", \"person\": \"paul\", \"id\": 48, \"acceleration\": -16.0, \"time\": 0.0, \"dimension\": \"z\"}, {\"subset\": \"validation\", \"label\": \"fly\", \"person\": \"paul\", \"id\": 48, \"acceleration\": 59.0, \"time\": 0.1, \"dimension\": \"x\"}, {\"subset\": \"validation\", \"label\": \"fly\", \"person\": \"paul\", \"id\": 48, \"acceleration\": 33.0, \"time\": 0.1, \"dimension\": \"y\"}, {\"subset\": \"validation\", \"label\": \"fly\", \"person\": \"paul\", \"id\": 48, \"acceleration\": -32.0, \"time\": 0.1, \"dimension\": \"z\"}, {\"subset\": \"validation\", \"label\": \"fly\", \"person\": \"paul\", \"id\": 48, \"acceleration\": 67.0, \"time\": 0.2, \"dimension\": \"x\"}, {\"subset\": \"validation\", \"label\": \"fly\", \"person\": \"paul\", \"id\": 48, \"acceleration\": 35.0, \"time\": 0.2, \"dimension\": \"y\"}, {\"subset\": \"validation\", \"label\": \"fly\", \"person\": \"paul\", \"id\": 48, \"acceleration\": -62.0, \"time\": 0.2, \"dimension\": \"z\"}, {\"subset\": \"validation\", \"label\": \"fly\", \"person\": \"paul\", \"id\": 48, \"acceleration\": 81.0, \"time\": 0.3, \"dimension\": \"x\"}, {\"subset\": \"validation\", \"label\": \"fly\", \"person\": \"paul\", \"id\": 48, \"acceleration\": 40.0, \"time\": 0.3, \"dimension\": \"y\"}, {\"subset\": \"validation\", \"label\": \"fly\", \"person\": \"paul\", \"id\": 48, \"acceleration\": -82.0, \"time\": 0.3, \"dimension\": \"z\"}, {\"subset\": \"validation\", \"label\": \"fly\", \"person\": \"paul\", \"id\": 48, \"acceleration\": 94.0, \"time\": 0.4, \"dimension\": \"x\"}, {\"subset\": \"validation\", \"label\": \"fly\", \"person\": \"paul\", \"id\": 48, \"acceleration\": 44.0, \"time\": 0.4, \"dimension\": \"y\"}, {\"subset\": \"validation\", \"label\": \"fly\", \"person\": \"paul\", \"id\": 48, \"acceleration\": -73.0, \"time\": 0.4, \"dimension\": \"z\"}, {\"subset\": \"validation\", \"label\": \"fly\", \"person\": \"paul\", \"id\": 48, \"acceleration\": 86.0, \"time\": 0.5, \"dimension\": \"x\"}, {\"subset\": \"validation\", \"label\": \"fly\", \"person\": \"paul\", \"id\": 48, \"acceleration\": 39.0, \"time\": 0.5, \"dimension\": \"y\"}, {\"subset\": \"validation\", \"label\": \"fly\", \"person\": \"paul\", \"id\": 48, \"acceleration\": -47.0, \"time\": 0.5, \"dimension\": \"z\"}, {\"subset\": \"validation\", \"label\": \"fly\", \"person\": \"paul\", \"id\": 48, \"acceleration\": 58.0, \"time\": 0.6, \"dimension\": \"x\"}, {\"subset\": \"validation\", \"label\": \"fly\", \"person\": \"paul\", \"id\": 48, \"acceleration\": 29.0, \"time\": 0.6, \"dimension\": \"y\"}, {\"subset\": \"validation\", \"label\": \"fly\", \"person\": \"paul\", \"id\": 48, \"acceleration\": -21.0, \"time\": 0.6, \"dimension\": \"z\"}, {\"subset\": \"validation\", \"label\": \"fly\", \"person\": \"paul\", \"id\": 48, \"acceleration\": 25.0, \"time\": 0.7, \"dimension\": \"x\"}, {\"subset\": \"validation\", \"label\": \"fly\", \"person\": \"paul\", \"id\": 48, \"acceleration\": 19.0, \"time\": 0.7, \"dimension\": \"y\"}, {\"subset\": \"validation\", \"label\": \"fly\", \"person\": \"paul\", \"id\": 48, \"acceleration\": -9.0, \"time\": 0.7, \"dimension\": \"z\"}, {\"subset\": \"validation\", \"label\": \"fly\", \"person\": \"paul\", \"id\": 48, \"acceleration\": 1.0, \"time\": 0.8, \"dimension\": \"x\"}, {\"subset\": \"validation\", \"label\": \"fly\", \"person\": \"paul\", \"id\": 48, \"acceleration\": 13.0, \"time\": 0.8, \"dimension\": \"y\"}, {\"subset\": \"validation\", \"label\": \"fly\", \"person\": \"paul\", \"id\": 48, \"acceleration\": -18.0, \"time\": 0.8, \"dimension\": \"z\"}, {\"subset\": \"validation\", \"label\": \"fly\", \"person\": \"paul\", \"id\": 48, \"acceleration\": -11.0, \"time\": 0.9, \"dimension\": \"x\"}, {\"subset\": \"validation\", \"label\": \"fly\", \"person\": \"paul\", \"id\": 48, \"acceleration\": 11.0, \"time\": 0.9, \"dimension\": \"y\"}, {\"subset\": \"validation\", \"label\": \"fly\", \"person\": \"paul\", \"id\": 48, \"acceleration\": -35.0, \"time\": 0.9, \"dimension\": \"z\"}, {\"subset\": \"validation\", \"label\": \"fly\", \"person\": \"paul\", \"id\": 48, \"acceleration\": -16.0, \"time\": 1.0, \"dimension\": \"x\"}, {\"subset\": \"validation\", \"label\": \"fly\", \"person\": \"paul\", \"id\": 48, \"acceleration\": 12.0, \"time\": 1.0, \"dimension\": \"y\"}, {\"subset\": \"validation\", \"label\": \"fly\", \"person\": \"paul\", \"id\": 48, \"acceleration\": -47.0, \"time\": 1.0, \"dimension\": \"z\"}, {\"subset\": \"validation\", \"label\": \"fly\", \"person\": \"paul\", \"id\": 48, \"acceleration\": -18.0, \"time\": 1.1, \"dimension\": \"x\"}, {\"subset\": \"validation\", \"label\": \"fly\", \"person\": \"paul\", \"id\": 48, \"acceleration\": 11.0, \"time\": 1.1, \"dimension\": \"y\"}, {\"subset\": \"validation\", \"label\": \"fly\", \"person\": \"paul\", \"id\": 48, \"acceleration\": -54.0, \"time\": 1.1, \"dimension\": \"z\"}, {\"subset\": \"validation\", \"label\": \"fly\", \"person\": \"paul\", \"id\": 48, \"acceleration\": -19.0, \"time\": 1.2, \"dimension\": \"x\"}, {\"subset\": \"validation\", \"label\": \"fly\", \"person\": \"paul\", \"id\": 48, \"acceleration\": 11.0, \"time\": 1.2, \"dimension\": \"y\"}, {\"subset\": \"validation\", \"label\": \"fly\", \"person\": \"paul\", \"id\": 48, \"acceleration\": -58.0, \"time\": 1.2, \"dimension\": \"z\"}]}}, {\"mode\": \"vega-lite\"});\n",
       "</script>"
      ],
      "text/plain": [
       "alt.Chart(...)"
      ]
     },
     "execution_count": 7,
     "metadata": {},
     "output_type": "execute_result"
    }
   ],
   "source": [
    "#@title\n",
    "import altair as alt\n",
    "\n",
    "# plot the acceleration data\n",
    "alt.Chart(\n",
    "    dataset_df[\n",
    "      np.logical_and(\n",
    "          dataset_df['subset'] == 'validation',\n",
    "          dataset_df['label'] == 'fly'\n",
    "      )\n",
    "    ],\n",
    "    width=200\n",
    ").mark_line(\n",
    "    opacity=0.4\n",
    ").encode(\n",
    "    x='time:Q',\n",
    "    y='acceleration:Q',\n",
    "    detail='id:N',\n",
    "    color='person:N',\n",
    "    column='dimension:N'\n",
    ").interactive(bind_y=False)"
   ]
  },
  {
   "cell_type": "markdown",
   "metadata": {
    "colab_type": "text",
    "id": "vBekzXg0NrTO"
   },
   "source": [
    "### Splitting the dataset"
   ]
  },
  {
   "cell_type": "markdown",
   "metadata": {
    "colab_type": "text",
    "id": "g24qjINbUW72"
   },
   "source": [
    "You should now have a reasonable understanding of the data format and the challenges creating a model that can correlate the acceleration data with a particular gesture. However, before diving in to TensorFlow and the model, it is critial to understand how data should be split. Otherwise you may end up with a false belief that your model is good.\n",
    "\n",
    "A dataset in machine learning is always split up into at least 3 parts:\n",
    "\n",
    "1. A training dataset, used for learning the model.\n",
    "2. A validation dataset, used for making decisions about the model, such as the number of parameters or how it is optimized.\n",
    "3. A test dataset, used when you really think the model is good and you want to evaluate how it would perform on data that have never been seen before, by the model or by you!\n",
    "\n",
    "The `AccelerationReader` constructor parses the CSV data and generates these three datasets. `test_ratio` and `validation_ratio` controls how much data is put aside for validation and testing. The datasets are exposed as `dataset.train`, `dataset.validation`, and `dataset.test`.\n",
    "\n",
    "_Note that this uses [statified sampling](https://en.wikipedia.org/wiki/Stratified_sampling), meaning `validation_ratio=0.2` takes 20% for each gesture type and not just from the entire dataset. This is relevant when there is not an equal amount of observations for each gesture._"
   ]
  },
  {
   "cell_type": "markdown",
   "metadata": {
    "colab_type": "text",
    "id": "aEETykFqOZJg"
   },
   "source": [
    "## Introduction to TensorFlow"
   ]
  },
  {
   "cell_type": "markdown",
   "metadata": {
    "colab_type": "text",
    "id": "dZeJrGPPdB7C"
   },
   "source": [
    "TensorFlow is a framework for operating with tensors, which are just fixed-sized multidimensional arrays. Such an operation could be adding each element together, for example `[1,2] + [3,4] = [4,6]` or summing all elements, such as `[1,2] = 3`. However, TensorFlow's capabilities extend far beyond these simple operations. In particular, it provides essential mathematical tools for optimizing models, such as computing gradients.\n",
    "\n",
    "For defining the model, the [keras framework](https://keras.io/) is used. This is a high-level framework on top of TensorFlow which makes it easy to define common neural networks, while still allowing the user to implement custom components. For this workshop, only predefined components are used.\n",
    "\n",
    "### TensorFlow Lite for Microcontrollers\n",
    "\n",
    "While there are popular alternatives to TensorFlow such as [PyTorch](https://pytorch.org/), TensorFlow provides capabilities useful for the industry that other frameworks have not yet prioritized. One such example is [\"TensorFlow Lite for Microcontrollers\"](https://www.tensorflow.org/lite/microcontrollers), which is what allows us to run models on Microcontrollers such as the smartwatch badge.\n",
    "\n",
    "Without going into too many details, TensorFlow Lite allows us to export the model loosely compressed (called quantization) and save it to a flatbuffer format. This file can then be used to evaluate the model in a microcontroller, using the [\"TensorFlow Lite for Microcontrollers\"](https://www.tensorflow.org/lite/microcontrollers) library. This is a small C++ library that doesn't depend on an operating system, thereby allowing us to use it on the smartwatch."
   ]
  },
  {
   "cell_type": "markdown",
   "metadata": {
    "colab_type": "text",
    "id": "zyUjW97H0Nl9"
   },
   "source": [
    "## Define model"
   ]
  },
  {
   "cell_type": "markdown",
   "metadata": {
    "colab_type": "text",
    "id": "JreF35EoN5fo"
   },
   "source": [
    "When creating a model for an embedded device, it is important to keep things simple as this the total-size should not exceed 20kb, which is not a lot for a contemporary neural network.\n",
    "\n",
    "The model used here, is a simple [convolutional neural network](https://en.wikipedia.org/wiki/Convolutional_neural_network) \\([easy blog post](https://victorzhou.com/blog/intro-to-cnns-part-1/)). The central idea is to first learn micro-patterns, such as right movement, left movement, or sudden stop. Then learn macro-patterns such as a right movement, followed by a sudden stop, followed by a left movement, then a right movement again, and finally a sudden stop, may indicate a clap.\n",
    "\n",
    "Both the micro and macro patterns are looked for over time, and at each time step, it outputs some signal of this pattern being detected. To summarize this, the model then looks for the strongest signal (MaxPool) over time.\n",
    "\n",
    "This gives a 1 dimensional array of values, each one indicating either a gesture or a significant part of a gesture. To then scale and combine these values, such they can attain a probabilistic meaning, a final transformation (Dense) is applied."
   ]
  },
  {
   "cell_type": "code",
   "execution_count": 17,
   "metadata": {
    "cellView": "form",
    "colab": {
     "base_uri": "https://localhost:8080/",
     "height": 187
    },
    "colab_type": "code",
    "id": "54ZuYEpEHL_x",
    "outputId": "e3f7eb30-e454-45f7-f4df-fe8829637068"
   },
   "outputs": [
    {
     "data": {
      "text/html": [
       "<svg version=\"1.1\" viewBox=\"0 0 410.01 194.07\" width=\"350\" xmlns=\"http://www.w3.org/2000/svg\">\n",
       " <g transform=\"matrix(1.5284 0 0 1.5284 -814.5 -430.73)\">\n",
       "  <g transform=\"matrix(.61712 0 0 .61712 207.54 107.91)\">\n",
       "   <g stroke=\"#000\">\n",
       "    <g stroke-width=\"1.9\">\n",
       "     <rect class=\"rect\" x=\"543\" y=\"363\" width=\"1\" height=\"50\" fill=\"#a0a0a0\" opacity=\".8\"/>\n",
       "     <rect class=\"rect\" x=\"552\" y=\"372\" width=\"1\" height=\"50\" fill=\"#e0e0e0\" opacity=\".8\"/>\n",
       "     <rect class=\"rect\" x=\"561\" y=\"381\" width=\"1\" height=\"50\" fill=\"#a0a0a0\" opacity=\".8\"/>\n",
       "     <rect class=\"rect\" x=\"609\" y=\"313.5\" width=\"1\" height=\"46\" fill=\"#a0a0a0\" opacity=\".8\"/>\n",
       "     <rect class=\"rect\" x=\"618\" y=\"322.5\" width=\"1\" height=\"46\" fill=\"#e0e0e0\" opacity=\".8\"/>\n",
       "     <rect class=\"rect\" x=\"627\" y=\"331.5\" width=\"1\" height=\"46\" fill=\"#a0a0a0\" opacity=\".8\"/>\n",
       "     <rect class=\"rect\" x=\"636\" y=\"340.5\" width=\"1\" height=\"46\" fill=\"#e0e0e0\" opacity=\".8\"/>\n",
       "     <rect class=\"rect\" x=\"645\" y=\"349.5\" width=\"1\" height=\"46\" fill=\"#a0a0a0\" opacity=\".8\"/>\n",
       "     <rect class=\"rect\" x=\"654\" y=\"358.5\" width=\"1\" height=\"46\" fill=\"#e0e0e0\" opacity=\".8\"/>\n",
       "     <rect class=\"rect\" x=\"663\" y=\"367.5\" width=\"1\" height=\"46\" fill=\"#a0a0a0\" opacity=\".8\"/>\n",
       "     <rect class=\"rect\" x=\"672\" y=\"376.5\" width=\"1\" height=\"46\" fill=\"#e0e0e0\" opacity=\".8\"/>\n",
       "     <rect class=\"rect\" x=\"681\" y=\"385.5\" width=\"1\" height=\"46\" fill=\"#a0a0a0\" opacity=\".8\"/>\n",
       "     <rect class=\"rect\" x=\"690\" y=\"394.5\" width=\"1\" height=\"46\" fill=\"#e0e0e0\" opacity=\".8\"/>\n",
       "     <rect class=\"rect\" x=\"699\" y=\"403.5\" width=\"1\" height=\"46\" fill=\"#a0a0a0\" opacity=\".8\"/>\n",
       "     <rect class=\"rect\" x=\"708\" y=\"412.5\" width=\"1\" height=\"46\" fill=\"#e0e0e0\" opacity=\".8\"/>\n",
       "     <rect class=\"rect\" x=\"717\" y=\"421.5\" width=\"1\" height=\"46\" fill=\"#a0a0a0\" opacity=\".8\"/>\n",
       "     <rect class=\"rect\" x=\"726\" y=\"430.5\" width=\"1\" height=\"46\" fill=\"#e0e0e0\" opacity=\".8\"/>\n",
       "     <rect class=\"rect\" x=\"766\" y=\"354\" width=\"1\" height=\"46\" fill=\"#e0e0e0\" opacity=\".8\"/>\n",
       "     <rect class=\"rect\" x=\"775\" y=\"363\" width=\"1\" height=\"46\" fill=\"#a0a0a0\" opacity=\".8\"/>\n",
       "     <rect class=\"rect\" x=\"784\" y=\"372\" width=\"1\" height=\"46\" fill=\"#e0e0e0\" opacity=\".8\"/>\n",
       "     <rect class=\"rect\" x=\"793\" y=\"381\" width=\"1\" height=\"46\" fill=\"#a0a0a0\" opacity=\".8\"/>\n",
       "     <rect class=\"rect\" x=\"802\" y=\"390\" width=\"1\" height=\"46\" fill=\"#e0e0e0\" opacity=\".8\"/>\n",
       "    </g>\n",
       "    <g stroke-opacity=\".8\">\n",
       "     <rect class=\"conv\" x=\"561\" y=\"401.85\" width=\"1\" height=\"5\" fill-opacity=\"0\" stroke-width=\"1.9\"/>\n",
       "     <rect class=\"conv\" x=\"726\" y=\"436.74\" width=\"1\" height=\"9\" fill-opacity=\"0\" stroke-width=\"1.9\"/>\n",
       "     <line class=\"link\" x1=\"562\" x2=\"726.66\" y1=\"406.85\" y2=\"451.82\" stroke-width=\".95\"/>\n",
       "     <line class=\"link\" x1=\"562\" x2=\"726.66\" y1=\"401.85\" y2=\"451.82\" stroke-width=\".95\"/>\n",
       "    </g>\n",
       "    <polygon class=\"poly\" points=\"880.95 374.97 870.95 374.97 866 370.03 876 370.03\" fill=\"#e0e0e0\" opacity=\".8\" stroke-width=\"1.9\"/>\n",
       "    <polygon class=\"poly\" transform=\"translate(61.771)\" points=\"887.9 374.97 882.95 370.03 892.95 370.03 897.9 374.97\" fill=\"#e0e0e0\" opacity=\".8\" stroke-width=\"1.9\"/>\n",
       "    <line class=\"line\" x1=\"880.95\" x2=\"950\" y1=\"374.97\" y2=\"374.97\" stroke-opacity=\".8\" stroke-width=\".95\"/>\n",
       "    <line class=\"line\" x1=\"876.64\" x2=\"944.64\" y1=\"370.03\" y2=\"370.03\" stroke-opacity=\".8\" stroke-width=\".95\"/>\n",
       "   </g>\n",
       "   <g font-family=\"sans-serif\" font-size=\"16px\">\n",
       "    <text class=\"text\" x=\"600\" y=\"481\" dy=\"0.34999999em\">Conv2D</text>\n",
       "    <text class=\"text\" x=\"740.75\" y=\"481\" dy=\"0.34999999em\">Conv2D</text>\n",
       "    <text class=\"text\" x=\"823.11694\" y=\"481\" dy=\"5.5999999\">MaxPool</text>\n",
       "    <text class=\"info\" x=\"526.03632\" y=\"348\" dy=\"-4.8000002\">3@50x1</text>\n",
       "    <text class=\"info\" x=\"604.75903\" y=\"298.5\" dy=\"-4.8000002\">14@46x1</text>\n",
       "    <text class=\"info\" x=\"752.75903\" y=\"330\">5@46x1</text>\n",
       "    <text class=\"info\" x=\"863.87952\" y=\"355.02512\" dy=\"-4.8000002\">1x5</text>\n",
       "    <text class=\"info\" x=\"931.31934\" y=\"355.02512\" dy=\"-4.8000002\">1x5</text>\n",
       "    <text class=\"text\" x=\"903.69458\" y=\"486.6001\">Dense</text>\n",
       "   </g>\n",
       "   <g fill=\"none\" stroke=\"#000\" stroke-width=\"1.0602px\">\n",
       "    <path d=\"m803 390 67.95-15.025\" stroke-opacity=\".8\"/>\n",
       "    <path d=\"m767 354 99 16.025\" stroke-opacity=\".8\"/>\n",
       "    <path d=\"m727 445.74 76.144-46.615-76.144 37.615\" stroke-opacity=\".8\"/>\n",
       "   </g>\n",
       "  </g>\n",
       " </g>\n",
       "</svg>"
      ],
      "text/plain": [
       "<IPython.core.display.HTML object>"
      ]
     },
     "metadata": {
      "tags": []
     },
     "output_type": "display_data"
    }
   ],
   "source": [
    "#@title\n",
    "%%html\n",
    "<svg version=\"1.1\" viewBox=\"0 0 410.01 194.07\" width=\"350\" xmlns=\"http://www.w3.org/2000/svg\">\n",
    " <g transform=\"matrix(1.5284 0 0 1.5284 -814.5 -430.73)\">\n",
    "  <g transform=\"matrix(.61712 0 0 .61712 207.54 107.91)\">\n",
    "   <g stroke=\"#000\">\n",
    "    <g stroke-width=\"1.9\">\n",
    "     <rect class=\"rect\" x=\"543\" y=\"363\" width=\"1\" height=\"50\" fill=\"#a0a0a0\" opacity=\".8\"/>\n",
    "     <rect class=\"rect\" x=\"552\" y=\"372\" width=\"1\" height=\"50\" fill=\"#e0e0e0\" opacity=\".8\"/>\n",
    "     <rect class=\"rect\" x=\"561\" y=\"381\" width=\"1\" height=\"50\" fill=\"#a0a0a0\" opacity=\".8\"/>\n",
    "     <rect class=\"rect\" x=\"609\" y=\"313.5\" width=\"1\" height=\"46\" fill=\"#a0a0a0\" opacity=\".8\"/>\n",
    "     <rect class=\"rect\" x=\"618\" y=\"322.5\" width=\"1\" height=\"46\" fill=\"#e0e0e0\" opacity=\".8\"/>\n",
    "     <rect class=\"rect\" x=\"627\" y=\"331.5\" width=\"1\" height=\"46\" fill=\"#a0a0a0\" opacity=\".8\"/>\n",
    "     <rect class=\"rect\" x=\"636\" y=\"340.5\" width=\"1\" height=\"46\" fill=\"#e0e0e0\" opacity=\".8\"/>\n",
    "     <rect class=\"rect\" x=\"645\" y=\"349.5\" width=\"1\" height=\"46\" fill=\"#a0a0a0\" opacity=\".8\"/>\n",
    "     <rect class=\"rect\" x=\"654\" y=\"358.5\" width=\"1\" height=\"46\" fill=\"#e0e0e0\" opacity=\".8\"/>\n",
    "     <rect class=\"rect\" x=\"663\" y=\"367.5\" width=\"1\" height=\"46\" fill=\"#a0a0a0\" opacity=\".8\"/>\n",
    "     <rect class=\"rect\" x=\"672\" y=\"376.5\" width=\"1\" height=\"46\" fill=\"#e0e0e0\" opacity=\".8\"/>\n",
    "     <rect class=\"rect\" x=\"681\" y=\"385.5\" width=\"1\" height=\"46\" fill=\"#a0a0a0\" opacity=\".8\"/>\n",
    "     <rect class=\"rect\" x=\"690\" y=\"394.5\" width=\"1\" height=\"46\" fill=\"#e0e0e0\" opacity=\".8\"/>\n",
    "     <rect class=\"rect\" x=\"699\" y=\"403.5\" width=\"1\" height=\"46\" fill=\"#a0a0a0\" opacity=\".8\"/>\n",
    "     <rect class=\"rect\" x=\"708\" y=\"412.5\" width=\"1\" height=\"46\" fill=\"#e0e0e0\" opacity=\".8\"/>\n",
    "     <rect class=\"rect\" x=\"717\" y=\"421.5\" width=\"1\" height=\"46\" fill=\"#a0a0a0\" opacity=\".8\"/>\n",
    "     <rect class=\"rect\" x=\"726\" y=\"430.5\" width=\"1\" height=\"46\" fill=\"#e0e0e0\" opacity=\".8\"/>\n",
    "     <rect class=\"rect\" x=\"766\" y=\"354\" width=\"1\" height=\"46\" fill=\"#e0e0e0\" opacity=\".8\"/>\n",
    "     <rect class=\"rect\" x=\"775\" y=\"363\" width=\"1\" height=\"46\" fill=\"#a0a0a0\" opacity=\".8\"/>\n",
    "     <rect class=\"rect\" x=\"784\" y=\"372\" width=\"1\" height=\"46\" fill=\"#e0e0e0\" opacity=\".8\"/>\n",
    "     <rect class=\"rect\" x=\"793\" y=\"381\" width=\"1\" height=\"46\" fill=\"#a0a0a0\" opacity=\".8\"/>\n",
    "     <rect class=\"rect\" x=\"802\" y=\"390\" width=\"1\" height=\"46\" fill=\"#e0e0e0\" opacity=\".8\"/>\n",
    "    </g>\n",
    "    <g stroke-opacity=\".8\">\n",
    "     <rect class=\"conv\" x=\"561\" y=\"401.85\" width=\"1\" height=\"5\" fill-opacity=\"0\" stroke-width=\"1.9\"/>\n",
    "     <rect class=\"conv\" x=\"726\" y=\"436.74\" width=\"1\" height=\"9\" fill-opacity=\"0\" stroke-width=\"1.9\"/>\n",
    "     <line class=\"link\" x1=\"562\" x2=\"726.66\" y1=\"406.85\" y2=\"451.82\" stroke-width=\".95\"/>\n",
    "     <line class=\"link\" x1=\"562\" x2=\"726.66\" y1=\"401.85\" y2=\"451.82\" stroke-width=\".95\"/>\n",
    "    </g>\n",
    "    <polygon class=\"poly\" points=\"880.95 374.97 870.95 374.97 866 370.03 876 370.03\" fill=\"#e0e0e0\" opacity=\".8\" stroke-width=\"1.9\"/>\n",
    "    <polygon class=\"poly\" transform=\"translate(61.771)\" points=\"887.9 374.97 882.95 370.03 892.95 370.03 897.9 374.97\" fill=\"#e0e0e0\" opacity=\".8\" stroke-width=\"1.9\"/>\n",
    "    <line class=\"line\" x1=\"880.95\" x2=\"950\" y1=\"374.97\" y2=\"374.97\" stroke-opacity=\".8\" stroke-width=\".95\"/>\n",
    "    <line class=\"line\" x1=\"876.64\" x2=\"944.64\" y1=\"370.03\" y2=\"370.03\" stroke-opacity=\".8\" stroke-width=\".95\"/>\n",
    "   </g>\n",
    "   <g font-family=\"sans-serif\" font-size=\"16px\">\n",
    "    <text class=\"text\" x=\"600\" y=\"481\" dy=\"0.34999999em\">Conv2D</text>\n",
    "    <text class=\"text\" x=\"740.75\" y=\"481\" dy=\"0.34999999em\">Conv2D</text>\n",
    "    <text class=\"text\" x=\"823.11694\" y=\"481\" dy=\"5.5999999\">MaxPool</text>\n",
    "    <text class=\"info\" x=\"526.03632\" y=\"348\" dy=\"-4.8000002\">3@50x1</text>\n",
    "    <text class=\"info\" x=\"604.75903\" y=\"298.5\" dy=\"-4.8000002\">14@46x1</text>\n",
    "    <text class=\"info\" x=\"752.75903\" y=\"330\">5@46x1</text>\n",
    "    <text class=\"info\" x=\"863.87952\" y=\"355.02512\" dy=\"-4.8000002\">1x5</text>\n",
    "    <text class=\"info\" x=\"931.31934\" y=\"355.02512\" dy=\"-4.8000002\">1x5</text>\n",
    "    <text class=\"text\" x=\"903.69458\" y=\"486.6001\">Dense</text>\n",
    "   </g>\n",
    "   <g fill=\"none\" stroke=\"#000\" stroke-width=\"1.0602px\">\n",
    "    <path d=\"m803 390 67.95-15.025\" stroke-opacity=\".8\"/>\n",
    "    <path d=\"m767 354 99 16.025\" stroke-opacity=\".8\"/>\n",
    "    <path d=\"m727 445.74 76.144-46.615-76.144 37.615\" stroke-opacity=\".8\"/>\n",
    "   </g>\n",
    "  </g>\n",
    " </g>\n",
    "</svg>"
   ]
  },
  {
   "cell_type": "code",
   "execution_count": 8,
   "metadata": {
    "colab": {},
    "colab_type": "code",
    "id": "u1fh8bt02vI0"
   },
   "outputs": [],
   "source": [
    "import tensorflow as tf\n",
    "import tensorflow.keras as keras\n",
    "\n",
    "tf.random.set_seed(1)\n",
    "\n",
    "model = keras.Sequential()\n",
    "# Define input\n",
    "model.add(keras.Input(shape=(50, 1, 3), name='acceleration'))\n",
    "# Define first convolution layer (detects micro patterns)\n",
    "# You can experiment with 14, 5, and activation here.\n",
    "model.add(keras.layers.Conv2D(14, (5, 1),\n",
    "                              padding='valid', activation='relu'))\n",
    "model.add(keras.layers.Dropout(0.2))\n",
    "# Define second convolution layer (detects macro patterns)\n",
    "# You can experiment with 5, 2, and activation here. `len(dataset.classnames)`\n",
    "#   can also be changed to someting larger than `len(dataset.classnames)`.\n",
    "model.add(keras.layers.Conv2D(len(dataset.classnames), (5, 1),\n",
    "                              padding='same', activation='relu', dilation_rate=2))\n",
    "model.add(keras.layers.Dropout(0.1))\n",
    "\n",
    "# Define the sequence summarization layer\n",
    "# The number 46 is meant to compass the entire sequence, which is now 46 long,\n",
    "#   this is computed as `dataset.max_sequence_length - (micro_filter_width - 1)`.\n",
    "#   Where micro_filter_width is the `5` in the first convolution layer.\n",
    "# Normally one should use `keras.layers.GlobalMaxPool2D()` which does the same,\n",
    "#   however that is not yet supported by TFLite Micro.\n",
    "model.add(keras.layers.MaxPool2D((46, 1)))\n",
    "model.add(keras.layers.Flatten())\n",
    "\n",
    "# Define the final layer that outputs classes.\n",
    "# The input needs to be len(dataset.classnames).\n",
    "model.add(keras.layers.Dense(len(dataset.classnames), use_bias=False))\n",
    "\n",
    "# Compile the model, this defines how the model is optimizied\n",
    "model.compile(optimizer=keras.optimizers.Adam(),\n",
    "              loss=keras.losses.SparseCategoricalCrossentropy(from_logits=True),\n",
    "              metrics=[keras.metrics.SparseCategoricalAccuracy()])"
   ]
  },
  {
   "cell_type": "markdown",
   "metadata": {
    "colab_type": "text",
    "id": "7kYbldzb_ieg"
   },
   "source": [
    "### Training model"
   ]
  },
  {
   "cell_type": "markdown",
   "metadata": {
    "colab_type": "text",
    "id": "Z1xqblPlr4rl"
   },
   "source": [
    "The model is then learned on the `dataset.train` dataset using `model.fit`. A validation dataset (`dataset.validation`) is also used. This dataset is not directly used to optimize the model, and therefore represents new data as you would get when deploying the model.\n",
    "\n",
    "Disgusting these datasets are essential, as a model can easily just memoize what exact input corresponds to a gesture, instead of learning meaningful patterns, this is called [overfitting](https://en.wikipedia.org/wiki/Overfitting). The behavior that we want to prevent is that accuracy on the training dataset keeps increasing, but the accuracy on the validation dataset starts to decrease.\n",
    "\n",
    "The model here is designed to prevent overfitting. However, if you change the model parameters you may encounter these issues. A simple solution is to set the `epochs` (how many times the model sees the same data) to where the model performed the best on the validation dataset.\n",
    "\n",
    "_Note, if you want to see more details set `verbose=1` and consider removing `callbacks=[KerasLivePlot()]`._"
   ]
  },
  {
   "cell_type": "code",
   "execution_count": 9,
   "metadata": {
    "colab": {},
    "colab_type": "code",
    "id": "sjEyVbaw_ZSe"
   },
   "outputs": [
    {
     "data": {
      "text/html": [
       "<style>svg.ar-training-graph {\n",
       "    width: 100%;\n",
       "    shape-rendering: crispEdges;\n",
       "    font-size: 16px;\n",
       "  }\n",
       "\n",
       "  svg.ar-training-graph .tick text {\n",
       "    font-size: 14px;\n",
       "    fill: #505050;\n",
       "  }\n",
       "\n",
       "  svg.ar-training-graph .tick line {\n",
       "    stroke-width: 2;\n",
       "    stroke: #505050;\n",
       "  }\n",
       "\n",
       "  svg.ar-training-graph .background {\n",
       "    fill: #EBEBEB;\n",
       "  }\n",
       "\n",
       "  svg.ar-training-graph .facet {\n",
       "    font-size: 14px;\n",
       "  }\n",
       "\n",
       "  svg.ar-training-graph .facet-background {\n",
       "    fill: #D9D9D9;\n",
       "  }\n",
       "\n",
       "  svg.ar-training-graph path.line {\n",
       "    fill: none;\n",
       "    shape-rendering: geometricPrecision;\n",
       "    stroke-width: 1;\n",
       "  }\n",
       "\n",
       "  svg.ar-training-graph .grid line {\n",
       "    stroke: #fff;\n",
       "    stroke-width: 2;\n",
       "  }\n",
       "\n",
       "  svg.ar-training-graph .grid .minor line {\n",
       "    stroke-opacity: .5;\n",
       "  }\n",
       "\n",
       "  svg.ar-training-graph .grid text {\n",
       "    display: none;\n",
       "  }\n",
       "\n",
       "  svg.ar-training-graph .axis path,\n",
       "  svg.ar-training-graph .grid path {\n",
       "    display: none;\n",
       "  }\n",
       "\n",
       "  svg.ar-training-graph .axis.hide-axis {\n",
       "    display: none;\n",
       "  }\n",
       "\n",
       "  svg.ar-training-graph .legned rect {\n",
       "    fill: #EBEBEB;\n",
       "  }\n",
       "\n",
       "  svg.ar-training-graph .legned line {\n",
       "    stroke-width: 2;\n",
       "  }</style><script src=\"https://d3js.org/d3.v5.min.js\"></script><script>;(function () {\n",
       "  const margin = {top: 10, right: 10, bottom: 10, left: 35}\n",
       "  const facetWidth = 30;\n",
       "  const legendHeight = 40;\n",
       "  const xAxisHeight = 30;\n",
       "  const xLabelHeight = 20;\n",
       "\n",
       "  class SubGraph {\n",
       "    constructor({ container, topName, name, lineSetup, outerWidth, outerHeight, drawXAxis, xlimEpochs, ylimFixed }) {\n",
       "      this.width = outerWidth - facetWidth - margin.left - margin.right;\n",
       "      this.height = outerHeight - margin.top - margin.bottom;\n",
       "      this.xlimEpochs = xlimEpochs;\n",
       "      this.ylimFixed = ylimFixed;\n",
       "\n",
       "      this.lineSetup = lineSetup;\n",
       "      this.container = container;\n",
       "      this.graph = this.container.append('g')\n",
       "        .attr('transform',\n",
       "              'translate(' + margin.left + ',' + margin.top + ')');\n",
       "\n",
       "      this.facet = this.container.append('g')\n",
       "        .classed('facet', true)\n",
       "        .attr('transform', `translate(${margin.left + this.width}, ${margin.top})`);\n",
       "      this.facet.append('rect')\n",
       "        .classed('facet-background', true)\n",
       "        .attr('width', facetWidth)\n",
       "        .attr('height', this.height);\n",
       "      const facetTextPath = this.facet.append('path')\n",
       "        .attr('d', `M10,0 V${this.height}`)\n",
       "        .attr('id', `ar-training-graph-${topName}-${name}-facet-text`);\n",
       "      const facetText = this.facet.append('text')\n",
       "        .append('textPath')\n",
       "        .attr('startOffset', '50%')\n",
       "        .attr('href', `#ar-training-graph-${topName}-${name}-facet-text`)\n",
       "        .attr('text-anchor', 'middle')\n",
       "        .text(name);\n",
       "      facetText.node()\n",
       "        .setAttributeNS('http://www.w3.org/1999/xlink', 'xlink:href', `#ar-training-graph-${topName}-${name}-facet-text`);\n",
       "\n",
       "      // Create background\n",
       "      this.background = this.graph.append(\"rect\")\n",
       "        .attr(\"class\", \"background\")\n",
       "        .attr(\"height\", this.height)\n",
       "        .attr(\"width\", this.width);\n",
       "\n",
       "      // define scales\n",
       "      this.yScale = d3.scaleLinear()\n",
       "        .domain(this.ylimFixed ? this.ylimFixed : [0, 1])\n",
       "        .range([this.height, 0]);\n",
       "\n",
       "      this.xScale = d3.scaleLinear()\n",
       "        .domain(this.xlimEpochs)\n",
       "        .range([0, this.width]);\n",
       "\n",
       "      // create grid\n",
       "      this.xGrid = d3.axisBottom(this.xScale)\n",
       "        .ticks(17)\n",
       "        .tickSize(-this.height);\n",
       "      this.xGridElement = this.graph.append(\"g\")\n",
       "          .attr(\"class\", \"grid\")\n",
       "          .attr(\"transform\", \"translate(0,\" + this.height + \")\");\n",
       "\n",
       "      const xTicksMajors = this.xScale.ticks(4);\n",
       "      this.xGridElement.call(this.xGrid);\n",
       "      this.xGridElement\n",
       "        .selectAll('.tick')\n",
       "        .classed('minor', function (d) {\n",
       "          return !xTicksMajors.includes(d);\n",
       "        })\n",
       "\n",
       "      this.yGrid = d3.axisLeft(this.yScale)\n",
       "        .ticks(8);\n",
       "      this.yGridElement = this.graph.append(\"g\")\n",
       "          .attr(\"class\", \"grid\");\n",
       "\n",
       "      // define axis\n",
       "      this.xAxis = d3.axisBottom(this.xScale)\n",
       "        .ticks(9);\n",
       "      this.xAxisElement = this.graph.append('g')\n",
       "        .attr(\"class\", \"axis\")\n",
       "        .classed('hide-axis', !drawXAxis)\n",
       "        .attr('transform', 'translate(0,' + this.height + ')');\n",
       "\n",
       "      this.yAxis = d3.axisLeft(this.yScale)\n",
       "        .ticks(4);\n",
       "      this.yAxisElement = this.graph.append('g')\n",
       "        .attr(\"class\", \"axis\");\n",
       "      this.xAxisElement.call(this.xAxis);\n",
       "\n",
       "      // Define drawer functions and line elements\n",
       "      this.lineDrawers = [];\n",
       "      this.lineElements = [];\n",
       "      const self = this;\n",
       "      for (let i = 0; i < lineSetup.length; i++) {\n",
       "        const lineDrawer = d3.line()\n",
       "            .x((d) => self.xScale(d.epoch))\n",
       "            .y((d) => this.yScale(d.value));\n",
       "\n",
       "        this.lineDrawers.push(lineDrawer);\n",
       "\n",
       "        const lineElement = this.graph.append('path')\n",
       "            .attr('class', 'line')\n",
       "            .attr('stroke', lineSetup[i].color);\n",
       "\n",
       "        this.lineElements.push(lineElement);\n",
       "      }\n",
       "    }\n",
       "\n",
       "    setData (data) {\n",
       "      // Update domain of scales\n",
       "      let yLimMax = 0;\n",
       "      for (let i = 0; i < this.lineSetup.length; i++) {\n",
       "        const lineData = data[this.lineSetup[i].name];\n",
       "        yLimMax = Math.max(\n",
       "          yLimMax,\n",
       "          d3.max(lineData.map((d) => d.value))\n",
       "        );\n",
       "\n",
       "        this.lineElements[i].data([lineData]);\n",
       "      }\n",
       "\n",
       "      if (this.ylimFixed === null) {\n",
       "        this.yScale.domain([-0.05*yLimMax, 1.05*yLimMax]);\n",
       "      }\n",
       "    }\n",
       "\n",
       "    draw() {\n",
       "      // update grid\n",
       "      this.yGrid.tickSize(-this.width);\n",
       "      const yTicksMajors = this.yScale.ticks(4);\n",
       "      this.yGridElement.call(this.yGrid);\n",
       "      this.yGridElement\n",
       "        .selectAll('.tick')\n",
       "        .classed('minor', function (d) {\n",
       "          return !yTicksMajors.includes(d);\n",
       "        })\n",
       "\n",
       "      // update axis\n",
       "      this.yAxisElement.call(this.yAxis);\n",
       "\n",
       "      // update lines\n",
       "      for (let i = 0; i < this.lineSetup.length; i++) {\n",
       "        this.lineElements[i].attr('d', this.lineDrawers[i]);\n",
       "      }\n",
       "    }\n",
       "  }\n",
       "\n",
       "  class TrainingGraph {\n",
       "    constructor({ container, name, height, width, epochs }) {\n",
       "      const lineSetup = [\n",
       "        {name: 'Train', color: \"#F8766D\"},\n",
       "        {name: 'Validation', color: \"#00BFC4\"}\n",
       "      ];\n",
       "\n",
       "      const graphHeight = (height - legendHeight - xLabelHeight - xAxisHeight) / 2;\n",
       "      const innerWidth = width - margin.left - margin.right - facetWidth;\n",
       "\n",
       "      this._container = d3.select(container)\n",
       "        .classed('ar-training-graph', true)\n",
       "        .attr('height', height)\n",
       "        .attr('xmlns:xlink', 'http://www.w3.org/1999/xlink');\n",
       "\n",
       "      this._accuracy = new SubGraph({\n",
       "        container: this._container.append('g'),\n",
       "        topName: name,\n",
       "        name: 'accuracy',\n",
       "        lineSetup: lineSetup,\n",
       "        outerHeight: graphHeight,\n",
       "        outerWidth: width,\n",
       "        drawXAxis: false,\n",
       "        xlimEpochs: [-0.01*epochs, 1.01*epochs],\n",
       "        ylimFixed: [-5, 105]\n",
       "      });\n",
       "      this._loss = new SubGraph({\n",
       "        container: this._container.append('g')\n",
       "          .attr('transform', `translate(0, ${graphHeight})`),\n",
       "        topName: name,\n",
       "        name: 'loss',\n",
       "        lineSetup: lineSetup,\n",
       "        outerHeight: graphHeight,\n",
       "        outerWidth: width,\n",
       "        drawXAxis: true,\n",
       "        xlimEpochs: [-0.01*epochs, 1.01*epochs],\n",
       "        ylimFixed: null\n",
       "      });\n",
       "\n",
       "      this._labels = this._container\n",
       "        .append('g')\n",
       "        .attr('transform', `translate(0, ${margin.top})`);\n",
       "\n",
       "      const combinedOuterHeight = height - legendHeight;\n",
       "      this._xLabel = this._labels.append('text')\n",
       "        .attr('text-anchor', 'middle')\n",
       "        .attr('x', innerWidth / 2 + margin.left)\n",
       "        .attr('y', combinedOuterHeight - xAxisHeight)\n",
       "        .text('epoch');\n",
       "\n",
       "      this._legend = this._container\n",
       "        .append('g')\n",
       "        .classed('legned', true)\n",
       "        .attr('transform', `translate(${margin.left}, ${combinedOuterHeight})`);\n",
       "      this._legendOfsset = this._legend.append('g');\n",
       "\n",
       "      let currentOffset = 0;\n",
       "      for (const {name, color} of lineSetup) {\n",
       "        this._legendOfsset.append('rect')\n",
       "          .attr('width', 25)\n",
       "          .attr('height', 25)\n",
       "          .attr('x', currentOffset);\n",
       "        this._legendOfsset.append('line')\n",
       "          .attr('x1', currentOffset + 2)\n",
       "          .attr('x2', currentOffset + 25 - 2)\n",
       "          .attr('y1', 25/2)\n",
       "          .attr('y2', 25/2)\n",
       "          .attr('stroke', color);\n",
       "\n",
       "        const textNode = this._legendOfsset.append('text')\n",
       "          .attr('x', currentOffset + 30)\n",
       "          .attr('y', 19)\n",
       "          .text(name);\n",
       "        const textWidth = textNode.node().getComputedTextLength();\n",
       "        currentOffset += 30 + textWidth + 20;\n",
       "      }\n",
       "      this._legendWidth = currentOffset - 20;\n",
       "\n",
       "      this._legendOfsset\n",
       "        .attr('transform', `translate(${(innerWidth - this._legendWidth) / 2}, 0)`);\n",
       "    }\n",
       "\n",
       "    getGraphWidth () {\n",
       "      return this.width;\n",
       "    }\n",
       "\n",
       "    setData(data) {\n",
       "      this._accuracy.setData(data.accuracy);\n",
       "      this._loss.setData(data.loss);\n",
       "    }\n",
       "\n",
       "    draw() {\n",
       "      this._accuracy.draw();\n",
       "      this._loss.draw();\n",
       "    }\n",
       "  }\n",
       "\n",
       "  class TrainingData {\n",
       "    constructor() {\n",
       "      this.accuracy = {\n",
       "        'Train': [],\n",
       "        'Validation': []\n",
       "      };\n",
       "      this.loss = {\n",
       "        'Train': [],\n",
       "        'Validation': []\n",
       "      };\n",
       "    }\n",
       "\n",
       "    append(row) {\n",
       "      this.accuracy['Train'].push({\n",
       "        epoch: row.epoch, value: row['train.accuracy']\n",
       "      })\n",
       "      this.accuracy['Validation'].push({\n",
       "        epoch: row.epoch, value: row['validation.accuracy']\n",
       "      })\n",
       "      this.loss['Train'].push({\n",
       "        epoch: row.epoch, value: row['train.loss']\n",
       "      })\n",
       "      this.loss['Validation'].push({\n",
       "        epoch: row.epoch, value: row['validation.loss']\n",
       "      })\n",
       "    }\n",
       "  }\n",
       "\n",
       "  window.setupLearningGraph = function ({id, epochs, height, width}) {\n",
       "    const data = new TrainingData();\n",
       "    const graph = new TrainingGraph({\n",
       "      container: document.getElementById(id),\n",
       "      name: id,\n",
       "      epochs: epochs,\n",
       "      height: height,\n",
       "      width: width\n",
       "    });\n",
       "\n",
       "    let waitingForDrawing = false;\n",
       "    function drawer() {\n",
       "      waitingForDrawing = false;\n",
       "      graph.setData(data);\n",
       "      graph.draw();\n",
       "    }\n",
       "\n",
       "    window.appendLearningGraphData = function(rows) {\n",
       "      for (const row of rows) {\n",
       "        data.append({\n",
       "          epoch: +row.epoch,\n",
       "          'train.accuracy': +row['sparse_categorical_accuracy'] * 100,\n",
       "          'validation.accuracy': +row['val_sparse_categorical_accuracy'] * 100,\n",
       "          'train.loss': +row['loss'],\n",
       "          'validation.loss': +row['val_loss']\n",
       "        });\n",
       "      }\n",
       "\n",
       "      if (!waitingForDrawing) {\n",
       "        waitingForDrawing = true;\n",
       "        window.requestAnimationFrame(drawer);\n",
       "      }\n",
       "    };\n",
       "  };\n",
       "})();</script><svg id=\"df89d6b8-c95b-4f94-b917-45ed00d70b09\"></svg><script> window.setupLearningGraph({  id: \"df89d6b8-c95b-4f94-b917-45ed00d70b09\",  epochs: 200,  height: 400,  width: 600 });</script>"
      ],
      "text/plain": [
       "<IPython.core.display.HTML object>"
      ]
     },
     "metadata": {},
     "output_type": "display_data"
    },
    {
     "data": {
      "application/javascript": [
       "window.appendLearningGraphData([{\"loss\": 0.0, \"sparse_categorical_accuracy\": 1.0, \"val_loss\": 0.0, \"val_sparse_categorical_accuracy\": 1.0, \"epoch\": 0}])"
      ],
      "text/plain": [
       "<IPython.core.display.Javascript object>"
      ]
     },
     "metadata": {},
     "output_type": "display_data"
    },
    {
     "data": {
      "application/javascript": [
       "window.appendLearningGraphData([{\"loss\": 0.0, \"sparse_categorical_accuracy\": 1.0, \"val_loss\": 0.0, \"val_sparse_categorical_accuracy\": 1.0, \"epoch\": 1}, {\"loss\": 0.0, \"sparse_categorical_accuracy\": 1.0, \"val_loss\": 0.0, \"val_sparse_categorical_accuracy\": 1.0, \"epoch\": 2}, {\"loss\": 0.0, \"sparse_categorical_accuracy\": 1.0, \"val_loss\": 0.0, \"val_sparse_categorical_accuracy\": 1.0, \"epoch\": 3}, {\"loss\": 0.0, \"sparse_categorical_accuracy\": 1.0, \"val_loss\": 0.0, \"val_sparse_categorical_accuracy\": 1.0, \"epoch\": 4}, {\"loss\": 0.0, \"sparse_categorical_accuracy\": 1.0, \"val_loss\": 0.0, \"val_sparse_categorical_accuracy\": 1.0, \"epoch\": 5}])"
      ],
      "text/plain": [
       "<IPython.core.display.Javascript object>"
      ]
     },
     "metadata": {},
     "output_type": "display_data"
    },
    {
     "data": {
      "application/javascript": [
       "window.appendLearningGraphData([{\"loss\": 0.0, \"sparse_categorical_accuracy\": 1.0, \"val_loss\": 0.0, \"val_sparse_categorical_accuracy\": 1.0, \"epoch\": 6}, {\"loss\": 0.0, \"sparse_categorical_accuracy\": 1.0, \"val_loss\": 0.0, \"val_sparse_categorical_accuracy\": 1.0, \"epoch\": 7}, {\"loss\": 0.0, \"sparse_categorical_accuracy\": 1.0, \"val_loss\": 0.0, \"val_sparse_categorical_accuracy\": 1.0, \"epoch\": 8}, {\"loss\": 0.0, \"sparse_categorical_accuracy\": 1.0, \"val_loss\": 0.0, \"val_sparse_categorical_accuracy\": 1.0, \"epoch\": 9}, {\"loss\": 0.0, \"sparse_categorical_accuracy\": 1.0, \"val_loss\": 0.0, \"val_sparse_categorical_accuracy\": 1.0, \"epoch\": 10}])"
      ],
      "text/plain": [
       "<IPython.core.display.Javascript object>"
      ]
     },
     "metadata": {},
     "output_type": "display_data"
    },
    {
     "data": {
      "application/javascript": [
       "window.appendLearningGraphData([{\"loss\": 0.0, \"sparse_categorical_accuracy\": 1.0, \"val_loss\": 0.0, \"val_sparse_categorical_accuracy\": 1.0, \"epoch\": 11}, {\"loss\": 0.0, \"sparse_categorical_accuracy\": 1.0, \"val_loss\": 0.0, \"val_sparse_categorical_accuracy\": 1.0, \"epoch\": 12}, {\"loss\": 0.0, \"sparse_categorical_accuracy\": 1.0, \"val_loss\": 0.0, \"val_sparse_categorical_accuracy\": 1.0, \"epoch\": 13}, {\"loss\": 0.0, \"sparse_categorical_accuracy\": 1.0, \"val_loss\": 0.0, \"val_sparse_categorical_accuracy\": 1.0, \"epoch\": 14}, {\"loss\": 0.0, \"sparse_categorical_accuracy\": 1.0, \"val_loss\": 0.0, \"val_sparse_categorical_accuracy\": 1.0, \"epoch\": 15}])"
      ],
      "text/plain": [
       "<IPython.core.display.Javascript object>"
      ]
     },
     "metadata": {},
     "output_type": "display_data"
    },
    {
     "data": {
      "application/javascript": [
       "window.appendLearningGraphData([{\"loss\": 0.0, \"sparse_categorical_accuracy\": 1.0, \"val_loss\": 0.0, \"val_sparse_categorical_accuracy\": 1.0, \"epoch\": 16}, {\"loss\": 0.0, \"sparse_categorical_accuracy\": 1.0, \"val_loss\": 0.0, \"val_sparse_categorical_accuracy\": 1.0, \"epoch\": 17}, {\"loss\": 0.0, \"sparse_categorical_accuracy\": 1.0, \"val_loss\": 0.0, \"val_sparse_categorical_accuracy\": 1.0, \"epoch\": 18}, {\"loss\": 0.0, \"sparse_categorical_accuracy\": 1.0, \"val_loss\": 0.0, \"val_sparse_categorical_accuracy\": 1.0, \"epoch\": 19}, {\"loss\": 0.0, \"sparse_categorical_accuracy\": 1.0, \"val_loss\": 0.0, \"val_sparse_categorical_accuracy\": 1.0, \"epoch\": 20}])"
      ],
      "text/plain": [
       "<IPython.core.display.Javascript object>"
      ]
     },
     "metadata": {},
     "output_type": "display_data"
    },
    {
     "data": {
      "application/javascript": [
       "window.appendLearningGraphData([{\"loss\": 0.0, \"sparse_categorical_accuracy\": 1.0, \"val_loss\": 0.0, \"val_sparse_categorical_accuracy\": 1.0, \"epoch\": 21}, {\"loss\": 0.0, \"sparse_categorical_accuracy\": 1.0, \"val_loss\": 0.0, \"val_sparse_categorical_accuracy\": 1.0, \"epoch\": 22}, {\"loss\": 0.0, \"sparse_categorical_accuracy\": 1.0, \"val_loss\": 0.0, \"val_sparse_categorical_accuracy\": 1.0, \"epoch\": 23}, {\"loss\": 0.0, \"sparse_categorical_accuracy\": 1.0, \"val_loss\": 0.0, \"val_sparse_categorical_accuracy\": 1.0, \"epoch\": 24}, {\"loss\": 0.0, \"sparse_categorical_accuracy\": 1.0, \"val_loss\": 0.0, \"val_sparse_categorical_accuracy\": 1.0, \"epoch\": 25}])"
      ],
      "text/plain": [
       "<IPython.core.display.Javascript object>"
      ]
     },
     "metadata": {},
     "output_type": "display_data"
    },
    {
     "data": {
      "application/javascript": [
       "window.appendLearningGraphData([{\"loss\": 0.0, \"sparse_categorical_accuracy\": 1.0, \"val_loss\": 0.0, \"val_sparse_categorical_accuracy\": 1.0, \"epoch\": 26}, {\"loss\": 0.0, \"sparse_categorical_accuracy\": 1.0, \"val_loss\": 0.0, \"val_sparse_categorical_accuracy\": 1.0, \"epoch\": 27}, {\"loss\": 0.0, \"sparse_categorical_accuracy\": 1.0, \"val_loss\": 0.0, \"val_sparse_categorical_accuracy\": 1.0, \"epoch\": 28}, {\"loss\": 0.0, \"sparse_categorical_accuracy\": 1.0, \"val_loss\": 0.0, \"val_sparse_categorical_accuracy\": 1.0, \"epoch\": 29}, {\"loss\": 0.0, \"sparse_categorical_accuracy\": 1.0, \"val_loss\": 0.0, \"val_sparse_categorical_accuracy\": 1.0, \"epoch\": 30}])"
      ],
      "text/plain": [
       "<IPython.core.display.Javascript object>"
      ]
     },
     "metadata": {},
     "output_type": "display_data"
    },
    {
     "data": {
      "application/javascript": [
       "window.appendLearningGraphData([{\"loss\": 0.0, \"sparse_categorical_accuracy\": 1.0, \"val_loss\": 0.0, \"val_sparse_categorical_accuracy\": 1.0, \"epoch\": 31}, {\"loss\": 0.0, \"sparse_categorical_accuracy\": 1.0, \"val_loss\": 0.0, \"val_sparse_categorical_accuracy\": 1.0, \"epoch\": 32}, {\"loss\": 0.0, \"sparse_categorical_accuracy\": 1.0, \"val_loss\": 0.0, \"val_sparse_categorical_accuracy\": 1.0, \"epoch\": 33}, {\"loss\": 0.0, \"sparse_categorical_accuracy\": 1.0, \"val_loss\": 0.0, \"val_sparse_categorical_accuracy\": 1.0, \"epoch\": 34}, {\"loss\": 0.0, \"sparse_categorical_accuracy\": 1.0, \"val_loss\": 0.0, \"val_sparse_categorical_accuracy\": 1.0, \"epoch\": 35}])"
      ],
      "text/plain": [
       "<IPython.core.display.Javascript object>"
      ]
     },
     "metadata": {},
     "output_type": "display_data"
    },
    {
     "data": {
      "application/javascript": [
       "window.appendLearningGraphData([{\"loss\": 0.0, \"sparse_categorical_accuracy\": 1.0, \"val_loss\": 0.0, \"val_sparse_categorical_accuracy\": 1.0, \"epoch\": 36}, {\"loss\": 0.0, \"sparse_categorical_accuracy\": 1.0, \"val_loss\": 0.0, \"val_sparse_categorical_accuracy\": 1.0, \"epoch\": 37}, {\"loss\": 0.0, \"sparse_categorical_accuracy\": 1.0, \"val_loss\": 0.0, \"val_sparse_categorical_accuracy\": 1.0, \"epoch\": 38}, {\"loss\": 0.0, \"sparse_categorical_accuracy\": 1.0, \"val_loss\": 0.0, \"val_sparse_categorical_accuracy\": 1.0, \"epoch\": 39}, {\"loss\": 0.0, \"sparse_categorical_accuracy\": 1.0, \"val_loss\": 0.0, \"val_sparse_categorical_accuracy\": 1.0, \"epoch\": 40}])"
      ],
      "text/plain": [
       "<IPython.core.display.Javascript object>"
      ]
     },
     "metadata": {},
     "output_type": "display_data"
    },
    {
     "data": {
      "application/javascript": [
       "window.appendLearningGraphData([{\"loss\": 0.0, \"sparse_categorical_accuracy\": 1.0, \"val_loss\": 0.0, \"val_sparse_categorical_accuracy\": 1.0, \"epoch\": 41}, {\"loss\": 0.0, \"sparse_categorical_accuracy\": 1.0, \"val_loss\": 0.0, \"val_sparse_categorical_accuracy\": 1.0, \"epoch\": 42}, {\"loss\": 0.0, \"sparse_categorical_accuracy\": 1.0, \"val_loss\": 0.0, \"val_sparse_categorical_accuracy\": 1.0, \"epoch\": 43}, {\"loss\": 0.0, \"sparse_categorical_accuracy\": 1.0, \"val_loss\": 0.0, \"val_sparse_categorical_accuracy\": 1.0, \"epoch\": 44}, {\"loss\": 0.0, \"sparse_categorical_accuracy\": 1.0, \"val_loss\": 0.0, \"val_sparse_categorical_accuracy\": 1.0, \"epoch\": 45}])"
      ],
      "text/plain": [
       "<IPython.core.display.Javascript object>"
      ]
     },
     "metadata": {},
     "output_type": "display_data"
    },
    {
     "data": {
      "application/javascript": [
       "window.appendLearningGraphData([{\"loss\": 0.0, \"sparse_categorical_accuracy\": 1.0, \"val_loss\": 0.0, \"val_sparse_categorical_accuracy\": 1.0, \"epoch\": 46}, {\"loss\": 0.0, \"sparse_categorical_accuracy\": 1.0, \"val_loss\": 0.0, \"val_sparse_categorical_accuracy\": 1.0, \"epoch\": 47}, {\"loss\": 0.0, \"sparse_categorical_accuracy\": 1.0, \"val_loss\": 0.0, \"val_sparse_categorical_accuracy\": 1.0, \"epoch\": 48}, {\"loss\": 0.0, \"sparse_categorical_accuracy\": 1.0, \"val_loss\": 0.0, \"val_sparse_categorical_accuracy\": 1.0, \"epoch\": 49}, {\"loss\": 0.0, \"sparse_categorical_accuracy\": 1.0, \"val_loss\": 0.0, \"val_sparse_categorical_accuracy\": 1.0, \"epoch\": 50}])"
      ],
      "text/plain": [
       "<IPython.core.display.Javascript object>"
      ]
     },
     "metadata": {},
     "output_type": "display_data"
    },
    {
     "data": {
      "application/javascript": [
       "window.appendLearningGraphData([{\"loss\": 0.0, \"sparse_categorical_accuracy\": 1.0, \"val_loss\": 0.0, \"val_sparse_categorical_accuracy\": 1.0, \"epoch\": 51}, {\"loss\": 0.0, \"sparse_categorical_accuracy\": 1.0, \"val_loss\": 0.0, \"val_sparse_categorical_accuracy\": 1.0, \"epoch\": 52}, {\"loss\": 0.0, \"sparse_categorical_accuracy\": 1.0, \"val_loss\": 0.0, \"val_sparse_categorical_accuracy\": 1.0, \"epoch\": 53}, {\"loss\": 0.0, \"sparse_categorical_accuracy\": 1.0, \"val_loss\": 0.0, \"val_sparse_categorical_accuracy\": 1.0, \"epoch\": 54}, {\"loss\": 0.0, \"sparse_categorical_accuracy\": 1.0, \"val_loss\": 0.0, \"val_sparse_categorical_accuracy\": 1.0, \"epoch\": 55}])"
      ],
      "text/plain": [
       "<IPython.core.display.Javascript object>"
      ]
     },
     "metadata": {},
     "output_type": "display_data"
    },
    {
     "data": {
      "application/javascript": [
       "window.appendLearningGraphData([{\"loss\": 0.0, \"sparse_categorical_accuracy\": 1.0, \"val_loss\": 0.0, \"val_sparse_categorical_accuracy\": 1.0, \"epoch\": 56}, {\"loss\": 0.0, \"sparse_categorical_accuracy\": 1.0, \"val_loss\": 0.0, \"val_sparse_categorical_accuracy\": 1.0, \"epoch\": 57}, {\"loss\": 0.0, \"sparse_categorical_accuracy\": 1.0, \"val_loss\": 0.0, \"val_sparse_categorical_accuracy\": 1.0, \"epoch\": 58}, {\"loss\": 0.0, \"sparse_categorical_accuracy\": 1.0, \"val_loss\": 0.0, \"val_sparse_categorical_accuracy\": 1.0, \"epoch\": 59}, {\"loss\": 0.0, \"sparse_categorical_accuracy\": 1.0, \"val_loss\": 0.0, \"val_sparse_categorical_accuracy\": 1.0, \"epoch\": 60}])"
      ],
      "text/plain": [
       "<IPython.core.display.Javascript object>"
      ]
     },
     "metadata": {},
     "output_type": "display_data"
    },
    {
     "data": {
      "application/javascript": [
       "window.appendLearningGraphData([{\"loss\": 0.0, \"sparse_categorical_accuracy\": 1.0, \"val_loss\": 0.0, \"val_sparse_categorical_accuracy\": 1.0, \"epoch\": 61}, {\"loss\": 0.0, \"sparse_categorical_accuracy\": 1.0, \"val_loss\": 0.0, \"val_sparse_categorical_accuracy\": 1.0, \"epoch\": 62}, {\"loss\": 0.0, \"sparse_categorical_accuracy\": 1.0, \"val_loss\": 0.0, \"val_sparse_categorical_accuracy\": 1.0, \"epoch\": 63}, {\"loss\": 0.0, \"sparse_categorical_accuracy\": 1.0, \"val_loss\": 0.0, \"val_sparse_categorical_accuracy\": 1.0, \"epoch\": 64}, {\"loss\": 0.0, \"sparse_categorical_accuracy\": 1.0, \"val_loss\": 0.0, \"val_sparse_categorical_accuracy\": 1.0, \"epoch\": 65}])"
      ],
      "text/plain": [
       "<IPython.core.display.Javascript object>"
      ]
     },
     "metadata": {},
     "output_type": "display_data"
    },
    {
     "data": {
      "application/javascript": [
       "window.appendLearningGraphData([{\"loss\": 0.0, \"sparse_categorical_accuracy\": 1.0, \"val_loss\": 0.0, \"val_sparse_categorical_accuracy\": 1.0, \"epoch\": 66}, {\"loss\": 0.0, \"sparse_categorical_accuracy\": 1.0, \"val_loss\": 0.0, \"val_sparse_categorical_accuracy\": 1.0, \"epoch\": 67}, {\"loss\": 0.0, \"sparse_categorical_accuracy\": 1.0, \"val_loss\": 0.0, \"val_sparse_categorical_accuracy\": 1.0, \"epoch\": 68}, {\"loss\": 0.0, \"sparse_categorical_accuracy\": 1.0, \"val_loss\": 0.0, \"val_sparse_categorical_accuracy\": 1.0, \"epoch\": 69}, {\"loss\": 0.0, \"sparse_categorical_accuracy\": 1.0, \"val_loss\": 0.0, \"val_sparse_categorical_accuracy\": 1.0, \"epoch\": 70}])"
      ],
      "text/plain": [
       "<IPython.core.display.Javascript object>"
      ]
     },
     "metadata": {},
     "output_type": "display_data"
    },
    {
     "data": {
      "application/javascript": [
       "window.appendLearningGraphData([{\"loss\": 0.0, \"sparse_categorical_accuracy\": 1.0, \"val_loss\": 0.0, \"val_sparse_categorical_accuracy\": 1.0, \"epoch\": 71}, {\"loss\": 0.0, \"sparse_categorical_accuracy\": 1.0, \"val_loss\": 0.0, \"val_sparse_categorical_accuracy\": 1.0, \"epoch\": 72}, {\"loss\": 0.0, \"sparse_categorical_accuracy\": 1.0, \"val_loss\": 0.0, \"val_sparse_categorical_accuracy\": 1.0, \"epoch\": 73}, {\"loss\": 0.0, \"sparse_categorical_accuracy\": 1.0, \"val_loss\": 0.0, \"val_sparse_categorical_accuracy\": 1.0, \"epoch\": 74}, {\"loss\": 0.0, \"sparse_categorical_accuracy\": 1.0, \"val_loss\": 0.0, \"val_sparse_categorical_accuracy\": 1.0, \"epoch\": 75}])"
      ],
      "text/plain": [
       "<IPython.core.display.Javascript object>"
      ]
     },
     "metadata": {},
     "output_type": "display_data"
    },
    {
     "data": {
      "application/javascript": [
       "window.appendLearningGraphData([{\"loss\": 0.0, \"sparse_categorical_accuracy\": 1.0, \"val_loss\": 0.0, \"val_sparse_categorical_accuracy\": 1.0, \"epoch\": 76}, {\"loss\": 0.0, \"sparse_categorical_accuracy\": 1.0, \"val_loss\": 0.0, \"val_sparse_categorical_accuracy\": 1.0, \"epoch\": 77}, {\"loss\": 0.0, \"sparse_categorical_accuracy\": 1.0, \"val_loss\": 0.0, \"val_sparse_categorical_accuracy\": 1.0, \"epoch\": 78}, {\"loss\": 0.0, \"sparse_categorical_accuracy\": 1.0, \"val_loss\": 0.0, \"val_sparse_categorical_accuracy\": 1.0, \"epoch\": 79}, {\"loss\": 0.0, \"sparse_categorical_accuracy\": 1.0, \"val_loss\": 0.0, \"val_sparse_categorical_accuracy\": 1.0, \"epoch\": 80}])"
      ],
      "text/plain": [
       "<IPython.core.display.Javascript object>"
      ]
     },
     "metadata": {},
     "output_type": "display_data"
    },
    {
     "data": {
      "application/javascript": [
       "window.appendLearningGraphData([{\"loss\": 0.0, \"sparse_categorical_accuracy\": 1.0, \"val_loss\": 0.0, \"val_sparse_categorical_accuracy\": 1.0, \"epoch\": 81}, {\"loss\": 0.0, \"sparse_categorical_accuracy\": 1.0, \"val_loss\": 0.0, \"val_sparse_categorical_accuracy\": 1.0, \"epoch\": 82}, {\"loss\": 0.0, \"sparse_categorical_accuracy\": 1.0, \"val_loss\": 0.0, \"val_sparse_categorical_accuracy\": 1.0, \"epoch\": 83}, {\"loss\": 0.0, \"sparse_categorical_accuracy\": 1.0, \"val_loss\": 0.0, \"val_sparse_categorical_accuracy\": 1.0, \"epoch\": 84}, {\"loss\": 0.0, \"sparse_categorical_accuracy\": 1.0, \"val_loss\": 0.0, \"val_sparse_categorical_accuracy\": 1.0, \"epoch\": 85}])"
      ],
      "text/plain": [
       "<IPython.core.display.Javascript object>"
      ]
     },
     "metadata": {},
     "output_type": "display_data"
    },
    {
     "data": {
      "application/javascript": [
       "window.appendLearningGraphData([{\"loss\": 0.0, \"sparse_categorical_accuracy\": 1.0, \"val_loss\": 0.0, \"val_sparse_categorical_accuracy\": 1.0, \"epoch\": 86}, {\"loss\": 0.0, \"sparse_categorical_accuracy\": 1.0, \"val_loss\": 0.0, \"val_sparse_categorical_accuracy\": 1.0, \"epoch\": 87}, {\"loss\": 0.0, \"sparse_categorical_accuracy\": 1.0, \"val_loss\": 0.0, \"val_sparse_categorical_accuracy\": 1.0, \"epoch\": 88}, {\"loss\": 0.0, \"sparse_categorical_accuracy\": 1.0, \"val_loss\": 0.0, \"val_sparse_categorical_accuracy\": 1.0, \"epoch\": 89}, {\"loss\": 0.0, \"sparse_categorical_accuracy\": 1.0, \"val_loss\": 0.0, \"val_sparse_categorical_accuracy\": 1.0, \"epoch\": 90}])"
      ],
      "text/plain": [
       "<IPython.core.display.Javascript object>"
      ]
     },
     "metadata": {},
     "output_type": "display_data"
    },
    {
     "data": {
      "application/javascript": [
       "window.appendLearningGraphData([{\"loss\": 0.0, \"sparse_categorical_accuracy\": 1.0, \"val_loss\": 0.0, \"val_sparse_categorical_accuracy\": 1.0, \"epoch\": 91}, {\"loss\": 0.0, \"sparse_categorical_accuracy\": 1.0, \"val_loss\": 0.0, \"val_sparse_categorical_accuracy\": 1.0, \"epoch\": 92}, {\"loss\": 0.0, \"sparse_categorical_accuracy\": 1.0, \"val_loss\": 0.0, \"val_sparse_categorical_accuracy\": 1.0, \"epoch\": 93}, {\"loss\": 0.0, \"sparse_categorical_accuracy\": 1.0, \"val_loss\": 0.0, \"val_sparse_categorical_accuracy\": 1.0, \"epoch\": 94}, {\"loss\": 0.0, \"sparse_categorical_accuracy\": 1.0, \"val_loss\": 0.0, \"val_sparse_categorical_accuracy\": 1.0, \"epoch\": 95}])"
      ],
      "text/plain": [
       "<IPython.core.display.Javascript object>"
      ]
     },
     "metadata": {},
     "output_type": "display_data"
    },
    {
     "data": {
      "application/javascript": [
       "window.appendLearningGraphData([{\"loss\": 0.0, \"sparse_categorical_accuracy\": 1.0, \"val_loss\": 0.0, \"val_sparse_categorical_accuracy\": 1.0, \"epoch\": 96}, {\"loss\": 0.0, \"sparse_categorical_accuracy\": 1.0, \"val_loss\": 0.0, \"val_sparse_categorical_accuracy\": 1.0, \"epoch\": 97}, {\"loss\": 0.0, \"sparse_categorical_accuracy\": 1.0, \"val_loss\": 0.0, \"val_sparse_categorical_accuracy\": 1.0, \"epoch\": 98}, {\"loss\": 0.0, \"sparse_categorical_accuracy\": 1.0, \"val_loss\": 0.0, \"val_sparse_categorical_accuracy\": 1.0, \"epoch\": 99}, {\"loss\": 0.0, \"sparse_categorical_accuracy\": 1.0, \"val_loss\": 0.0, \"val_sparse_categorical_accuracy\": 1.0, \"epoch\": 100}])"
      ],
      "text/plain": [
       "<IPython.core.display.Javascript object>"
      ]
     },
     "metadata": {},
     "output_type": "display_data"
    },
    {
     "data": {
      "application/javascript": [
       "window.appendLearningGraphData([{\"loss\": 0.0, \"sparse_categorical_accuracy\": 1.0, \"val_loss\": 0.0, \"val_sparse_categorical_accuracy\": 1.0, \"epoch\": 101}, {\"loss\": 0.0, \"sparse_categorical_accuracy\": 1.0, \"val_loss\": 0.0, \"val_sparse_categorical_accuracy\": 1.0, \"epoch\": 102}, {\"loss\": 0.0, \"sparse_categorical_accuracy\": 1.0, \"val_loss\": 0.0, \"val_sparse_categorical_accuracy\": 1.0, \"epoch\": 103}, {\"loss\": 0.0, \"sparse_categorical_accuracy\": 1.0, \"val_loss\": 0.0, \"val_sparse_categorical_accuracy\": 1.0, \"epoch\": 104}, {\"loss\": 0.0, \"sparse_categorical_accuracy\": 1.0, \"val_loss\": 0.0, \"val_sparse_categorical_accuracy\": 1.0, \"epoch\": 105}])"
      ],
      "text/plain": [
       "<IPython.core.display.Javascript object>"
      ]
     },
     "metadata": {},
     "output_type": "display_data"
    },
    {
     "data": {
      "application/javascript": [
       "window.appendLearningGraphData([{\"loss\": 0.0, \"sparse_categorical_accuracy\": 1.0, \"val_loss\": 0.0, \"val_sparse_categorical_accuracy\": 1.0, \"epoch\": 106}, {\"loss\": 0.0, \"sparse_categorical_accuracy\": 1.0, \"val_loss\": 0.0, \"val_sparse_categorical_accuracy\": 1.0, \"epoch\": 107}, {\"loss\": 0.0, \"sparse_categorical_accuracy\": 1.0, \"val_loss\": 0.0, \"val_sparse_categorical_accuracy\": 1.0, \"epoch\": 108}, {\"loss\": 0.0, \"sparse_categorical_accuracy\": 1.0, \"val_loss\": 0.0, \"val_sparse_categorical_accuracy\": 1.0, \"epoch\": 109}, {\"loss\": 0.0, \"sparse_categorical_accuracy\": 1.0, \"val_loss\": 0.0, \"val_sparse_categorical_accuracy\": 1.0, \"epoch\": 110}])"
      ],
      "text/plain": [
       "<IPython.core.display.Javascript object>"
      ]
     },
     "metadata": {},
     "output_type": "display_data"
    },
    {
     "data": {
      "application/javascript": [
       "window.appendLearningGraphData([{\"loss\": 0.0, \"sparse_categorical_accuracy\": 1.0, \"val_loss\": 0.0, \"val_sparse_categorical_accuracy\": 1.0, \"epoch\": 111}, {\"loss\": 0.0, \"sparse_categorical_accuracy\": 1.0, \"val_loss\": 0.0, \"val_sparse_categorical_accuracy\": 1.0, \"epoch\": 112}, {\"loss\": 0.0, \"sparse_categorical_accuracy\": 1.0, \"val_loss\": 0.0, \"val_sparse_categorical_accuracy\": 1.0, \"epoch\": 113}, {\"loss\": 0.0, \"sparse_categorical_accuracy\": 1.0, \"val_loss\": 0.0, \"val_sparse_categorical_accuracy\": 1.0, \"epoch\": 114}, {\"loss\": 0.0, \"sparse_categorical_accuracy\": 1.0, \"val_loss\": 0.0, \"val_sparse_categorical_accuracy\": 1.0, \"epoch\": 115}])"
      ],
      "text/plain": [
       "<IPython.core.display.Javascript object>"
      ]
     },
     "metadata": {},
     "output_type": "display_data"
    },
    {
     "data": {
      "application/javascript": [
       "window.appendLearningGraphData([{\"loss\": 0.0, \"sparse_categorical_accuracy\": 1.0, \"val_loss\": 0.0, \"val_sparse_categorical_accuracy\": 1.0, \"epoch\": 116}, {\"loss\": 0.0, \"sparse_categorical_accuracy\": 1.0, \"val_loss\": 0.0, \"val_sparse_categorical_accuracy\": 1.0, \"epoch\": 117}, {\"loss\": 0.0, \"sparse_categorical_accuracy\": 1.0, \"val_loss\": 0.0, \"val_sparse_categorical_accuracy\": 1.0, \"epoch\": 118}, {\"loss\": 0.0, \"sparse_categorical_accuracy\": 1.0, \"val_loss\": 0.0, \"val_sparse_categorical_accuracy\": 1.0, \"epoch\": 119}, {\"loss\": 0.0, \"sparse_categorical_accuracy\": 1.0, \"val_loss\": 0.0, \"val_sparse_categorical_accuracy\": 1.0, \"epoch\": 120}])"
      ],
      "text/plain": [
       "<IPython.core.display.Javascript object>"
      ]
     },
     "metadata": {},
     "output_type": "display_data"
    },
    {
     "data": {
      "application/javascript": [
       "window.appendLearningGraphData([{\"loss\": 0.0, \"sparse_categorical_accuracy\": 1.0, \"val_loss\": 0.0, \"val_sparse_categorical_accuracy\": 1.0, \"epoch\": 121}, {\"loss\": 0.0, \"sparse_categorical_accuracy\": 1.0, \"val_loss\": 0.0, \"val_sparse_categorical_accuracy\": 1.0, \"epoch\": 122}, {\"loss\": 0.0, \"sparse_categorical_accuracy\": 1.0, \"val_loss\": 0.0, \"val_sparse_categorical_accuracy\": 1.0, \"epoch\": 123}, {\"loss\": 0.0, \"sparse_categorical_accuracy\": 1.0, \"val_loss\": 0.0, \"val_sparse_categorical_accuracy\": 1.0, \"epoch\": 124}, {\"loss\": 0.0, \"sparse_categorical_accuracy\": 1.0, \"val_loss\": 0.0, \"val_sparse_categorical_accuracy\": 1.0, \"epoch\": 125}])"
      ],
      "text/plain": [
       "<IPython.core.display.Javascript object>"
      ]
     },
     "metadata": {},
     "output_type": "display_data"
    },
    {
     "data": {
      "application/javascript": [
       "window.appendLearningGraphData([{\"loss\": 0.0, \"sparse_categorical_accuracy\": 1.0, \"val_loss\": 0.0, \"val_sparse_categorical_accuracy\": 1.0, \"epoch\": 126}, {\"loss\": 0.0, \"sparse_categorical_accuracy\": 1.0, \"val_loss\": 0.0, \"val_sparse_categorical_accuracy\": 1.0, \"epoch\": 127}, {\"loss\": 0.0, \"sparse_categorical_accuracy\": 1.0, \"val_loss\": 0.0, \"val_sparse_categorical_accuracy\": 1.0, \"epoch\": 128}, {\"loss\": 0.0, \"sparse_categorical_accuracy\": 1.0, \"val_loss\": 0.0, \"val_sparse_categorical_accuracy\": 1.0, \"epoch\": 129}, {\"loss\": 0.0, \"sparse_categorical_accuracy\": 1.0, \"val_loss\": 0.0, \"val_sparse_categorical_accuracy\": 1.0, \"epoch\": 130}])"
      ],
      "text/plain": [
       "<IPython.core.display.Javascript object>"
      ]
     },
     "metadata": {},
     "output_type": "display_data"
    },
    {
     "data": {
      "application/javascript": [
       "window.appendLearningGraphData([{\"loss\": 0.0, \"sparse_categorical_accuracy\": 1.0, \"val_loss\": 0.0, \"val_sparse_categorical_accuracy\": 1.0, \"epoch\": 131}, {\"loss\": 0.0, \"sparse_categorical_accuracy\": 1.0, \"val_loss\": 0.0, \"val_sparse_categorical_accuracy\": 1.0, \"epoch\": 132}, {\"loss\": 0.0, \"sparse_categorical_accuracy\": 1.0, \"val_loss\": 0.0, \"val_sparse_categorical_accuracy\": 1.0, \"epoch\": 133}, {\"loss\": 0.0, \"sparse_categorical_accuracy\": 1.0, \"val_loss\": 0.0, \"val_sparse_categorical_accuracy\": 1.0, \"epoch\": 134}, {\"loss\": 0.0, \"sparse_categorical_accuracy\": 1.0, \"val_loss\": 0.0, \"val_sparse_categorical_accuracy\": 1.0, \"epoch\": 135}])"
      ],
      "text/plain": [
       "<IPython.core.display.Javascript object>"
      ]
     },
     "metadata": {},
     "output_type": "display_data"
    },
    {
     "data": {
      "application/javascript": [
       "window.appendLearningGraphData([{\"loss\": 0.0, \"sparse_categorical_accuracy\": 1.0, \"val_loss\": 0.0, \"val_sparse_categorical_accuracy\": 1.0, \"epoch\": 136}, {\"loss\": 0.0, \"sparse_categorical_accuracy\": 1.0, \"val_loss\": 0.0, \"val_sparse_categorical_accuracy\": 1.0, \"epoch\": 137}, {\"loss\": 0.0, \"sparse_categorical_accuracy\": 1.0, \"val_loss\": 0.0, \"val_sparse_categorical_accuracy\": 1.0, \"epoch\": 138}, {\"loss\": 0.0, \"sparse_categorical_accuracy\": 1.0, \"val_loss\": 0.0, \"val_sparse_categorical_accuracy\": 1.0, \"epoch\": 139}, {\"loss\": 0.0, \"sparse_categorical_accuracy\": 1.0, \"val_loss\": 0.0, \"val_sparse_categorical_accuracy\": 1.0, \"epoch\": 140}])"
      ],
      "text/plain": [
       "<IPython.core.display.Javascript object>"
      ]
     },
     "metadata": {},
     "output_type": "display_data"
    },
    {
     "data": {
      "application/javascript": [
       "window.appendLearningGraphData([{\"loss\": 0.0, \"sparse_categorical_accuracy\": 1.0, \"val_loss\": 0.0, \"val_sparse_categorical_accuracy\": 1.0, \"epoch\": 141}, {\"loss\": 0.0, \"sparse_categorical_accuracy\": 1.0, \"val_loss\": 0.0, \"val_sparse_categorical_accuracy\": 1.0, \"epoch\": 142}, {\"loss\": 0.0, \"sparse_categorical_accuracy\": 1.0, \"val_loss\": 0.0, \"val_sparse_categorical_accuracy\": 1.0, \"epoch\": 143}, {\"loss\": 0.0, \"sparse_categorical_accuracy\": 1.0, \"val_loss\": 0.0, \"val_sparse_categorical_accuracy\": 1.0, \"epoch\": 144}, {\"loss\": 0.0, \"sparse_categorical_accuracy\": 1.0, \"val_loss\": 0.0, \"val_sparse_categorical_accuracy\": 1.0, \"epoch\": 145}])"
      ],
      "text/plain": [
       "<IPython.core.display.Javascript object>"
      ]
     },
     "metadata": {},
     "output_type": "display_data"
    },
    {
     "data": {
      "application/javascript": [
       "window.appendLearningGraphData([{\"loss\": 0.0, \"sparse_categorical_accuracy\": 1.0, \"val_loss\": 0.0, \"val_sparse_categorical_accuracy\": 1.0, \"epoch\": 146}, {\"loss\": 0.0, \"sparse_categorical_accuracy\": 1.0, \"val_loss\": 0.0, \"val_sparse_categorical_accuracy\": 1.0, \"epoch\": 147}, {\"loss\": 0.0, \"sparse_categorical_accuracy\": 1.0, \"val_loss\": 0.0, \"val_sparse_categorical_accuracy\": 1.0, \"epoch\": 148}, {\"loss\": 0.0, \"sparse_categorical_accuracy\": 1.0, \"val_loss\": 0.0, \"val_sparse_categorical_accuracy\": 1.0, \"epoch\": 149}, {\"loss\": 0.0, \"sparse_categorical_accuracy\": 1.0, \"val_loss\": 0.0, \"val_sparse_categorical_accuracy\": 1.0, \"epoch\": 150}])"
      ],
      "text/plain": [
       "<IPython.core.display.Javascript object>"
      ]
     },
     "metadata": {},
     "output_type": "display_data"
    },
    {
     "data": {
      "application/javascript": [
       "window.appendLearningGraphData([{\"loss\": 0.0, \"sparse_categorical_accuracy\": 1.0, \"val_loss\": 0.0, \"val_sparse_categorical_accuracy\": 1.0, \"epoch\": 151}, {\"loss\": 0.0, \"sparse_categorical_accuracy\": 1.0, \"val_loss\": 0.0, \"val_sparse_categorical_accuracy\": 1.0, \"epoch\": 152}, {\"loss\": 0.0, \"sparse_categorical_accuracy\": 1.0, \"val_loss\": 0.0, \"val_sparse_categorical_accuracy\": 1.0, \"epoch\": 153}, {\"loss\": 0.0, \"sparse_categorical_accuracy\": 1.0, \"val_loss\": 0.0, \"val_sparse_categorical_accuracy\": 1.0, \"epoch\": 154}, {\"loss\": 0.0, \"sparse_categorical_accuracy\": 1.0, \"val_loss\": 0.0, \"val_sparse_categorical_accuracy\": 1.0, \"epoch\": 155}])"
      ],
      "text/plain": [
       "<IPython.core.display.Javascript object>"
      ]
     },
     "metadata": {},
     "output_type": "display_data"
    },
    {
     "data": {
      "application/javascript": [
       "window.appendLearningGraphData([{\"loss\": 0.0, \"sparse_categorical_accuracy\": 1.0, \"val_loss\": 0.0, \"val_sparse_categorical_accuracy\": 1.0, \"epoch\": 156}, {\"loss\": 0.0, \"sparse_categorical_accuracy\": 1.0, \"val_loss\": 0.0, \"val_sparse_categorical_accuracy\": 1.0, \"epoch\": 157}, {\"loss\": 0.0, \"sparse_categorical_accuracy\": 1.0, \"val_loss\": 0.0, \"val_sparse_categorical_accuracy\": 1.0, \"epoch\": 158}, {\"loss\": 0.0, \"sparse_categorical_accuracy\": 1.0, \"val_loss\": 0.0, \"val_sparse_categorical_accuracy\": 1.0, \"epoch\": 159}, {\"loss\": 0.0, \"sparse_categorical_accuracy\": 1.0, \"val_loss\": 0.0, \"val_sparse_categorical_accuracy\": 1.0, \"epoch\": 160}])"
      ],
      "text/plain": [
       "<IPython.core.display.Javascript object>"
      ]
     },
     "metadata": {},
     "output_type": "display_data"
    },
    {
     "data": {
      "application/javascript": [
       "window.appendLearningGraphData([{\"loss\": 0.0, \"sparse_categorical_accuracy\": 1.0, \"val_loss\": 0.0, \"val_sparse_categorical_accuracy\": 1.0, \"epoch\": 161}, {\"loss\": 0.0, \"sparse_categorical_accuracy\": 1.0, \"val_loss\": 0.0, \"val_sparse_categorical_accuracy\": 1.0, \"epoch\": 162}, {\"loss\": 0.0, \"sparse_categorical_accuracy\": 1.0, \"val_loss\": 0.0, \"val_sparse_categorical_accuracy\": 1.0, \"epoch\": 163}, {\"loss\": 0.0, \"sparse_categorical_accuracy\": 1.0, \"val_loss\": 0.0, \"val_sparse_categorical_accuracy\": 1.0, \"epoch\": 164}, {\"loss\": 0.0, \"sparse_categorical_accuracy\": 1.0, \"val_loss\": 0.0, \"val_sparse_categorical_accuracy\": 1.0, \"epoch\": 165}])"
      ],
      "text/plain": [
       "<IPython.core.display.Javascript object>"
      ]
     },
     "metadata": {},
     "output_type": "display_data"
    },
    {
     "data": {
      "application/javascript": [
       "window.appendLearningGraphData([{\"loss\": 0.0, \"sparse_categorical_accuracy\": 1.0, \"val_loss\": 0.0, \"val_sparse_categorical_accuracy\": 1.0, \"epoch\": 166}, {\"loss\": 0.0, \"sparse_categorical_accuracy\": 1.0, \"val_loss\": 0.0, \"val_sparse_categorical_accuracy\": 1.0, \"epoch\": 167}, {\"loss\": 0.0, \"sparse_categorical_accuracy\": 1.0, \"val_loss\": 0.0, \"val_sparse_categorical_accuracy\": 1.0, \"epoch\": 168}, {\"loss\": 0.0, \"sparse_categorical_accuracy\": 1.0, \"val_loss\": 0.0, \"val_sparse_categorical_accuracy\": 1.0, \"epoch\": 169}, {\"loss\": 0.0, \"sparse_categorical_accuracy\": 1.0, \"val_loss\": 0.0, \"val_sparse_categorical_accuracy\": 1.0, \"epoch\": 170}])"
      ],
      "text/plain": [
       "<IPython.core.display.Javascript object>"
      ]
     },
     "metadata": {},
     "output_type": "display_data"
    },
    {
     "data": {
      "application/javascript": [
       "window.appendLearningGraphData([{\"loss\": 0.0, \"sparse_categorical_accuracy\": 1.0, \"val_loss\": 0.0, \"val_sparse_categorical_accuracy\": 1.0, \"epoch\": 171}, {\"loss\": 0.0, \"sparse_categorical_accuracy\": 1.0, \"val_loss\": 0.0, \"val_sparse_categorical_accuracy\": 1.0, \"epoch\": 172}, {\"loss\": 0.0, \"sparse_categorical_accuracy\": 1.0, \"val_loss\": 0.0, \"val_sparse_categorical_accuracy\": 1.0, \"epoch\": 173}, {\"loss\": 0.0, \"sparse_categorical_accuracy\": 1.0, \"val_loss\": 0.0, \"val_sparse_categorical_accuracy\": 1.0, \"epoch\": 174}, {\"loss\": 0.0, \"sparse_categorical_accuracy\": 1.0, \"val_loss\": 0.0, \"val_sparse_categorical_accuracy\": 1.0, \"epoch\": 175}])"
      ],
      "text/plain": [
       "<IPython.core.display.Javascript object>"
      ]
     },
     "metadata": {},
     "output_type": "display_data"
    },
    {
     "data": {
      "application/javascript": [
       "window.appendLearningGraphData([{\"loss\": 0.0, \"sparse_categorical_accuracy\": 1.0, \"val_loss\": 0.0, \"val_sparse_categorical_accuracy\": 1.0, \"epoch\": 176}, {\"loss\": 0.0, \"sparse_categorical_accuracy\": 1.0, \"val_loss\": 0.0, \"val_sparse_categorical_accuracy\": 1.0, \"epoch\": 177}, {\"loss\": 0.0, \"sparse_categorical_accuracy\": 1.0, \"val_loss\": 0.0, \"val_sparse_categorical_accuracy\": 1.0, \"epoch\": 178}, {\"loss\": 0.0, \"sparse_categorical_accuracy\": 1.0, \"val_loss\": 0.0, \"val_sparse_categorical_accuracy\": 1.0, \"epoch\": 179}, {\"loss\": 0.0, \"sparse_categorical_accuracy\": 1.0, \"val_loss\": 0.0, \"val_sparse_categorical_accuracy\": 1.0, \"epoch\": 180}])"
      ],
      "text/plain": [
       "<IPython.core.display.Javascript object>"
      ]
     },
     "metadata": {},
     "output_type": "display_data"
    },
    {
     "data": {
      "application/javascript": [
       "window.appendLearningGraphData([{\"loss\": 0.0, \"sparse_categorical_accuracy\": 1.0, \"val_loss\": 0.0, \"val_sparse_categorical_accuracy\": 1.0, \"epoch\": 181}, {\"loss\": 0.0, \"sparse_categorical_accuracy\": 1.0, \"val_loss\": 0.0, \"val_sparse_categorical_accuracy\": 1.0, \"epoch\": 182}, {\"loss\": 0.0, \"sparse_categorical_accuracy\": 1.0, \"val_loss\": 0.0, \"val_sparse_categorical_accuracy\": 1.0, \"epoch\": 183}, {\"loss\": 0.0, \"sparse_categorical_accuracy\": 1.0, \"val_loss\": 0.0, \"val_sparse_categorical_accuracy\": 1.0, \"epoch\": 184}, {\"loss\": 0.0, \"sparse_categorical_accuracy\": 1.0, \"val_loss\": 0.0, \"val_sparse_categorical_accuracy\": 1.0, \"epoch\": 185}])"
      ],
      "text/plain": [
       "<IPython.core.display.Javascript object>"
      ]
     },
     "metadata": {},
     "output_type": "display_data"
    },
    {
     "data": {
      "application/javascript": [
       "window.appendLearningGraphData([{\"loss\": 0.0, \"sparse_categorical_accuracy\": 1.0, \"val_loss\": 0.0, \"val_sparse_categorical_accuracy\": 1.0, \"epoch\": 186}, {\"loss\": 0.0, \"sparse_categorical_accuracy\": 1.0, \"val_loss\": 0.0, \"val_sparse_categorical_accuracy\": 1.0, \"epoch\": 187}, {\"loss\": 0.0, \"sparse_categorical_accuracy\": 1.0, \"val_loss\": 0.0, \"val_sparse_categorical_accuracy\": 1.0, \"epoch\": 188}, {\"loss\": 0.0, \"sparse_categorical_accuracy\": 1.0, \"val_loss\": 0.0, \"val_sparse_categorical_accuracy\": 1.0, \"epoch\": 189}, {\"loss\": 0.0, \"sparse_categorical_accuracy\": 1.0, \"val_loss\": 0.0, \"val_sparse_categorical_accuracy\": 1.0, \"epoch\": 190}])"
      ],
      "text/plain": [
       "<IPython.core.display.Javascript object>"
      ]
     },
     "metadata": {},
     "output_type": "display_data"
    },
    {
     "data": {
      "application/javascript": [
       "window.appendLearningGraphData([{\"loss\": 0.0, \"sparse_categorical_accuracy\": 1.0, \"val_loss\": 0.0, \"val_sparse_categorical_accuracy\": 1.0, \"epoch\": 191}, {\"loss\": 0.0, \"sparse_categorical_accuracy\": 1.0, \"val_loss\": 0.0, \"val_sparse_categorical_accuracy\": 1.0, \"epoch\": 192}, {\"loss\": 0.0, \"sparse_categorical_accuracy\": 1.0, \"val_loss\": 0.0, \"val_sparse_categorical_accuracy\": 1.0, \"epoch\": 193}, {\"loss\": 0.0, \"sparse_categorical_accuracy\": 1.0, \"val_loss\": 0.0, \"val_sparse_categorical_accuracy\": 1.0, \"epoch\": 194}, {\"loss\": 0.0, \"sparse_categorical_accuracy\": 1.0, \"val_loss\": 0.0, \"val_sparse_categorical_accuracy\": 1.0, \"epoch\": 195}])"
      ],
      "text/plain": [
       "<IPython.core.display.Javascript object>"
      ]
     },
     "metadata": {},
     "output_type": "display_data"
    },
    {
     "data": {
      "application/javascript": [
       "window.appendLearningGraphData([{\"loss\": 0.0, \"sparse_categorical_accuracy\": 1.0, \"val_loss\": 0.0, \"val_sparse_categorical_accuracy\": 1.0, \"epoch\": 196}, {\"loss\": 0.0, \"sparse_categorical_accuracy\": 1.0, \"val_loss\": 0.0, \"val_sparse_categorical_accuracy\": 1.0, \"epoch\": 197}, {\"loss\": 0.0, \"sparse_categorical_accuracy\": 1.0, \"val_loss\": 0.0, \"val_sparse_categorical_accuracy\": 1.0, \"epoch\": 198}, {\"loss\": 0.0, \"sparse_categorical_accuracy\": 1.0, \"val_loss\": 0.0, \"val_sparse_categorical_accuracy\": 1.0, \"epoch\": 199}])"
      ],
      "text/plain": [
       "<IPython.core.display.Javascript object>"
      ]
     },
     "metadata": {},
     "output_type": "display_data"
    }
   ],
   "source": [
    "from nodeconfeu_watch.visual import KerasLivePlot\n",
    "\n",
    "history = model.fit(dataset.train.x, dataset.train.y,\n",
    "                    batch_size=64,\n",
    "                    epochs=200,\n",
    "                    verbose=0,\n",
    "                    validation_data=(dataset.validation.x, dataset.validation.y),\n",
    "                    callbacks=[KerasLivePlot()])"
   ]
  },
  {
   "cell_type": "markdown",
   "metadata": {
    "colab_type": "text",
    "id": "2rKNmfE6RbxU"
   },
   "source": [
    "## Evaluate model"
   ]
  },
  {
   "cell_type": "markdown",
   "metadata": {
    "colab_type": "text",
    "id": "TQVqqSLquHV-"
   },
   "source": [
    "There is not a single way to [measure the quality of a model](https://en.wikipedia.org/wiki/Precision_and_recall). Precision can get a high score by under-classifying, and recall can get a high score by over-classifying. The F1-score attempts to achieve the best of both worlds.\n",
    "\n",
    "If you are looking for a high-quality model, a high F1-score is a reasonable metric. The precision and recall may provide you additional information on why the F1-score is not high.\n",
    "\n",
    "The default model and dataset should give you an F1-score of approximately 96-99%."
   ]
  },
  {
   "cell_type": "code",
   "execution_count": 10,
   "metadata": {
    "colab": {},
    "colab_type": "code",
    "id": "g2aYZ_dy4ePf"
   },
   "outputs": [
    {
     "name": "stdout",
     "output_type": "stream",
     "text": [
      "              precision    recall  f1-score   support\n",
      "\n",
      "         fly     1.0000    1.0000    1.0000        13\n",
      "\n",
      "    accuracy                         1.0000        13\n",
      "   macro avg     1.0000    1.0000    1.0000        13\n",
      "weighted avg     1.0000    1.0000    1.0000        13\n",
      "\n"
     ]
    }
   ],
   "source": [
    "from nodeconfeu_watch.visual import classification_report\n",
    "\n",
    "print(classification_report(model, dataset, subset='validation'))"
   ]
  },
  {
   "cell_type": "markdown",
   "metadata": {
    "colab_type": "text",
    "id": "PYAdzV7k6mr6"
   },
   "source": [
    "## Export model"
   ]
  },
  {
   "cell_type": "markdown",
   "metadata": {
    "colab_type": "text",
    "id": "EPDrJK-eylz_"
   },
   "source": [
    "To run the model on the watch, you need to export the model to the TFLite format, this is a [flatbuffer schema](https://google.github.io/flatbuffers/) defined in [`tensorflow/lite/schema/`](https://github.com/tensorflow/tensorflow/blob/master/tensorflow/lite/schema/schema.fbs). While this format [supports many operations](https://www.tensorflow.org/lite/guide/ops_compatibility), TFLite for Microcontrollers does not support that many operations. The `ExportModel` abstraction attempts to assert these restrictions for you, but you may encounter additional issues if you use alternative layers in the model definition."
   ]
  },
  {
   "cell_type": "markdown",
   "metadata": {
    "colab_type": "text",
    "id": "FPtrSov85paZ"
   },
   "source": [
    "### Not-quantized exporting"
   ]
  },
  {
   "cell_type": "markdown",
   "metadata": {
    "colab_type": "text",
    "id": "bvuAe3u80qA0"
   },
   "source": [
    "The simplest approach to exporting the model is to just export the model as is. However, this does waste some space as models use `float32` weights. This normal and not a big issue when executing models in the cloud, however when executing models on a microprocessor size matters and floating-point operations typically takes many CPU-cycles to compute. To reduce the size and improve computation speed, a model is therefore typically quantized."
   ]
  },
  {
   "cell_type": "code",
   "execution_count": 11,
   "metadata": {
    "colab": {},
    "colab_type": "code",
    "id": "5lZa7_pT5g6O"
   },
   "outputs": [
    {
     "name": "stdout",
     "output_type": "stream",
     "text": [
      "              precision    recall  f1-score   support\n",
      "\n",
      "         fly     1.0000    1.0000    1.0000        13\n",
      "\n",
      "    accuracy                         1.0000        13\n",
      "   macro avg     1.0000    1.0000    1.0000        13\n",
      "weighted avg     1.0000    1.0000    1.0000        13\n",
      "\n",
      "Not-quantized model\n",
      "  modelsize 2.94921875KB\n",
      "  areasize: ~4.578125KB\n",
      "  total: ~7.52734375KB\n"
     ]
    }
   ],
   "source": [
    "from nodeconfeu_watch.convert import ExportModel\n",
    "\n",
    "exporter_raw = ExportModel(model, dataset, quantize=False)\n",
    "print(classification_report(model, dataset, subset='test'))\n",
    "print(exporter_raw.size_report())\n",
    "exporter_raw.save('exports/model_not_quantized.tflite')"
   ]
  },
  {
   "cell_type": "markdown",
   "metadata": {
    "colab_type": "text",
    "id": "Zw8b-PGm51wB"
   },
   "source": [
    "### Quantized exporting"
   ]
  },
  {
   "cell_type": "markdown",
   "metadata": {
    "colab_type": "text",
    "id": "LcjY3mNz1hkz"
   },
   "source": [
    "Quantizing converting floating-point weights to something more categorical in this case an `int8`. This conversion is more complicated than just casting the value, as the weights may be outside of the `int8` range; `[-127,127]`. This conversion can reduce accuracy, but the model usually remains quite accurate.\n",
    "\n",
    "You can read more about the process here, in the [tensorflow documentation](https://www.tensorflow.org/lite/performance/post_training_quantization#representation_for_quantized_tensors), as well as [the TensorFlow paper on quantization](https://arxiv.org/abs/1712.05877)."
   ]
  },
  {
   "cell_type": "code",
   "execution_count": 12,
   "metadata": {
    "colab": {},
    "colab_type": "code",
    "id": "X8jT9zXe53f4"
   },
   "outputs": [
    {
     "name": "stdout",
     "output_type": "stream",
     "text": [
      "              precision    recall  f1-score   support\n",
      "\n",
      "         fly     1.0000    1.0000    1.0000        13\n",
      "\n",
      "    accuracy                         1.0000        13\n",
      "   macro avg     1.0000    1.0000    1.0000        13\n",
      "weighted avg     1.0000    1.0000    1.0000        13\n",
      "\n",
      "Quantized model\n",
      "  modelsize 3.515625KB\n",
      "  areasize: ~1.90625KB\n",
      "  total: ~5.421875KB\n"
     ]
    }
   ],
   "source": [
    "from nodeconfeu_watch.convert import ExportModel\n",
    "\n",
    "exporter_quant = ExportModel(model, dataset, quantize=True)\n",
    "print(classification_report(model, dataset, subset='test'))\n",
    "print(exporter_quant.size_report())\n",
    "exporter_quant.save('exports/fly_quantized.tflite')"
   ]
  },
  {
   "cell_type": "markdown",
   "metadata": {
    "colab_type": "text",
    "id": "HWuDATGT6roq"
   },
   "source": [
    "### Transfer the model to your Bangle.js"
   ]
  },
  {
   "cell_type": "markdown",
   "metadata": {
    "colab_type": "text",
    "id": "aoZGo9Rp_jm5"
   },
   "source": [
    "Finally, you can upload the model to your watch. The easiest way is to run the code below and paste its output into the Left-Hand-Side REPL in the Espruino Wed IDE whilst its connected to the Bangle.js. Alternatively you can download it from the `exports/` directory."
   ]
  },
  {
   "cell_type": "code",
   "execution_count": 15,
   "metadata": {
    "colab": {},
    "colab_type": "code",
    "id": "hEcPqRap6ssG"
   },
   "outputs": [
    {
     "name": "stdout",
     "output_type": "stream",
     "text": [
      "require(\"Storage\").write(\"tfmodel\",atob(\"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\"));\n"
     ]
    }
   ],
   "source": [
    "print(f'require(\"Storage\").write(\"tfmodel\",atob(\"{exporter_quant.base64()}\"));')"
   ]
  },
  {
   "cell_type": "code",
   "execution_count": null,
   "metadata": {},
   "outputs": [],
   "source": []
  }
 ],
 "metadata": {
  "colab": {
   "collapsed_sections": [],
   "name": "NodeConfEU - Create gesture model",
   "provenance": [],
   "toc_visible": true
  },
  "kernelspec": {
   "display_name": "Python 3",
   "language": "python",
   "name": "python3"
  },
  "language_info": {
   "codemirror_mode": {
    "name": "ipython",
    "version": 3
   },
   "file_extension": ".py",
   "mimetype": "text/x-python",
   "name": "python",
   "nbconvert_exporter": "python",
   "pygments_lexer": "ipython3",
   "version": "3.7.5"
  }
 },
 "nbformat": 4,
 "nbformat_minor": 1
}
